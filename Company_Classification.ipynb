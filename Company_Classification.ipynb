{
  "nbformat": 4,
  "nbformat_minor": 0,
  "metadata": {
    "colab": {
      "name": "Company Classification.ipynb",
      "provenance": [],
      "mount_file_id": "17JsI0EXYf9PSP60tvMujmiNjsWxgX2KY",
      "authorship_tag": "ABX9TyM/JM2GdCUF0FedROWyK9ma",
      "include_colab_link": true
    },
    "kernelspec": {
      "name": "python3",
      "display_name": "Python 3"
    },
    "language_info": {
      "name": "python"
    }
  },
  "cells": [
    {
      "cell_type": "markdown",
      "metadata": {
        "id": "view-in-github",
        "colab_type": "text"
      },
      "source": [
        "<a href=\"https://colab.research.google.com/github/priyanships31/Company_Classification/blob/main/Company_Classification.ipynb\" target=\"_parent\"><img src=\"https://colab.research.google.com/assets/colab-badge.svg\" alt=\"Open In Colab\"/></a>"
      ]
    },
    {
      "cell_type": "code",
      "metadata": {
        "id": "WinQMkMv-H7U"
      },
      "source": [
        "import pandas as pd\n",
        "import string\n",
        "from sklearn.feature_extraction.text import CountVectorizer, TfidfVectorizer\n",
        "from nltk.stem.snowball import SnowballStemmer\n"
      ],
      "execution_count": 57,
      "outputs": []
    },
    {
      "cell_type": "code",
      "metadata": {
        "id": "EGFFOrGj-ZDX"
      },
      "source": [
        "data = pd.read_csv('/content/drive/MyDrive/AlmaBetter/Cohort Nilgiri/Module 4/Capstone Project/Company Classification/data_company_classification.csv')"
      ],
      "execution_count": 62,
      "outputs": []
    },
    {
      "cell_type": "code",
      "metadata": {
        "colab": {
          "base_uri": "https://localhost:8080/"
        },
        "id": "ma7GoSXe_S76",
        "outputId": "1773fc1e-3f6a-40c5-da1d-cfd743cf900e"
      },
      "source": [
        "data.info()"
      ],
      "execution_count": 63,
      "outputs": [
        {
          "output_type": "stream",
          "text": [
            "<class 'pandas.core.frame.DataFrame'>\n",
            "RangeIndex: 73974 entries, 0 to 73973\n",
            "Data columns (total 9 columns):\n",
            " #   Column            Non-Null Count  Dtype \n",
            "---  ------            --------------  ----- \n",
            " 0   website           73974 non-null  object\n",
            " 1   company_name      73974 non-null  object\n",
            " 2   homepage_text     73305 non-null  object\n",
            " 3   h1                46653 non-null  object\n",
            " 4   h2                53212 non-null  object\n",
            " 5   h3                44659 non-null  object\n",
            " 6   nav_link_text     48050 non-null  object\n",
            " 7   meta_keywords     23672 non-null  object\n",
            " 8   meta_description  66886 non-null  object\n",
            "dtypes: object(9)\n",
            "memory usage: 5.1+ MB\n"
          ],
          "name": "stdout"
        }
      ]
    },
    {
      "cell_type": "code",
      "metadata": {
        "colab": {
          "base_uri": "https://localhost:8080/"
        },
        "id": "2nQrqn90_c3q",
        "outputId": "56c6be2f-9b72-4337-a298-c91cf5dcd00d"
      },
      "source": [
        "data.shape"
      ],
      "execution_count": 64,
      "outputs": [
        {
          "output_type": "execute_result",
          "data": {
            "text/plain": [
              "(73974, 9)"
            ]
          },
          "metadata": {
            "tags": []
          },
          "execution_count": 64
        }
      ]
    },
    {
      "cell_type": "code",
      "metadata": {
        "colab": {
          "base_uri": "https://localhost:8080/",
          "height": 364
        },
        "id": "vp0FnW3b_1qq",
        "outputId": "4875deda-f29a-4fc3-a62a-d70a24011ad0"
      },
      "source": [
        "data.head()"
      ],
      "execution_count": 65,
      "outputs": [
        {
          "output_type": "execute_result",
          "data": {
            "text/html": [
              "<div>\n",
              "<style scoped>\n",
              "    .dataframe tbody tr th:only-of-type {\n",
              "        vertical-align: middle;\n",
              "    }\n",
              "\n",
              "    .dataframe tbody tr th {\n",
              "        vertical-align: top;\n",
              "    }\n",
              "\n",
              "    .dataframe thead th {\n",
              "        text-align: right;\n",
              "    }\n",
              "</style>\n",
              "<table border=\"1\" class=\"dataframe\">\n",
              "  <thead>\n",
              "    <tr style=\"text-align: right;\">\n",
              "      <th></th>\n",
              "      <th>website</th>\n",
              "      <th>company_name</th>\n",
              "      <th>homepage_text</th>\n",
              "      <th>h1</th>\n",
              "      <th>h2</th>\n",
              "      <th>h3</th>\n",
              "      <th>nav_link_text</th>\n",
              "      <th>meta_keywords</th>\n",
              "      <th>meta_description</th>\n",
              "    </tr>\n",
              "  </thead>\n",
              "  <tbody>\n",
              "    <tr>\n",
              "      <th>0</th>\n",
              "      <td>bipelectric.com</td>\n",
              "      <td>bip dipietro electric inc</td>\n",
              "      <td>Electrici...</td>\n",
              "      <td>NaN</td>\n",
              "      <td>NaN</td>\n",
              "      <td>NaN</td>\n",
              "      <td>NaN</td>\n",
              "      <td>electricians vero beach, vero beach electrical...</td>\n",
              "      <td>Providing quality, reliable full service resid...</td>\n",
              "    </tr>\n",
              "    <tr>\n",
              "      <th>1</th>\n",
              "      <td>eliasmedical.com</td>\n",
              "      <td>elias medical</td>\n",
              "      <td>site map | en español    Elias Medical   h...</td>\n",
              "      <td>Offering Bakersfield family medical care from ...</td>\n",
              "      <td>Welcome to ELIAS MEDICAL#sep#Family Medical Pr...</td>\n",
              "      <td>Get To Know Elias Medical#sep#Family Medical P...</td>\n",
              "      <td>NaN</td>\n",
              "      <td>Elias Medical bakersfield ca family doctor med...</td>\n",
              "      <td>For the best value in Bakersfield skin care tr...</td>\n",
              "    </tr>\n",
              "    <tr>\n",
              "      <th>2</th>\n",
              "      <td>koopsoverheaddoors.com</td>\n",
              "      <td>koops overhead doors</td>\n",
              "      <td>Home  About Us  Garage Door Repair &amp; Servi...</td>\n",
              "      <td>NaN</td>\n",
              "      <td>Customer Reviews#sep#Welcome to Koops Overhead...</td>\n",
              "      <td>NaN</td>\n",
              "      <td>NaN</td>\n",
              "      <td>Koops Overhead Doors, Albany Garage Doors, Tro...</td>\n",
              "      <td>Koops Overhead Doors specializes in the sales,...</td>\n",
              "    </tr>\n",
              "    <tr>\n",
              "      <th>3</th>\n",
              "      <td>midtowneyes.com</td>\n",
              "      <td>midtown eyecare</td>\n",
              "      <td>918-599-0202        Type Size...</td>\n",
              "      <td>NaN</td>\n",
              "      <td>Welcome to our practice!</td>\n",
              "      <td>NaN</td>\n",
              "      <td>NaN</td>\n",
              "      <td>NaN</td>\n",
              "      <td>We would like to welcome you to Midtown Eyecar...</td>\n",
              "    </tr>\n",
              "    <tr>\n",
              "      <th>4</th>\n",
              "      <td>reprosecurity.co.uk</td>\n",
              "      <td>repro security ltd</td>\n",
              "      <td>Simply fill out our form below...</td>\n",
              "      <td>NaN</td>\n",
              "      <td>Welcome to REPRO SECURITY Ltd</td>\n",
              "      <td>NaN</td>\n",
              "      <td>NaN</td>\n",
              "      <td>NaN</td>\n",
              "      <td>Repro Security provide a range of tailor made ...</td>\n",
              "    </tr>\n",
              "  </tbody>\n",
              "</table>\n",
              "</div>"
            ],
            "text/plain": [
              "                  website  ...                                   meta_description\n",
              "0         bipelectric.com  ...  Providing quality, reliable full service resid...\n",
              "1        eliasmedical.com  ...  For the best value in Bakersfield skin care tr...\n",
              "2  koopsoverheaddoors.com  ...  Koops Overhead Doors specializes in the sales,...\n",
              "3         midtowneyes.com  ...  We would like to welcome you to Midtown Eyecar...\n",
              "4     reprosecurity.co.uk  ...  Repro Security provide a range of tailor made ...\n",
              "\n",
              "[5 rows x 9 columns]"
            ]
          },
          "metadata": {
            "tags": []
          },
          "execution_count": 65
        }
      ]
    },
    {
      "cell_type": "markdown",
      "metadata": {
        "id": "92OtWqZLQAat"
      },
      "source": [
        "## Missing value treatment"
      ]
    },
    {
      "cell_type": "code",
      "metadata": {
        "id": "4Cn339VCRqg_"
      },
      "source": [
        "# removing rows with missing values\n",
        "\n",
        "data = data.dropna()"
      ],
      "execution_count": 72,
      "outputs": []
    },
    {
      "cell_type": "code",
      "metadata": {
        "colab": {
          "base_uri": "https://localhost:8080/"
        },
        "id": "bUWX3MBLR1-X",
        "outputId": "919f5482-1a3d-4a96-bb1e-cdf8679f790b"
      },
      "source": [
        "data.info()"
      ],
      "execution_count": 73,
      "outputs": [
        {
          "output_type": "stream",
          "text": [
            "<class 'pandas.core.frame.DataFrame'>\n",
            "Int64Index: 4041 entries, 20 to 73944\n",
            "Data columns (total 9 columns):\n",
            " #   Column            Non-Null Count  Dtype \n",
            "---  ------            --------------  ----- \n",
            " 0   website           4041 non-null   object\n",
            " 1   company_name      4041 non-null   object\n",
            " 2   homepage_text     4041 non-null   object\n",
            " 3   h1                4041 non-null   object\n",
            " 4   h2                4041 non-null   object\n",
            " 5   h3                4041 non-null   object\n",
            " 6   nav_link_text     4041 non-null   object\n",
            " 7   meta_keywords     4041 non-null   object\n",
            " 8   meta_description  4041 non-null   object\n",
            "dtypes: object(9)\n",
            "memory usage: 315.7+ KB\n"
          ],
          "name": "stdout"
        }
      ]
    },
    {
      "cell_type": "markdown",
      "metadata": {
        "id": "CVt0OM6NOQ29"
      },
      "source": [
        "## Removing Punctuations"
      ]
    },
    {
      "cell_type": "code",
      "metadata": {
        "id": "o6L-2JUNOPuf"
      },
      "source": [
        "def remove_punctuation(homepage_text):\n",
        "  try:\n",
        "    translator = str.maketrans('', '', string.punctuation)\n",
        "  except:\n",
        "    pass\n",
        "  return homepage_text.translate(translator)"
      ],
      "execution_count": 74,
      "outputs": []
    },
    {
      "cell_type": "code",
      "metadata": {
        "id": "KxAK1jmpOzFl"
      },
      "source": [
        "data['homepage_text'] = data['homepage_text'].apply(remove_punctuation)"
      ],
      "execution_count": 75,
      "outputs": []
    },
    {
      "cell_type": "code",
      "metadata": {
        "id": "z1khzqA2Oyxr"
      },
      "source": [
        "data['nav_link_text'] = data['nav_link_text'].apply(remove_punctuation)"
      ],
      "execution_count": 48,
      "outputs": []
    },
    {
      "cell_type": "markdown",
      "metadata": {
        "id": "sb6yuqgEOVIa"
      },
      "source": [
        "## Removing Numbers"
      ]
    },
    {
      "cell_type": "code",
      "metadata": {
        "id": "trH2nZDWOPrk"
      },
      "source": [
        "def numbers(text):\n",
        "  text = [i for i in text if not i.isdigit()]\n",
        "  return \"\".join(text)"
      ],
      "execution_count": 49,
      "outputs": []
    },
    {
      "cell_type": "code",
      "metadata": {
        "id": "qhu4y9x8SzuT"
      },
      "source": [
        "data['homepage_text'] = data['homepage_text'].apply(numbers)"
      ],
      "execution_count": 50,
      "outputs": []
    },
    {
      "cell_type": "code",
      "metadata": {
        "id": "Vb2kjjMTTvRa"
      },
      "source": [
        "data['nav_link_text'] = data['nav_link_text'].apply(numbers)"
      ],
      "execution_count": 51,
      "outputs": []
    },
    {
      "cell_type": "markdown",
      "metadata": {
        "id": "SVleF36zObKR"
      },
      "source": [
        "## Removing Stopwords"
      ]
    },
    {
      "cell_type": "code",
      "metadata": {
        "colab": {
          "base_uri": "https://localhost:8080/"
        },
        "id": "DmxHS17g_8PN",
        "outputId": "c582eb04-52a1-46ba-9575-368458c4b77b"
      },
      "source": [
        "import nltk\n",
        "nltk.download('stopwords')\n",
        "from nltk.corpus import stopwords\n"
      ],
      "execution_count": 52,
      "outputs": [
        {
          "output_type": "stream",
          "text": [
            "[nltk_data] Downloading package stopwords to /root/nltk_data...\n",
            "[nltk_data]   Unzipping corpora/stopwords.zip.\n"
          ],
          "name": "stdout"
        }
      ]
    },
    {
      "cell_type": "code",
      "metadata": {
        "id": "L6QWKsMPXXT0"
      },
      "source": [
        "stop_words = stopwords.words('english')"
      ],
      "execution_count": 53,
      "outputs": []
    },
    {
      "cell_type": "code",
      "metadata": {
        "id": "7UqXVGg8Xdwz"
      },
      "source": [
        "def stopwords(text):\n",
        "  text = [word.lower() for word in text.split() if word.lower() not in stop_words]\n",
        "  return \" \".join(text)"
      ],
      "execution_count": 54,
      "outputs": []
    },
    {
      "cell_type": "code",
      "metadata": {
        "id": "Ywcln1-pXq8q"
      },
      "source": [
        "data['homepage_text'] = data['homepage_text'].apply(stopwords)"
      ],
      "execution_count": 59,
      "outputs": []
    },
    {
      "cell_type": "code",
      "metadata": {
        "id": "i_UiWmyyXq8t"
      },
      "source": [
        "data['nav_link_text'] = data['nav_link_text'].apply(stopwords)"
      ],
      "execution_count": 56,
      "outputs": []
    },
    {
      "cell_type": "markdown",
      "metadata": {
        "id": "ARO6UjcEOj9m"
      },
      "source": [
        "## Stemming"
      ]
    },
    {
      "cell_type": "code",
      "metadata": {
        "id": "uULqNvg6AeZE"
      },
      "source": [
        "# create an object of stemming function\n",
        "stemmer = SnowballStemmer(\"english\")\n",
        "\n",
        "def stemming(text):    \n",
        "    '''a function which stems each word in the given text'''\n",
        "    text = [stemmer.stem(word) for word in text.split()]\n",
        "    return \" \".join(text) "
      ],
      "execution_count": 58,
      "outputs": []
    },
    {
      "cell_type": "code",
      "metadata": {
        "id": "BNtvrCmXYGVH"
      },
      "source": [
        ""
      ],
      "execution_count": null,
      "outputs": []
    },
    {
      "cell_type": "code",
      "metadata": {
        "id": "ajLxjDyjYaKB"
      },
      "source": [
        "data['homepage_text'] = data['homepage_text'].apply(stemming)"
      ],
      "execution_count": 60,
      "outputs": []
    },
    {
      "cell_type": "code",
      "metadata": {
        "id": "__2Zhar7YaKC"
      },
      "source": [
        "data['nav_link_text'] = data['nav_link_text'].apply(stemming)"
      ],
      "execution_count": 61,
      "outputs": []
    }
  ]
}