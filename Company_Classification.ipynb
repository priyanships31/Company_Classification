{
  "nbformat": 4,
  "nbformat_minor": 0,
  "metadata": {
    "colab": {
      "name": "Company Classification.ipynb",
      "provenance": [],
      "collapsed_sections": [],
      "mount_file_id": "17JsI0EXYf9PSP60tvMujmiNjsWxgX2KY",
      "authorship_tag": "ABX9TyMYoZGiYHGN31Kwvl9vwzMZ",
      "include_colab_link": true
    },
    "kernelspec": {
      "display_name": "Python 3",
      "name": "python3"
    },
    "language_info": {
      "name": "python"
    }
  },
  "cells": [
    {
      "cell_type": "markdown",
      "metadata": {
        "id": "view-in-github",
        "colab_type": "text"
      },
      "source": [
        "<a href=\"https://colab.research.google.com/github/priyanships31/Company_Classification/blob/main/Company_Classification.ipynb\" target=\"_parent\"><img src=\"https://colab.research.google.com/assets/colab-badge.svg\" alt=\"Open In Colab\"/></a>"
      ]
    },
    {
      "cell_type": "code",
      "metadata": {
        "id": "WinQMkMv-H7U"
      },
      "source": [
        "import pandas as pd\n",
        "import numpy as np\n",
        "from sklearn.cluster import KMeans\n",
        "import matplotlib.cm as cm\n",
        "import matplotlib.pyplot as plt\n",
        "# from kmeanstf import KMeansTF\n",
        "from scipy.spatial.distance import cdist\n",
        "import string\n",
        "from sklearn.feature_extraction.text import CountVectorizer, TfidfVectorizer\n",
        "from nltk.stem.snowball import SnowballStemmer\n",
        "from nltk.tokenize import sent_tokenize, word_tokenize\n"
      ],
      "execution_count": 102,
      "outputs": []
    },
    {
      "cell_type": "code",
      "metadata": {
        "id": "EGFFOrGj-ZDX"
      },
      "source": [
        "data = pd.read_csv('/content/drive/MyDrive/AlmaBetter/Cohort Nilgiri/Module 4/Capstone Project/Company Classification/data_company_classification.csv')"
      ],
      "execution_count": 103,
      "outputs": []
    },
    {
      "cell_type": "code",
      "metadata": {
        "colab": {
          "base_uri": "https://localhost:8080/"
        },
        "id": "ma7GoSXe_S76",
        "outputId": "3d8223f6-c4d2-4206-faf2-5377a6ea45f7"
      },
      "source": [
        "\n",
        "data.info()"
      ],
      "execution_count": 104,
      "outputs": [
        {
          "output_type": "stream",
          "text": [
            "<class 'pandas.core.frame.DataFrame'>\n",
            "RangeIndex: 73974 entries, 0 to 73973\n",
            "Data columns (total 9 columns):\n",
            " #   Column            Non-Null Count  Dtype \n",
            "---  ------            --------------  ----- \n",
            " 0   website           73974 non-null  object\n",
            " 1   company_name      73974 non-null  object\n",
            " 2   homepage_text     73305 non-null  object\n",
            " 3   h1                46653 non-null  object\n",
            " 4   h2                53212 non-null  object\n",
            " 5   h3                44659 non-null  object\n",
            " 6   nav_link_text     48050 non-null  object\n",
            " 7   meta_keywords     23672 non-null  object\n",
            " 8   meta_description  66886 non-null  object\n",
            "dtypes: object(9)\n",
            "memory usage: 5.1+ MB\n"
          ],
          "name": "stdout"
        }
      ]
    },
    {
      "cell_type": "code",
      "metadata": {
        "colab": {
          "base_uri": "https://localhost:8080/"
        },
        "id": "2nQrqn90_c3q",
        "outputId": "cb510858-ef89-42cc-b94f-10bee015e75e"
      },
      "source": [
        "data.shape"
      ],
      "execution_count": 105,
      "outputs": [
        {
          "output_type": "execute_result",
          "data": {
            "text/plain": [
              "(73974, 9)"
            ]
          },
          "metadata": {
            "tags": []
          },
          "execution_count": 105
        }
      ]
    },
    {
      "cell_type": "code",
      "metadata": {
        "colab": {
          "base_uri": "https://localhost:8080/",
          "height": 364
        },
        "id": "vp0FnW3b_1qq",
        "outputId": "eb12fde4-bf40-4629-eb6f-c70e111c13f2"
      },
      "source": [
        "data.head()"
      ],
      "execution_count": 106,
      "outputs": [
        {
          "output_type": "execute_result",
          "data": {
            "text/html": [
              "<div>\n",
              "<style scoped>\n",
              "    .dataframe tbody tr th:only-of-type {\n",
              "        vertical-align: middle;\n",
              "    }\n",
              "\n",
              "    .dataframe tbody tr th {\n",
              "        vertical-align: top;\n",
              "    }\n",
              "\n",
              "    .dataframe thead th {\n",
              "        text-align: right;\n",
              "    }\n",
              "</style>\n",
              "<table border=\"1\" class=\"dataframe\">\n",
              "  <thead>\n",
              "    <tr style=\"text-align: right;\">\n",
              "      <th></th>\n",
              "      <th>website</th>\n",
              "      <th>company_name</th>\n",
              "      <th>homepage_text</th>\n",
              "      <th>h1</th>\n",
              "      <th>h2</th>\n",
              "      <th>h3</th>\n",
              "      <th>nav_link_text</th>\n",
              "      <th>meta_keywords</th>\n",
              "      <th>meta_description</th>\n",
              "    </tr>\n",
              "  </thead>\n",
              "  <tbody>\n",
              "    <tr>\n",
              "      <th>0</th>\n",
              "      <td>bipelectric.com</td>\n",
              "      <td>bip dipietro electric inc</td>\n",
              "      <td>Electrici...</td>\n",
              "      <td>NaN</td>\n",
              "      <td>NaN</td>\n",
              "      <td>NaN</td>\n",
              "      <td>NaN</td>\n",
              "      <td>electricians vero beach, vero beach electrical...</td>\n",
              "      <td>Providing quality, reliable full service resid...</td>\n",
              "    </tr>\n",
              "    <tr>\n",
              "      <th>1</th>\n",
              "      <td>eliasmedical.com</td>\n",
              "      <td>elias medical</td>\n",
              "      <td>site map | en español    Elias Medical   h...</td>\n",
              "      <td>Offering Bakersfield family medical care from ...</td>\n",
              "      <td>Welcome to ELIAS MEDICAL#sep#Family Medical Pr...</td>\n",
              "      <td>Get To Know Elias Medical#sep#Family Medical P...</td>\n",
              "      <td>NaN</td>\n",
              "      <td>Elias Medical bakersfield ca family doctor med...</td>\n",
              "      <td>For the best value in Bakersfield skin care tr...</td>\n",
              "    </tr>\n",
              "    <tr>\n",
              "      <th>2</th>\n",
              "      <td>koopsoverheaddoors.com</td>\n",
              "      <td>koops overhead doors</td>\n",
              "      <td>Home  About Us  Garage Door Repair &amp; Servi...</td>\n",
              "      <td>NaN</td>\n",
              "      <td>Customer Reviews#sep#Welcome to Koops Overhead...</td>\n",
              "      <td>NaN</td>\n",
              "      <td>NaN</td>\n",
              "      <td>Koops Overhead Doors, Albany Garage Doors, Tro...</td>\n",
              "      <td>Koops Overhead Doors specializes in the sales,...</td>\n",
              "    </tr>\n",
              "    <tr>\n",
              "      <th>3</th>\n",
              "      <td>midtowneyes.com</td>\n",
              "      <td>midtown eyecare</td>\n",
              "      <td>918-599-0202        Type Size...</td>\n",
              "      <td>NaN</td>\n",
              "      <td>Welcome to our practice!</td>\n",
              "      <td>NaN</td>\n",
              "      <td>NaN</td>\n",
              "      <td>NaN</td>\n",
              "      <td>We would like to welcome you to Midtown Eyecar...</td>\n",
              "    </tr>\n",
              "    <tr>\n",
              "      <th>4</th>\n",
              "      <td>reprosecurity.co.uk</td>\n",
              "      <td>repro security ltd</td>\n",
              "      <td>Simply fill out our form below...</td>\n",
              "      <td>NaN</td>\n",
              "      <td>Welcome to REPRO SECURITY Ltd</td>\n",
              "      <td>NaN</td>\n",
              "      <td>NaN</td>\n",
              "      <td>NaN</td>\n",
              "      <td>Repro Security provide a range of tailor made ...</td>\n",
              "    </tr>\n",
              "  </tbody>\n",
              "</table>\n",
              "</div>"
            ],
            "text/plain": [
              "                  website  ...                                   meta_description\n",
              "0         bipelectric.com  ...  Providing quality, reliable full service resid...\n",
              "1        eliasmedical.com  ...  For the best value in Bakersfield skin care tr...\n",
              "2  koopsoverheaddoors.com  ...  Koops Overhead Doors specializes in the sales,...\n",
              "3         midtowneyes.com  ...  We would like to welcome you to Midtown Eyecar...\n",
              "4     reprosecurity.co.uk  ...  Repro Security provide a range of tailor made ...\n",
              "\n",
              "[5 rows x 9 columns]"
            ]
          },
          "metadata": {
            "tags": []
          },
          "execution_count": 106
        }
      ]
    },
    {
      "cell_type": "markdown",
      "metadata": {
        "id": "92OtWqZLQAat"
      },
      "source": [
        "## Missing value treatment"
      ]
    },
    {
      "cell_type": "code",
      "metadata": {
        "colab": {
          "base_uri": "https://localhost:8080/"
        },
        "id": "ToGPml_Iwre4",
        "outputId": "5e04468d-286f-4323-8b0d-9790d2300911"
      },
      "source": [
        "data[['homepage_text', 'nav_link_text','meta_keywords', 'meta_description']].isnull().sum(axis=1).value_counts()"
      ],
      "execution_count": 107,
      "outputs": [
        {
          "output_type": "execute_result",
          "data": {
            "text/plain": [
              "1    44319\n",
              "2    14671\n",
              "0    11660\n",
              "3     2974\n",
              "4      350\n",
              "dtype: int64"
            ]
          },
          "metadata": {
            "tags": []
          },
          "execution_count": 107
        }
      ]
    },
    {
      "cell_type": "code",
      "metadata": {
        "id": "9KJqd0T9kI_W"
      },
      "source": [
        "data['homepage_text'] = data['homepage_text'].dropna()"
      ],
      "execution_count": 108,
      "outputs": []
    },
    {
      "cell_type": "code",
      "metadata": {
        "id": "4yqBEFfIxnui"
      },
      "source": [
        "df = pd.DataFrame(data, columns = ['homepage_text'])"
      ],
      "execution_count": 109,
      "outputs": []
    },
    {
      "cell_type": "code",
      "metadata": {
        "id": "2-3P-HCrjz53"
      },
      "source": [
        "df = df.dropna()"
      ],
      "execution_count": 110,
      "outputs": []
    },
    {
      "cell_type": "code",
      "metadata": {
        "colab": {
          "base_uri": "https://localhost:8080/"
        },
        "id": "SRMXtWJgUp2A",
        "outputId": "c631d944-a7a3-4fd0-b3d8-376884009ccf"
      },
      "source": [
        "df['homepage_text'].values"
      ],
      "execution_count": 111,
      "outputs": [
        {
          "output_type": "execute_result",
          "data": {
            "text/plain": [
              "array(['                                     Electricians and electrical contractors serving Vero Beach FL and Indian River County, Florida area for over fifteen years.  Locally owned and operated, Bip DiPietro Electric is dedicated to providing helpful, reliable electrical service to residential, commercial and retail clients alike.  We are fully licensed and insured, and our expert staff of electricians is ready to serve the Vero Beach area any time of the week, day or night.  Bip DiPietro Electric is a full service firm specializing in all areas of Electrical Installation for Commercial and Residential buildings alike. We believe that the job needs to be done and it needs to be done right. All of the employees here at Bip DiPietro Electric strive to give you, our client, exactly what your plans specify and install them the way that they are meant to be installed.   Not only is electricity a necessity these days, but it is also a technology that must be treated with caution and respect.\\xa0 All of the electricians here at Bip DiPietro Electric are certified who know what that means. No corners are cut, and no items left out. The job is done the right way or not at all.  We would like to thank you for taking the time to visit our Web Site. Feel free to look around our site and please contact us if you have any questions about our company or the services that we may provide for you.  Contact Bip DiPietro Electric your Vero Beach Electrical Contractor                 External Links Disclaimer for Make A Payment   Copyright © 2009 - Present: Don & Associates, Inc. DBA DNA Web Services | Design, Hosting, E-mail and Maintenance Provided by: DNAWebServices.us    ',\n",
              "       '    site map | en español    Elias Medical   home  about us  skin care   Acne Scar Removal  Acne Treatment  Anti-Cellulite  BOTOX  Cosmelan  Double Chin  Facials  Hair Removal  Juvederm  Microdermabrasion  Mole Removal  Photofacial  Restylane  Scar Removal Treatment  Stretch Marks Removal  Skin Resurfacing  Skin Care  Wart Removal    family doctor   Arthritis  Asthma  Diabetes  Emphysema  Geriatrics  Hypertension  Physical Exam    contact us               Welcome to ELIAS MEDICAL  Offering Bakersfield family medical care from pediatrics to geriatrics. Also offering skin care including Botox, Laser skin treatments and more.  Family Medical Practice  We provide comprehensive and compassionate medical care for your family.  Whether you need help with diabetes, high blood pressure, obesity, arthritis, a physical examination or a number of other conditions, we will be able to provide a treatment plan that will give you good results. And, if you prefer to see a female, we have a very experienced Family Nurse Practitioner who is very capable and pleasant.  Just call to make an appointment and our friendly staff will be happy to set a time convenient for you.  Skin Care   Our Bakersfield office provides a variety of skin care procedures to enhance the quality and beauty of your skin. We provide non-surgical cosmetic procedures using the latest technologies in laser for hair removal and anti-aging skin care, Botox and other treatments ensuring a healthier, rejuvenated texture and tone of your face and body. Every skin care procedure is performed by a medical doctor.  Consultations  Schedule a consultation today with Dr. George Elias or with our Family Nurse Practitioner, Christina Lewis.  Call 661-663-0300 or just complete the Contact Us form with your request for an appointment.  Dr. Elias is a proud member of the American Medical Association and the American Academy of Family Physicians.  Get To Know Elias Medical  Take a minute to get to know Dr. Elias and Christina Lewis, our Family Nurse Practioner. Their bios are available on our About Us page. They look forward to meeting you in person!        Schedule a Consultation\\n661.663.0300   Family Medical Practice   Arthritis  Asthma  Diabetes Treatment  Emphysema  Family Medicine  Geriatrics  Hypertension  Pediatrics  Physical Exam   SKIN CARE  NEW  ACNE SCAR REMOVAL TREATMENT  ACNE TREATMENT  ANTI-CELLULITE  ANTI-STRETCH MARKS  BOTOX  COSMELAN  NEW DOUBLE CHIN  JUVEDERM  LASER HAIR REMOVAL  MICRODERMABRASION  MOLE REMOVAL  PHOTOFACIAL  RESTYLANE  NEW SCAR REMOVAL TREATMENT  NEW STRETCH MARKS TREATMENT  NEW SKIN RESURFACING   SKIN CARE PRODUCTS   WART REMOVAL     home | about us | family medical practice | skin care | location | contact us | cuidado de la piel   9900 Stockdale Hwy., Suite 203 Bakersfield, CA 93311 | (phone) 661.663.0300 | \\n    (fax) 661.663.0903 ',\n",
              "       '    Home  About Us  Garage Door Repair & Service  Design-A-Door  Garage Doors  Garage Door Openers & Accessories  Customer Reviews  Photo Gallery  Contact Us / Free Garage Door Estimate        Home  About Us  Garage Door Repair & Service  Design-A-Door  Contact Us / Free Estimate                      117 Edgewood Drive / Averill Park, NY 12018 :: Phone: (518) 376-7382  Garage Door Service, Installation and Repairs in Albany, Troy,  Clifton Park, East Greenbush, and surrounding Capital District New York areas          Garage Doors  Garage Door Openers & Accessories  Customer Reviews  Photo Gallery  Contact Us      Previous  Next        Posted by jtafur on Oct 6, 2011  Welcome to Koops Overhead Doors!  Koops Overhead Doors is family owned and operated with over 18 years of experience serving residential and commercial clients in Albany, Troy, Clifton Park, East Greenbush and the surrounding Capital District areas. We specialize in the sales, service, repair, and installation of garage doors and garage door openers.  Read More           Posted by jtafur on Oct 6, 2011  Customer Reviews  “We called Koops after getting estimates from 2 other local dealers. \\xa0His price was better; his knowledge of the products was exceptional and when a model and color we had originally wanted was no longer available from the manufacturer – he worked miracles finding an even better alternative. \\xa0On the day of the installation, Mr. Koops was there on time; worked quickly and efficiently, and left...  Read More           Posted by jtafur on Oct 6, 2011  Welcome to Koops Overhead Doors!  Koops Overhead Doors is family owned and operated with over 18 years of experience serving residential and commercial clients in Albany, Troy, Clifton Park, East Greenbush and the surrounding Capital District areas. We specialize in the sales, service, repair, and installation of garage doors and garage door openers.  Read More           Posted by jtafur on Oct 6, 2011  Customer Reviews  “We called Koops after getting estimates from 2 other local dealers. \\xa0His price was better; his knowledge of the products was exceptional and when a model and color we had originally wanted was no longer available from the manufacturer – he worked miracles finding an even better alternative. \\xa0On the day of the installation, Mr. Koops was there on time; worked quickly and efficiently, and left...  Read More           Posted by jtafur on Oct 6, 2011  Welcome to Koops Overhead Doors!  Koops Overhead Doors is family owned and operated with over 18 years of experience serving residential and commercial clients in Albany, Troy, Clifton Park, East Greenbush and the surrounding Capital District areas. We specialize in the sales, service, repair, and installation of garage doors and garage door openers.  Read More           Posted by jtafur on Oct 6, 2011  Customer Reviews  “We called Koops after getting estimates from 2 other local dealers. \\xa0His price was better; his knowledge of the products was exceptional and when a model and color we had originally wanted was no longer available from the manufacturer – he worked miracles finding an even better alternative. \\xa0On the day of the installation, Mr. Koops was there on time; worked quickly and efficiently, and left...  Read More           Posted by jtafur on Oct 6, 2011  Welcome to Koops Overhead Doors!  Koops Overhead Doors is family owned and operated with over 18 years of experience serving residential and commercial clients in Albany, Troy, Clifton Park, East Greenbush and the surrounding Capital District areas. We specialize in the sales, service, repair, and installation of garage doors and garage door openers.  Read More           Posted by jtafur on Oct 6, 2011  Customer Reviews  “We called Koops after getting estimates from 2 other local dealers. \\xa0His price was better; his knowledge of the products was exceptional and when a model and color we had originally wanted was no longer available from the manufacturer – he worked miracles finding an even better alternative. \\xa0On the day of the installation, Mr. Koops was there on time; worked quickly and efficiently, and left...  Read More                                                                                Authorized Dealer               Koops Overhead Doors is an EPA lead-safe certified firm       angieslist.com/review/2346123        Dedicated To Excellence  Koops Overhead Doors is family owned and operated with over 18 years of experience serving residential and commercial clients in Albany, Troy, Clifton Park, East Greenbush and the surrounding Capital District areas. We specialize in the sales, service, repair, and installation of garage doors and electric garage door openers.  We pride ourselves on outstanding customer service, professional garage door installation, garage door repair and last but not least competitive pricing.  All garage door installations and garage door repairs are completed by Koops Overhead Doors as we do not use any subcontractors.  Whether you’re in need of a new garage door, an electronic garage door opener, or if your current garage door just needs a minor repair, we do it all!       Contact Us / Free Quote  Please browse our “photo gallery” page and see just how much a new garage door can change the look of your home.   You can also take advantage of our “Design-a-Door” feature to see just how great a new garage door will look on your home!  If you have any questions please do not hesitate to call us or fill out our “contact us form” and we will contact you right away to discuss your project.  Phone: (518) 376-7382 Fax:\\t(518) 712-5036 E-mail:  koopsoverheaddoors@nycap.rr.com          Serving Albany NY; Averill Park NY; Clifton Park NY; Colonie NY; Delmar NY; East Greenbush NY; Latham NY; Rensselaer NY; Schenectady NY; Troy NY\\tSince 2008 Copyright Koops Overhead Doors © 2015 | Developed by SqueekPress         Home  About Koops Overhead Doors  Customer Reviews  Photo Gallery  Contact Us / Free Garage Door Estimate      ',\n",
              "       ...,\n",
              "       \"                                03 9531 5092 Make A Booking         Beautyologist Beauty Salon   Shop   E-VOUCHERS  By Category   Bath & Body  Candles & Home Fragrance  Cleansers  Exfoliators  Eyes  Gifts  Jewellery  Make-up  Masks  Men  Moisturisers  Nails  Pregnancy, Baby & Kids  Serum  Skincare Kits  Sun Protection    By Brand   Acca Kappa  Alchemy Produx  Aspect  Beauty Chef  Cosmedix  Cosmedix Elite  Eco Tan  EST  EyEnvy  Glasshouse  Ieros Candles  Ismini  Kleins  Louvelle  Mancini  Marit  The Mindful Company  Mister by Beautyologist  Miss Frankie  MOR  Organic Nation  Panier Des Sens  Peppermint Grove  Pure Body Luxe  Saint George  Salus  Shanghai Suzy  Societe Clinical Skincare  Tilley  Voluspa    My Account    Services   Facial  Make-up  Nails  Laser Hair Removal  Customised Massage  Spray Tan  Eyelashes  Waxing & Tinting  Tattoo Removal  Download Our Menu    Make a Booking  Be Inspired  Our Story   Our Founder  Beauty Miles Program  Reviews  Gallery  Awards  Confessions of a Beautyologist    Contact  Menu Shop  – E-VOUCHERS  – – Bath & Body  – – Candles & Home Fragrance  – – Cleansers  – – Exfoliators  – – Eyes  – – Gifts  – – Jewellery  – – Make-up  – – Masks  – – Men  – – Moisturisers  – – Nails  – – Pregnancy, Baby & Kids  – – Serum  – – Skincare Kits  – – Sun Protection  – – Acca Kappa  – – Alchemy Produx  – – Aspect  – – Beauty Chef  – – Cosmedix  – – Cosmedix Elite  – – Eco Tan  – – EST  – – EyEnvy  – – Glasshouse  – – Ieros Candles  – – Ismini  – – Kleins  – – Louvelle  – – Mancini  – – Marit  – – The Mindful Company  – – Mister by Beautyologist  – – Miss Frankie  – – MOR  – – Organic Nation  – – Panier Des Sens  – – Peppermint Grove  – – Pure Body Luxe  – – Saint George  – – Salus  – – Shanghai Suzy  – – Societe Clinical Skincare  – – Tilley  – – Voluspa  – My Account  Services  – Facial  – Make-up  – Nails  – Laser Hair Removal  – Customised Massage  – Spray Tan  – Eyelashes  – Waxing & Tinting  – Tattoo Removal  – Download Our Menu  Make a Booking  Be Inspired  Our Story  – Our Founder  – Beauty Miles Program  – Reviews  – Gallery  – Awards  – Confessions of a Beautyologist  Contact                                                           Welcome to Beautyologist  Specialist in skin & body beauty  Sia Psicharis is director and creator of ‘Beautyologist’ established in Melbourne, Australia in 2005, evolving from her industry experience in an abundance of elite salons with high profile clients. Sia’s beauty obsession is ‘skin needling’ a treatment described by Sia as acupuncture for the face while simultaneously working on all skin concerns.  Sia’s passion for treating skin comes from her own personal experience of suffering from acne, inspiring a clear vision to create a new range of skincare treatments, providing an evolution for maturing individuals focusing on anti-aging therapeutics that will change peoples lives to feel amazing from the inside out.  With a love affair for fashion, Sia’s style is gracefully feminine incorporating a splash of black lace. Sia loves her short well-manicured nails with a polish that matches her signature bright red lipstick that pops!       Sia Psicharis Beautyologist Founder           Sia's Spotlight  Lymphatic Drainage Facial Massage  Lymphatic drainage is a therapeutic massage technique that uses light pressure and gentle strokes to stimulate the flow of lymph and detox toxins from your body. The lymph system is a crucial part of your body's immune system and helps fight infection and disease.  Shop Now                                                                            Sign Up To Our Newsletter  Sign up to go into the draw to win mystery monthly gifts     Email This field is for validation purposes and should be left unchanged.                Categories Bath & Body  Nail Care  Gifts & Gift Cards  Men  Skin Clinic  Brands Aesop  Aspect  Cosmedix  Glasshouse  Salus  Information Online Store Terms and Conditions  Privacy Policy  Terms & Conditions  My Account  Sitemap  Contact  (03) 9531 5092 181 Carlisle Street St Kilda East VIC 3183   Staff Login    © 2020 Beautyologist Beauty Salon | Privacy Policy          Fear of Missing Out?  Be the first to know the latest news and products from Beautyologist plus receive a 10% gift on your first order.   Email *   Comments This field is for validation purposes and should be left unchanged.                This iframe contains the logic required to handle Ajax powered Gravity Forms.    Call Us Now Book Now\",\n",
              "       '                                                Enquire now  Get in touch  0800 170 7370      Gallery  Prices  Reviews  Artists             Mobile Hair & Makeup Artists across the UK  Do you want to look the best you’ve ever looked for your… Wedding, Special Occasion, Event, Hen Party or Prom?  Beauty Call is a hair and makeup artist agency A team of over 250 professionally trained, friendly and reliable artists across the UK  Since 2006 we’ve helped 7,500 women look and feel amazing  It’s our GUARANTEE to make sure you’re 100% HAPPY with your look   Enquire now  Take a look at our quality work               Here\\'s how we can help you  In our 12 years of business, we’ve helped thousands of women look and feel amazing. We manage the whole booking for you, so the experience is totally stress-free, and we can ensure you are 100% happy with your look.    All you need to do is send in your initial enquiry. You and your requirements will then be matched up to the best available and most local artist to you. Every single artist is trained in both hair and makeup, so you only need one person who can do both services.    Our team will be there with you all the way to ensure it goes well. After your booking, you will receive a feedback review request, which, when completed, will entitled you to a special offer on a future booking.   Enquire now  Our pricing          Weddings  From: £50  Wedding hair and bridal makeup for the whole bridal party, including the bride, bridesmaids, mums and flower girls.  We want to make sure that you feel 100% satisfied with your trial and final look for your wedding hair and makeup.  Our wedding hair & makeup artists are fully trained professionals with plenty of experience and a common love of the wedding industry.          Corporate Events  From: £60  Our artists are available to work at all kinds of corporate events. As an example we have previously worked for:  The National Wedding Show, V Festival, Leeds Festival, Proud Cabaret, OK Mag, Princes Trust, H&M, Vero Moda, Dubarry, The Perfume Shop, NU Skin, O2, CMS, Wedding Ideas Mag, E-Entertainment, Hodes, London Fashion Week, Don’t Tell The Bride.          Hen Parties  From: £20  Do you want your whole group to look ultra glam for your hen party?  We can send a hair and makeup artist or artists to your location, before you hit the town for your big night.  Our quick hair styling and fun makeup looks will ensure you won’t be sat around all day getting ready.  Crack open the prosecco and party!           Special Occasions  From: £50  Whether you’re looking to get your hair styled and makeup applied, or just one of the two, we can help make you look amazing for that really important special occasion or event.  Awards, engagement parties and anniversaries, job interviews, race days,\\xa0 sporting occasions, Christmas and New Year, are all covered by our hair stylists and makeup artists across the UK.          Lessons  From: £65  Have a professional makeup artist come to you and give you a personalised lesson.  Learn practical tips, stylish techniques and feel comfortable about applying makeup in order to make the most of your features.  We provide face charts and paperwork that you can fill in during the lesson, for reference when you get the chance to experiment with your new look!          Proms  From: £50  Have a professional hair and makeup artist come to your home before your big night, and be the envy of all your friends when you arrive at your prom!  All kit is provided but we will happily use your own products if preferred.  If you want to get together with your friends, we are happy to offer a group price dependent on numbers.             Key members of our team  As a nationwide hair and makeup artist agency our team is based all over the UK, however our key team members are:          Beauty Call Head Office  Beauty Call Head Office is located East London, but we manage bookings for the majority of the UK.       Becky-S  Becky is our head artist and franchisee for the Kingston-upon-Thames (KT) and Croydon (CR) postcodes.       Marie-K  Marie is our head artist and franchisee for the Swindon (SN) and Salisbury (SP) and Gloucester (GL) postcodes.       Samantha-B  Samantha is our head artist and franchisee for the South East London (SE) and Bromley (BR) and Bromley (TN) postcodes.              Why use us?   We guarantee you’ll be 100% HAPPY with your look!  Your requirements will always be listened to.  You’re in safe hands, we’re now in our 12th year.  Your artist will be professionally trained and insured.  You can trust them to do an amazing job.  You’re getting the best for less £.  You’ll never be ripped off.  You’ll know that there is a backup artist, just in case.  You’ll have an artist that promises to stay calm under pressure and will make you look amazing!   Book now  Contact us               Our background  Beauty Call was founded by Nicky Bragg in 2006, initially working with a small team of 5 hair and makeup artists to help brides get ready for their big day.  Since then the team has grown to over 300 artists all over the UK. Our work now ranges from bridal and hen parties to fashion and event work.  Local bookers help manage teams of artists, maintain local links and relationships with suppliers and ensure we really understand the needs of our clients nationwide.  Prices  Contact us           253 artists available to your location   Whether you’re in a big city like London, Manchester or Leeds or out in the sticks in counties like Wiltshire, Kent, Surrey, or Somerset….  we will have a hair and makeup artist available for you.  The artist will travel to your desired location, whether that’s your home, a hotel or an AirBnB.  Save yourself a journey to your local salon and have the luxury of being pampered in your own home.    Get in touch  Find an artist near you             Hair  Alison  Yorkshire and The Humber  Trained: London School of Media Make-up,\\xa0Bobbi\\xa0Brown \\xa0 Experience: MAC,\\xa0Lynx\\xa0Deodorant and\\xa0Keane\\xa0pop\\xa0video \\xa0 Areas: Yorkshire \\xa0 Testimonial: \"A very big thankyou from Sarah, her bridesmaids and –…             Hair & Makeup  Carol  East of England  Trained: London School of Makeup and Jemma Kidd \\xa0 Experience: Bridal specialist \\xa0 Areas: Buckinghamshire and Hertfordshire \\xa0 Testimonial: \"Your makeup was wonderful and it…             Hair & Makeup  Chloe-P  South East  Trained: Thanet College, Kent \\xa0 Experience: London Fashion Week, MAC, Elizabeth Arden \\xa0 Areas: Kent and East Sussex \\xa0 Testimonial: \"Chloe did my hair and…             Hair & Makeup  Ella  London  Trained: Greasepaint \\xa0 Experience: assistant to Charlotte Tilbury, Max Factor- Glamour Cab, Peta campaign \\xa0 Areas: South West London \\xa0 Testimonial: \"Thank you for making…             Hair & Makeup  Fran  South East  Trained: London College of Beauty and Makeup, MAC \\xa0 Experience: Rebecca Wilcox, Olivia Stevens (Next Top Model), Elite Modelling Agency \\xa0 Areas: Berkshire, Buckinghamshire, Oxfordshire…             Hair & Makeup  Grace-R  South East  Trained: Greasepaint and Brushstrokes \\xa0 Experience: Avon, Asda, Friday Night Project \\xa0 Areas: South West London, Surrey and Berkshire \\xa0 Testimonial: \"I wanted to thank…             Hair & Makeup  Haleema  West Midlands  Trained: Beaute Academy – Asian Bridal Hair and Makeup \\xa0 Experience: TV, Fashion Shows and Brides \\xa0 Areas: The Midlands \\xa0 Testimonial: \"Hi there Haleema!…             Here\\'s what some of our clients say...   Beauty Call   Rated 5 out of 5 with 7 ratings on Google My Business         Beauty Call      Gemma  Sidcup, Kent      I was married on 12th May and Sam from Beauty Call did my hair and make up and I couldn’t have asked for any one better than to carry out one of the most important parts of a brides day. She is great at what she does and was great from the initial trial all the way until the end, she even helped me in my dress!! Thank you! xx    5 / 5         Beauty Call      Gee  South East London      I got married last week and Sam from Beauty Call did an amazing job on the hair and makeup for me, my bridesmaids and my mum! We all felt like a million dollars all day and the hairdos held up really well after several hours of energetic dancing :).\\xa0 I live abroad so wasn’t able to have a trial before the wedding but on the day my artist immediately understood what I was looking for and was also a lovely, friendly and calming presence while we were getting ready. Would definitely recommend!    5 / 5         Beauty Call      Jennie  Harlow      I got married in October 2017 and Becky and Vanessa from Beauty Call provided me and my bridesmaids with hair and make-up. To say I was impressed is an understatement. The girls were incredible. They made us all feel so comfortable and were so accommodating. I am not a make-up person but Becky made me feel like a total princess and my make-up was perfect. My bridesmaids looked fabulous. Thank you so much    5 / 5         Beauty Call      Gayle  Manchester      I booked Beauty Call for my wedding, for myself, 4 bridesmaids and both mothers. The service was faultless, from the initial contact right through to the final result! Thank you.    5 / 5         Beauty Call      Julia  London      Could not recommended Annabel from Beauty Call more highly! She did my makeup and hair for my wedding yesterday (and also provided crucial help with my dress!). The makeup looked wonderful, just the right balance between glam and natural beauty. It lasted all night with just a couple lipstick touch ups, despite heat and many happy tears. The romantic updo she created looked brilliant as well, and also held up nicely despite wind throughout the day. She was also timely (so I was ready in good time), and she was a joy to chat to all morning. Her cheerfulnees and calm really put me at ease. Thank you!    5 / 5         Beauty Call      Cassandra  Horsham, Sussex      The whole process was very easy to use, with prices clearly set out and explained. Samantha from Beauty Call was the artist assigned to me and I couldn’t be happier with the work she done not just on me but my bridesmaids too, she listened to everything I wanted and created the look I was after. I’m personally not into hair and make up but Samantha made the whole experience easy, enjoyable and fun for us all on both the trail and wedding day. My dad even commented that ‘I didn’t scrub up too bad!’, and that was mainly down to the work that Samantha did. She was even able to help with tying up the dress when everyone got confused on how to do it all up. Nothing was too much trouble and I would highly recommend her. Thank you xxx.    5 / 5         Beauty Call      Jade  Cardiff, Wales      Marie from Beauty Call did my hair and make up for my wedding in June. She also did hair and make up for my bridesmaids and mothers of the bride&groom. She was absolutely fantastic throughout the whole process. I needed 2 trials as after my first I wasn’t sure the hairstyles we had tried were right for my hair type, and she was happy to listen to my worries, arrange a second trial and completely change tack on what I wanted! On the day she and her assistant worked so hard and really helped calm my nerves! Make up was exactly what I wanted and despite a windy summers day my hairstyle lasted all day. All the girls looked great, and they accommodated superbly what each bridesmaid requested. Absolutely fantastic, would definitely recommend!    5 / 5                 Hair & Makeup Artists all over the UK  Wondering if we have a hair & makeup artist near you?  We can always say “YES, we would LOVE to HELP”  We have more than 250 professionally trained, insured, reliable and friendly hair and makeup artists in England, Wales and Scotland.  All of our artists are trained in both makeup application and hair styling, so you only need to book one artist to cover both services.  But please book as far in advance as possible, in order to ensure the hair and makeup artist most local to you is available for you.           Amersham  Ascot  Ashtead  Aylesford  Bacup  Banstead  Basildon  Basingstoke  Bedford  Berkhamsted  Bexley  Bexleyheath  Birmingham  Bracknell  Bradford  Bridgwater  Brighton  Bristol  Broadstairs  Bromley  Buckhurst Hill  Budleigh Salterton  Buntingford  Burgess Hill  Burnley  Burton-on-Trent  Bury  Bushey  Camberley  Cambridge  Canvey Island  Carshalton  Cheltenham  Cobham  Coulsdon  Cowes  Cranbrook  Cranleigh  Crawley  Dartford  Dawlish  Dorchester  Dover  East Grinstead  East Molesey  Edinburgh  Enfield  Epping  Epsom  Etchingham  Exeter  Fareham  Farnborough  Frodsham  Frome  Gillingham  Godalming  Godstone  Gravesend  Great Yarmouth  Halesowen  Harlow  Hatfield  Haywards Heath  Helston  Hemel Hempstead  High Wycombe  Hook  Houghton le Spring  Hove  Huntingdon  Ipswich  Isleworth  Lancing  Leeds  Leicester  Liphook  Liverpool  London  Loughton  Maidstone  Manchester  Marlborough  Middlesbrough  Milton Keynes  Newbury  Newport Pagnell  Newquay  Oldham  Pontypool  Portsmouth  Potters Bar  Prestwick  Rayleigh  Reading  Redhill  Reigate  Richmond  Romford  Royston  Rushden  Saint Austell  Saint Leonards-on-sea  Salford  Shepperton  Slough  Southampton  Southport  Southsea  St Albans  Stamford  Stirling  Stourbridge  Stroud  Surbiton  Sutton  Swaffham  Swindon  Tadworth  Taunton  Torquay  Tring  Trowbridge  Tunbridge Wells  Waltham Cross  Walton-on-Thames  Ware  West Byfleet  Weston-super-Mare  Weybridge  Windsor  Witney  Woking  Wokingham  Wolverhampton  Worcester Park  Yeovil  York     Let us find an artist near you    \\ufeff     Have any questions about how we can help?   Request call back          Connect with us:     Facebook       Twitter       YouTube       Pinterest        General enquiries:  0800 170 7370    Contact via email:  [email\\xa0protected]    Booking form:  Enquire now    Have questions?  Get in touch       Head Office Beauty Call Ltd 24 High Street London E11 2AQ  Find us on a map     Beauty Call  Hairstyle & makeup ideas  Our costs  Pay us online  News and blogs  Suppliers we love  Apply to work for us     Popular Services  Weddings  Corporate events  Hen parties  Special occasions  Lessons  Proms     Popular Locations  London  Manchester  Kent  Surrey  Wiltshire  Yorkshire       © Copyright 2018, Beauty Call   Terms of Service  Privacy Policy & Cookie Policy         Request call back          Request a call back  If you have an event you would like us to ask us about or book us for, please get in touch by filling in the form below. If you are making an enquiry about a corporate event, fashion show or photoshoot, please call 0800 170 7370 .  Fields marked with * are required.     ×                   Your Name: *     Email address: *     Phone number (optional):     Date of event (optional):     Type of event: *  -- Select event type -- Wedding Corporate Event Hen Party Special Occasion Prom Makeup Lesson    Location of event: *     Your message: *     Please leave this field empty.     By clicking below, you consent for your data to be processed in order for us to be able to provide a response to your enquiry.               ',\n",
              "       \"                                                  What we do  Our partners  Why choose us  Our family  Contact    847-631-3500               847-631-3500                      What we do  Our partners  Why choose us  Our family  Contact            Discover, Innovate, Execute, Enjoy!       Miracapo develops and manufactures high quality pizzas. We partner with you every step of the way.   Discover, Innovate, Execute, Enjoy!  Miracapo develops and manufactures high quality pizzas. We partner with you every step of the way.         We are your full-service pizza partner       Innovation  Crusts  Topping  Packaging  Supply Chain     Innovation     Innovation is our recipe for success  Our Discovery Center is entirely dedicated to developing innovative recipes for you.              Crusts     Crusts from classic to artisan  We are constantly innovating new and great tasting crust styles to meet your needs.              Topping     No limit on flavor  We source the best quality toppings for flavor combinations that showcase your creativity and satisfy your customers.              Packaging     Grocery-aisle ready packaging  From folding cartons to bakeable trays, we have the packaging solutions you need.              Supply Chain     Execute on a major scale  Partnering with Miracapo means benefitting from our long-term relationships:  International and domestic ingredient suppliers  Freight carriers  Cold storage facilities  EDI networks                What we do        Innovation is our recipe for success  Our Discovery Center is entirely dedicated to developing innovative recipes for you.   What we do               Crusts from classic to artisan  We are constantly innovating new and great tasting crust styles to meet your needs.   What we do               No limit on flavor  We source the best quality toppings for flavor combinations that showcase your creativity and satisfy your customers.   What we do               Grocery-aisle ready packaging  From folding cartons to bakeable trays, we have the packaging solutions you need.   What we do               Execute on a major scale  Partnering with Miracapo means benefitting from our long-term relationships:  International and domestic ingredient suppliers  Freight carriers  Cold storage facilities  EDI networks    What we do                      Pizza is our passion, and we want to share it with you  Whether you're expanding the selection of your private label, developing your own brand, or providing food service to a crowd, you're in good hands.       Private Label     Branded     Food Service    Our Partners            We are creators, innovators and experts  Miracapo is unrivaled in passion for your products, dedication to our partners and experience creating pizzas on a national scale.   Why Choose Us       We know pizza      Each year, the numbers speak for themselves       +  new product concepts     +  million slices of pepperoni     +  million slices of pizza produced       Our Family            We want to bring your ideas to life  Contact             Mira to = Focused; Capo = Leader Your Focused Leaders of the Frozen Pizza Industry      What we do  Our partners  Why choose us  Our family     Careers     Contact Us   847-631-3500  2323 Pratt Blvd. Elk Grove Village, IL 60007 Chicagoland Area           © 2019 Miracapo Pizza Company. Site by Glantz .    Privacy Policy  Terms of Use             \"],\n",
              "      dtype=object)"
            ]
          },
          "metadata": {
            "tags": []
          },
          "execution_count": 111
        }
      ]
    },
    {
      "cell_type": "code",
      "metadata": {
        "colab": {
          "base_uri": "https://localhost:8080/"
        },
        "id": "bUWX3MBLR1-X",
        "outputId": "f495acfe-0bd4-463a-d161-b17040e0420f"
      },
      "source": [
        "df['homepage_text'].dropna()\n",
        "\n",
        "\n"
      ],
      "execution_count": 112,
      "outputs": [
        {
          "output_type": "execute_result",
          "data": {
            "text/plain": [
              "0                                             Electrici...\n",
              "1            site map | en español    Elias Medical   h...\n",
              "2            Home  About Us  Garage Door Repair & Servi...\n",
              "3                         918-599-0202        Type Size...\n",
              "4                        Simply fill out our form below...\n",
              "                               ...                        \n",
              "73969                                                     \n",
              "73970                         Home    About Us    Our S...\n",
              "73971                                    03 9531 5092 M...\n",
              "73972                                                  ...\n",
              "73973                                                  ...\n",
              "Name: homepage_text, Length: 73305, dtype: object"
            ]
          },
          "metadata": {
            "tags": []
          },
          "execution_count": 112
        }
      ]
    },
    {
      "cell_type": "code",
      "metadata": {
        "colab": {
          "base_uri": "https://localhost:8080/",
          "height": 197
        },
        "id": "XVBEVt32tA46",
        "outputId": "9cafdee5-6b16-4536-a484-e4ac9ac8ae98"
      },
      "source": [
        "df.head()"
      ],
      "execution_count": 113,
      "outputs": [
        {
          "output_type": "execute_result",
          "data": {
            "text/html": [
              "<div>\n",
              "<style scoped>\n",
              "    .dataframe tbody tr th:only-of-type {\n",
              "        vertical-align: middle;\n",
              "    }\n",
              "\n",
              "    .dataframe tbody tr th {\n",
              "        vertical-align: top;\n",
              "    }\n",
              "\n",
              "    .dataframe thead th {\n",
              "        text-align: right;\n",
              "    }\n",
              "</style>\n",
              "<table border=\"1\" class=\"dataframe\">\n",
              "  <thead>\n",
              "    <tr style=\"text-align: right;\">\n",
              "      <th></th>\n",
              "      <th>homepage_text</th>\n",
              "    </tr>\n",
              "  </thead>\n",
              "  <tbody>\n",
              "    <tr>\n",
              "      <th>0</th>\n",
              "      <td>Electrici...</td>\n",
              "    </tr>\n",
              "    <tr>\n",
              "      <th>1</th>\n",
              "      <td>site map | en español    Elias Medical   h...</td>\n",
              "    </tr>\n",
              "    <tr>\n",
              "      <th>2</th>\n",
              "      <td>Home  About Us  Garage Door Repair &amp; Servi...</td>\n",
              "    </tr>\n",
              "    <tr>\n",
              "      <th>3</th>\n",
              "      <td>918-599-0202        Type Size...</td>\n",
              "    </tr>\n",
              "    <tr>\n",
              "      <th>4</th>\n",
              "      <td>Simply fill out our form below...</td>\n",
              "    </tr>\n",
              "  </tbody>\n",
              "</table>\n",
              "</div>"
            ],
            "text/plain": [
              "                                       homepage_text\n",
              "0                                       Electrici...\n",
              "1      site map | en español    Elias Medical   h...\n",
              "2      Home  About Us  Garage Door Repair & Servi...\n",
              "3                   918-599-0202        Type Size...\n",
              "4                  Simply fill out our form below..."
            ]
          },
          "metadata": {
            "tags": []
          },
          "execution_count": 113
        }
      ]
    },
    {
      "cell_type": "code",
      "metadata": {
        "colab": {
          "base_uri": "https://localhost:8080/"
        },
        "id": "fp8_QBQs5TXD",
        "outputId": "0bcf0180-3d4a-4a88-cc2c-7ffd6e859205"
      },
      "source": [
        "df['homepage_text'].isnull().sum()"
      ],
      "execution_count": 114,
      "outputs": [
        {
          "output_type": "execute_result",
          "data": {
            "text/plain": [
              "0"
            ]
          },
          "metadata": {
            "tags": []
          },
          "execution_count": 114
        }
      ]
    },
    {
      "cell_type": "code",
      "metadata": {
        "id": "hodf65Y65py0"
      },
      "source": [
        "df['homepage_text'] = df['homepage_text'].fillna(' ')"
      ],
      "execution_count": 115,
      "outputs": []
    },
    {
      "cell_type": "markdown",
      "metadata": {
        "id": "sb6yuqgEOVIa"
      },
      "source": [
        "## Removing StopWords"
      ]
    },
    {
      "cell_type": "code",
      "metadata": {
        "colab": {
          "base_uri": "https://localhost:8080/"
        },
        "id": "jkj8ieB9ELBb",
        "outputId": "5b527fe4-ebbc-49ee-8a6e-b62fcaaa238d"
      },
      "source": [
        "import re\n",
        "import nltk\n",
        "nltk.download('stopwords')\n",
        "from nltk.corpus import stopwords"
      ],
      "execution_count": 116,
      "outputs": [
        {
          "output_type": "stream",
          "text": [
            "[nltk_data] Downloading package stopwords to /root/nltk_data...\n",
            "[nltk_data]   Package stopwords is already up-to-date!\n"
          ],
          "name": "stdout"
        }
      ]
    },
    {
      "cell_type": "code",
      "metadata": {
        "colab": {
          "base_uri": "https://localhost:8080/"
        },
        "id": "TWfSWsx3Dplq",
        "outputId": "86c3d197-76df-4ce0-d5b7-e79e01ecddb0"
      },
      "source": [
        "df['homepage_text'].isnull().sum()"
      ],
      "execution_count": 117,
      "outputs": [
        {
          "output_type": "execute_result",
          "data": {
            "text/plain": [
              "0"
            ]
          },
          "metadata": {
            "tags": []
          },
          "execution_count": 117
        }
      ]
    },
    {
      "cell_type": "code",
      "metadata": {
        "id": "wyvss6FmNZdC"
      },
      "source": [
        "stop_words = stopwords.words('english')"
      ],
      "execution_count": 118,
      "outputs": []
    },
    {
      "cell_type": "code",
      "metadata": {
        "id": "VC2IbtihNeGr"
      },
      "source": [
        "def stopwords(text):\n",
        "  text = [word.lower() for word in text.split() if word.lower() not in stop_words]\n",
        "  return \" \".join(text)"
      ],
      "execution_count": 119,
      "outputs": []
    },
    {
      "cell_type": "code",
      "metadata": {
        "id": "lNjTsIq4Nhza"
      },
      "source": [
        "df['homepage_text'] = df['homepage_text'].apply(stopwords)"
      ],
      "execution_count": 120,
      "outputs": []
    },
    {
      "cell_type": "code",
      "metadata": {
        "id": "trH2nZDWOPrk"
      },
      "source": [
        "\n",
        "# df['homepage_text'] = df['homepage_text'].str.replace('\\d+', '')\n"
      ],
      "execution_count": 121,
      "outputs": []
    },
    {
      "cell_type": "code",
      "metadata": {
        "colab": {
          "base_uri": "https://localhost:8080/",
          "height": 124
        },
        "id": "KQG2L2d0aj2I",
        "outputId": "9b7d29a7-5858-496c-cee6-ae142559eef0"
      },
      "source": [
        "df['homepage_text'][5]"
      ],
      "execution_count": 122,
      "outputs": [
        {
          "output_type": "execute_result",
          "data": {
            "application/vnd.google.colaboratory.intrinsic+json": {
              "type": "string"
            },
            "text/plain": [
              "'wood green timber co. ltd. wood green tel: 020 8888 7777 potters bar tel: 01707 642 361 londons specialist timber merchants 1st quality 1st service home timber sawn & treated timber oversized/specialist timber joinery timber mouldings hardwood decking fencing sheet materials plywood mdf chipboard sterling board hardboard building supplies plasterboards insulation plaster/bonding/cement aggregates fire rated materials doors roofing tools ironmongery services delivery cutting 1-to-1 customer service sustainability contact contact wood green contact potters bar price matching... comes pricing job, matter big small, clients always looking best possible prices get. north london\\'s timber specialists... high stock levels match building requirements. fire-rated materials... fire resistant materials highest standards. 30yrs trading... working relationships clients continue thrive, year year. no.1 service... 1-to-1 customer service. oversized timbers 300mm x 300mm (12\"x 12\") hold timbers 9.0 metres stock. 1 2 3 4 5 6 location | potter bar location | wood green opening hours friendly advice always given. tel: 020 8888 7777 welcome wood green timber wood green timber co. ltd., london, potters bar hertfordshire yard stock comprehensive selection timber suitable wide variety uses. floor joists decorative mouldings, all, stock ready take away delivery prefer. aim maintain high stock levels order satisfy building requirements immediately, however equally happy source specialist requirements delivery collection later date. 1 1 service. great customer service. aim offer one-to-one service. member staff always available ensure served efficiently effectivel.. read oversized timbers 300mm x 300mm (12\"x 12\"). hold timbers 9.0 metres length 300mm x 300mm stock . cut specific length using cross cutting saw, milled specific size. royal delivery service! two locations high stock levels match building requirements. source deliver latest products materials ever changing markets. pride always providing first class products, service delivery. forestry stewardship council ® (fsc ®) programme endorsement forestry certification (pefc) work ensure building materials use today sustainable building regulations. look fsc®-certified products. website design adelante © woodgreen timber. privacy policy'"
            ]
          },
          "metadata": {
            "tags": []
          },
          "execution_count": 122
        }
      ]
    },
    {
      "cell_type": "markdown",
      "metadata": {
        "id": "SVleF36zObKR"
      },
      "source": [
        "## Removing Special Characters\n",
        "\n",
        "\n"
      ]
    },
    {
      "cell_type": "code",
      "metadata": {
        "colab": {
          "base_uri": "https://localhost:8080/"
        },
        "id": "GKKkvKBPojsQ",
        "outputId": "628e4b20-201e-4cbc-f560-583fb42e9034"
      },
      "source": [
        "import nltk\n",
        "nltk.download('punkt')\n",
        "  "
      ],
      "execution_count": 123,
      "outputs": [
        {
          "output_type": "stream",
          "text": [
            "[nltk_data] Downloading package punkt to /root/nltk_data...\n",
            "[nltk_data]   Package punkt is already up-to-date!\n"
          ],
          "name": "stdout"
        },
        {
          "output_type": "execute_result",
          "data": {
            "text/plain": [
              "True"
            ]
          },
          "metadata": {
            "tags": []
          },
          "execution_count": 123
        }
      ]
    },
    {
      "cell_type": "code",
      "metadata": {
        "colab": {
          "base_uri": "https://localhost:8080/"
        },
        "id": "9F1RI5ft1Ei6",
        "outputId": "1cd50c4d-93d5-41eb-d627-0dfe18f73f95"
      },
      "source": [
        "print(string.punctuation)"
      ],
      "execution_count": 124,
      "outputs": [
        {
          "output_type": "stream",
          "text": [
            "!\"#$%&'()*+,-./:;<=>?@[\\]^_`{|}~\n"
          ],
          "name": "stdout"
        }
      ]
    },
    {
      "cell_type": "code",
      "metadata": {
        "id": "EJJwP0nUsKn4"
      },
      "source": [
        "def remove_punctuation(text):\n",
        "    lst = [c for c in text if c not in string.punctuation]\n",
        "    return ''.join(lst)"
      ],
      "execution_count": 125,
      "outputs": []
    },
    {
      "cell_type": "code",
      "metadata": {
        "id": "ekyA-OnavVtC"
      },
      "source": [
        "df['homepage_text'] = df['homepage_text'].apply(remove_punctuation)"
      ],
      "execution_count": 126,
      "outputs": []
    },
    {
      "cell_type": "code",
      "metadata": {
        "id": "L6QWKsMPXXT0"
      },
      "source": [
        "# stop_words = stopwords.words('english')"
      ],
      "execution_count": 127,
      "outputs": []
    },
    {
      "cell_type": "code",
      "metadata": {
        "id": "TiuXCo6JNQWg",
        "colab": {
          "base_uri": "https://localhost:8080/",
          "height": 124
        },
        "outputId": "8113ef22-d431-4036-8bd7-850f21b0e19a"
      },
      "source": [
        "df['homepage_text'][3]"
      ],
      "execution_count": 128,
      "outputs": [
        {
          "output_type": "execute_result",
          "data": {
            "application/vnd.google.colaboratory.intrinsic+json": {
              "type": "string"
            },
            "text/plain": [
              "'9185990202 type size home practice services patient forms eye care articles lasik glaucoma diagnosis cataracts diabetic eye exams location welcome practice excited provide professional eye care services comfortable friendly environment please contact us schedule appointment today click request appointment access forms visit office services provide would like welcome midtown eyecare professionals practice provide patient quality vision solutions exceptional customer service staff experienced areas vision care maintaining healthy eyes requires regular vision eye exams look forward serving you beforehand thank taking time browse website encourage learn dr kyle craig office staff our practice know many choices appreciate interest office contact us 1701 s peoria avenue tulsa ok 74120 phone 9185990202 office hours mon 800  500 pm tue 800  500 pm wed 800  500 pm thu 800  500 pm fri 800  300 pm notice privacy practices website eyefinity'"
            ]
          },
          "metadata": {
            "tags": []
          },
          "execution_count": 128
        }
      ]
    },
    {
      "cell_type": "markdown",
      "metadata": {
        "id": "rcftKr8nOOeO"
      },
      "source": [
        "## Removing Numbers"
      ]
    },
    {
      "cell_type": "code",
      "metadata": {
        "id": "sbGqX9cbORV2"
      },
      "source": [
        "\n",
        "df['homepage_text'] = df['homepage_text'].str.replace('\\d+', '')"
      ],
      "execution_count": 129,
      "outputs": []
    },
    {
      "cell_type": "code",
      "metadata": {
        "id": "Mxa2OWt5Ph_e",
        "colab": {
          "base_uri": "https://localhost:8080/",
          "height": 106
        },
        "outputId": "56cbd092-532d-4316-a78f-f28e8ca6a32e"
      },
      "source": [
        "df['homepage_text'][3]"
      ],
      "execution_count": 130,
      "outputs": [
        {
          "output_type": "execute_result",
          "data": {
            "application/vnd.google.colaboratory.intrinsic+json": {
              "type": "string"
            },
            "text/plain": [
              "' type size home practice services patient forms eye care articles lasik glaucoma diagnosis cataracts diabetic eye exams location welcome practice excited provide professional eye care services comfortable friendly environment please contact us schedule appointment today click request appointment access forms visit office services provide would like welcome midtown eyecare professionals practice provide patient quality vision solutions exceptional customer service staff experienced areas vision care maintaining healthy eyes requires regular vision eye exams look forward serving you beforehand thank taking time browse website encourage learn dr kyle craig office staff our practice know many choices appreciate interest office contact us  s peoria avenue tulsa ok  phone  office hours mon    pm tue    pm wed    pm thu    pm fri    pm notice privacy practices website eyefinity'"
            ]
          },
          "metadata": {
            "tags": []
          },
          "execution_count": 130
        }
      ]
    },
    {
      "cell_type": "markdown",
      "metadata": {
        "id": "0wc0UeTmPwvT"
      },
      "source": [
        "## Removing words with 3 or less letters"
      ]
    },
    {
      "cell_type": "code",
      "metadata": {
        "id": "FvUgyyk-P6xU"
      },
      "source": [
        "def remove_words(text):\n",
        "  # text = [word.lower() for word in text.split() if word.lower() not in stop_words]\n",
        "  return ' '.join([w for w in text.split() if len(w)>3])"
      ],
      "execution_count": 131,
      "outputs": []
    },
    {
      "cell_type": "code",
      "metadata": {
        "id": "OoJ0Jw-TP2If"
      },
      "source": [
        "# new_string = ' '.join([w for w in old_string.split() if len(w)>3])\n",
        "df['homepage_text'] = df['homepage_text'].apply(remove_words)"
      ],
      "execution_count": 132,
      "outputs": []
    },
    {
      "cell_type": "code",
      "metadata": {
        "colab": {
          "base_uri": "https://localhost:8080/",
          "height": 106
        },
        "id": "SNYlrZK0QYyl",
        "outputId": "f6632941-b4e2-4bd1-c036-ada2e093ecf7"
      },
      "source": [
        "df['homepage_text'][3]"
      ],
      "execution_count": 133,
      "outputs": [
        {
          "output_type": "execute_result",
          "data": {
            "application/vnd.google.colaboratory.intrinsic+json": {
              "type": "string"
            },
            "text/plain": [
              "'type size home practice services patient forms care articles lasik glaucoma diagnosis cataracts diabetic exams location welcome practice excited provide professional care services comfortable friendly environment please contact schedule appointment today click request appointment access forms visit office services provide would like welcome midtown eyecare professionals practice provide patient quality vision solutions exceptional customer service staff experienced areas vision care maintaining healthy eyes requires regular vision exams look forward serving beforehand thank taking time browse website encourage learn kyle craig office staff practice know many choices appreciate interest office contact peoria avenue tulsa phone office hours notice privacy practices website eyefinity'"
            ]
          },
          "metadata": {
            "tags": []
          },
          "execution_count": 133
        }
      ]
    },
    {
      "cell_type": "markdown",
      "metadata": {
        "id": "ARO6UjcEOj9m"
      },
      "source": [
        "\n",
        "## Lemmatization"
      ]
    },
    {
      "cell_type": "code",
      "metadata": {
        "colab": {
          "base_uri": "https://localhost:8080/"
        },
        "id": "zyEJ-1l7OMRF",
        "outputId": "90660c5c-23c9-4301-fd26-c3ca622272da"
      },
      "source": [
        "from nltk.stem.snowball import SnowballStemmer\n",
        "from nltk.tokenize import WhitespaceTokenizer as w_tokenizer\n",
        "import nltk\n",
        "nltk.download('wordnet')\n",
        "nltk.download('punkt')\n",
        "nltk.download('averaged_perceptron_tagger')"
      ],
      "execution_count": 134,
      "outputs": [
        {
          "output_type": "stream",
          "text": [
            "[nltk_data] Downloading package wordnet to /root/nltk_data...\n",
            "[nltk_data]   Package wordnet is already up-to-date!\n",
            "[nltk_data] Downloading package punkt to /root/nltk_data...\n",
            "[nltk_data]   Package punkt is already up-to-date!\n",
            "[nltk_data] Downloading package averaged_perceptron_tagger to\n",
            "[nltk_data]     /root/nltk_data...\n",
            "[nltk_data]   Package averaged_perceptron_tagger is already up-to-\n",
            "[nltk_data]       date!\n"
          ],
          "name": "stdout"
        },
        {
          "output_type": "execute_result",
          "data": {
            "text/plain": [
              "True"
            ]
          },
          "metadata": {
            "tags": []
          },
          "execution_count": 134
        }
      ]
    },
    {
      "cell_type": "code",
      "metadata": {
        "id": "uULqNvg6AeZE"
      },
      "source": [
        "from nltk.corpus import wordnet as wn\n",
        "from nltk.stem.wordnet import WordNetLemmatizer\n",
        "from nltk import word_tokenize, pos_tag\n",
        "from collections import defaultdict\n",
        "tag_map = defaultdict(lambda : wn.NOUN)\n",
        "tag_map['J'] = wn.ADJ\n",
        "tag_map['V'] = wn.VERB\n",
        "tag_map['R'] = wn.ADV"
      ],
      "execution_count": 135,
      "outputs": []
    },
    {
      "cell_type": "code",
      "metadata": {
        "id": "NM8UN01WRDKc"
      },
      "source": [
        "def lemmatize_text(text):\n",
        "  \n",
        "  tokens = word_tokenize(text)\n",
        "  lemmatizer = WordNetLemmatizer()\n",
        "  l = []\n",
        "  for token, tag in pos_tag(tokens):\n",
        "    lemma = lemmatizer.lemmatize(token, tag_map[tag[0]])\n",
        "    l.append(lemma)\n",
        "    \n",
        "  return \" \".join(l)"
      ],
      "execution_count": 136,
      "outputs": []
    },
    {
      "cell_type": "code",
      "metadata": {
        "id": "2LOswUzPbhBa"
      },
      "source": [
        "df['homepage_text'] = df['homepage_text'].apply(lemmatize_text)"
      ],
      "execution_count": 137,
      "outputs": []
    },
    {
      "cell_type": "code",
      "metadata": {
        "id": "PTxh3bmlvqqM",
        "colab": {
          "base_uri": "https://localhost:8080/",
          "height": 124
        },
        "outputId": "b563869b-a8b0-4d0b-b60a-882c59cdac6c"
      },
      "source": [
        "df['homepage_text'][20]"
      ],
      "execution_count": 138,
      "outputs": [
        {
          "output_type": "execute_result",
          "data": {
            "application/vnd.google.colaboratory.intrinsic+json": {
              "type": "string"
            },
            "text/plain": [
              "'javascript seem disabled browser best experience site sure turn javascript browser feedback contact help center tour event calendar skip content toggle search cart branch branch middle street middletown change branch login register result deliver pick call price discontinue product find match criterion search account shop category quick order shop list service location line card contact career chat customer support branch login account account shop category list help center customer service branch number feedback view location click choose technology increase easy button automate inventory management upload logo order account change order list catalog contact upload logo please upload jpeg format image resolution pixel size browse close save change category wire device combination device plug connector receptacle switch wall switch plate power strip multioutlet converter conduit fitting cable tray accessory conduit fitting hanger clamp support metallic conduit nonmetallic conduit electrical enclosure box hardware accessory device box enclosure cabinet explosionproof box accessory mudent box accessory tool battery charger hand tool tool attachment accessory adhesive sealant tape electrical measure test light ballast starter capacitor lamps bulbs driver bulb recycle maintenance exit emergency light hazardous location vapor tight fixture power distribution breaker fuse disconnect safety switch load center panelboards accessory transformer wire aluminum building wire bare wire copper building wire direct burial service wire hookup high temperature wire wiring supply bundle secure crimp wire connector ground bond lugs split bolt mechanical connector hardware anchor miscellaneous fastener nut washer screw bolt cable rope chain safety protection signal access control system accessory fire safety protection personal safety protection safety lockout tagout device safety tape sign label datacom audio video copper connectivity fiber optic connectivity coax connectivity network component hvac circulators ducting vent electric heating exhaust ventilation central vacuum system industrial control automation motor control relay timer control station control panel drive accessory industrial switch sensor solar solar component inverter accessory solar panel accessory newsletter sign newsletter subscribe login invalid login password email password forget password login company already account number register business account benefit flexible payment term discount available qualified customer free expedite truck delivery late order ship first thing morning project management expert engineering support apply register first name last name email password character type upper low numeric special password strength password link business account account number invoice number sign newsletter retrieve account number please call register exist account account create successfully please enter email address receive password reset link email reset password back product image product long name product price subtotal item count checkout view cart continue shop test search city state code sort availability hand distance matching branch find please different zipcode branch distance hand pickup please select quantity add cart view branch cancel reset cart pickup inventory display accurate regularly update inventory online discrepancy actual stock reset cart pickup test test distance mile ship delivery return policy privacy policy contact franklingriffith feedback indicate require field type please select issue type search issue content issue functionality issue name email issue summary description page data wwwfranklinelectricnet submit feedback cancel submit leave close registration click login register account business account customer access account price payment option help center click answer common question order ship payment return well contact information customer service team branch locator update home branch make schedule pick order faster easier improve search result bring local product list search search use keywords manufacturer part number skus trade slang more… shop category browse catalog thousand products… newsletter sign receive late deal notify continue improve site login'"
            ]
          },
          "metadata": {
            "tags": []
          },
          "execution_count": 138
        }
      ]
    },
    {
      "cell_type": "code",
      "metadata": {
        "id": "hogVOU3gb_-s"
      },
      "source": [
        "def remove_urls_punctuations(text):\n",
        "  text = re.sub(r\"(?:\\@|http?\\://)\\S+\", \"\", text)\n",
        "  text = re.sub(r\"(?:\\@|https?\\://)\\S+\", \"\", text)\n",
        "  text = re.sub(r\"[^\\w\\s]\", \"\", text)\n",
        "  return text"
      ],
      "execution_count": 139,
      "outputs": []
    },
    {
      "cell_type": "code",
      "metadata": {
        "id": "I9rU6ou5cBzN"
      },
      "source": [
        "df['homepage_text'] = df['homepage_text'].apply(remove_urls_punctuations)"
      ],
      "execution_count": 140,
      "outputs": []
    },
    {
      "cell_type": "code",
      "metadata": {
        "colab": {
          "base_uri": "https://localhost:8080/",
          "height": 124
        },
        "id": "7PjHMxBKcM7j",
        "outputId": "0c1ed334-9a0e-416a-9b49-4781bc30e4fb"
      },
      "source": [
        "df['homepage_text'][20]"
      ],
      "execution_count": 141,
      "outputs": [
        {
          "output_type": "execute_result",
          "data": {
            "application/vnd.google.colaboratory.intrinsic+json": {
              "type": "string"
            },
            "text/plain": [
              "'javascript seem disabled browser best experience site sure turn javascript browser feedback contact help center tour event calendar skip content toggle search cart branch branch middle street middletown change branch login register result deliver pick call price discontinue product find match criterion search account shop category quick order shop list service location line card contact career chat customer support branch login account account shop category list help center customer service branch number feedback view location click choose technology increase easy button automate inventory management upload logo order account change order list catalog contact upload logo please upload jpeg format image resolution pixel size browse close save change category wire device combination device plug connector receptacle switch wall switch plate power strip multioutlet converter conduit fitting cable tray accessory conduit fitting hanger clamp support metallic conduit nonmetallic conduit electrical enclosure box hardware accessory device box enclosure cabinet explosionproof box accessory mudent box accessory tool battery charger hand tool tool attachment accessory adhesive sealant tape electrical measure test light ballast starter capacitor lamps bulbs driver bulb recycle maintenance exit emergency light hazardous location vapor tight fixture power distribution breaker fuse disconnect safety switch load center panelboards accessory transformer wire aluminum building wire bare wire copper building wire direct burial service wire hookup high temperature wire wiring supply bundle secure crimp wire connector ground bond lugs split bolt mechanical connector hardware anchor miscellaneous fastener nut washer screw bolt cable rope chain safety protection signal access control system accessory fire safety protection personal safety protection safety lockout tagout device safety tape sign label datacom audio video copper connectivity fiber optic connectivity coax connectivity network component hvac circulators ducting vent electric heating exhaust ventilation central vacuum system industrial control automation motor control relay timer control station control panel drive accessory industrial switch sensor solar solar component inverter accessory solar panel accessory newsletter sign newsletter subscribe login invalid login password email password forget password login company already account number register business account benefit flexible payment term discount available qualified customer free expedite truck delivery late order ship first thing morning project management expert engineering support apply register first name last name email password character type upper low numeric special password strength password link business account account number invoice number sign newsletter retrieve account number please call register exist account account create successfully please enter email address receive password reset link email reset password back product image product long name product price subtotal item count checkout view cart continue shop test search city state code sort availability hand distance matching branch find please different zipcode branch distance hand pickup please select quantity add cart view branch cancel reset cart pickup inventory display accurate regularly update inventory online discrepancy actual stock reset cart pickup test test distance mile ship delivery return policy privacy policy contact franklingriffith feedback indicate require field type please select issue type search issue content issue functionality issue name email issue summary description page data wwwfranklinelectricnet submit feedback cancel submit leave close registration click login register account business account customer access account price payment option help center click answer common question order ship payment return well contact information customer service team branch locator update home branch make schedule pick order faster easier improve search result bring local product list search search use keywords manufacturer part number skus trade slang more shop category browse catalog thousand products newsletter sign receive late deal notify continue improve site login'"
            ]
          },
          "metadata": {
            "tags": []
          },
          "execution_count": 141
        }
      ]
    },
    {
      "cell_type": "code",
      "metadata": {
        "id": "TaTq2sEgZyTT"
      },
      "source": [
        "# from textblob import TextBlob\n",
        "\n",
        "# def textblob_tokenizer(str_input):\n",
        "#     blob = TextBlob(str_input.lower())\n",
        "#     tokens = blob.words\n",
        "#     words = [token.stem() for token in tokens]\n",
        "#     return words"
      ],
      "execution_count": 142,
      "outputs": []
    },
    {
      "cell_type": "markdown",
      "metadata": {
        "id": "smeZewV-ceJ7"
      },
      "source": [
        "## Vectorizing our data"
      ]
    },
    {
      "cell_type": "code",
      "metadata": {
        "id": "W4EdMS1h2tw6"
      },
      "source": [
        "# create the object of tfid vectorizer\n",
        "tfid_vectorizer = TfidfVectorizer(max_df=0.85, min_df=0.1)\n",
        "\n",
        "# fit the vectorizer using the text data\n",
        "X = tfid_vectorizer.fit_transform(df['homepage_text'])\n"
      ],
      "execution_count": 143,
      "outputs": []
    },
    {
      "cell_type": "code",
      "metadata": {
        "colab": {
          "base_uri": "https://localhost:8080/"
        },
        "id": "rsMYdf2rw_1R",
        "outputId": "0883ff05-5af6-489c-b071-fe7acb903511"
      },
      "source": [
        "X.shape"
      ],
      "execution_count": 144,
      "outputs": [
        {
          "output_type": "execute_result",
          "data": {
            "text/plain": [
              "(73305, 332)"
            ]
          },
          "metadata": {
            "tags": []
          },
          "execution_count": 144
        }
      ]
    },
    {
      "cell_type": "code",
      "metadata": {
        "id": "5AMc-q-JrOU-"
      },
      "source": [
        "array = X.toarray()"
      ],
      "execution_count": 145,
      "outputs": []
    },
    {
      "cell_type": "code",
      "metadata": {
        "id": "dY7fDcmyGI8P"
      },
      "source": [
        "# from sklearn.manifold import TSNE\n",
        "\n",
        "\n",
        "# data_new = TSNE(perplexity=30).fit_transform(array) \n"
      ],
      "execution_count": 146,
      "outputs": []
    },
    {
      "cell_type": "code",
      "metadata": {
        "id": "TVZdlJREGuZ0"
      },
      "source": [
        "# type(data_new)"
      ],
      "execution_count": 147,
      "outputs": []
    },
    {
      "cell_type": "code",
      "metadata": {
        "id": "dJxZ49HsM-pA"
      },
      "source": [
        "# data_new.shape"
      ],
      "execution_count": 148,
      "outputs": []
    },
    {
      "cell_type": "code",
      "metadata": {
        "id": "OaFD3vPqrYbM",
        "colab": {
          "base_uri": "https://localhost:8080/"
        },
        "outputId": "a3e2bdf8-c38e-40d3-f13c-dbe371bb02e6"
      },
      "source": [
        "df1 = pd.DataFrame(array)\n",
        "df1.shape"
      ],
      "execution_count": 149,
      "outputs": [
        {
          "output_type": "execute_result",
          "data": {
            "text/plain": [
              "(73305, 332)"
            ]
          },
          "metadata": {
            "tags": []
          },
          "execution_count": 149
        }
      ]
    },
    {
      "cell_type": "code",
      "metadata": {
        "id": "BlREBKsitxMi"
      },
      "source": [
        "# pip install tensorflow-gpu\n"
      ],
      "execution_count": 150,
      "outputs": []
    },
    {
      "cell_type": "code",
      "metadata": {
        "id": "pSCCJKkdt4Pj"
      },
      "source": [
        "# pip install kmeanstf\n"
      ],
      "execution_count": 151,
      "outputs": []
    },
    {
      "cell_type": "code",
      "metadata": {
        "id": "SQaz7ZWGAIWo"
      },
      "source": [
        "data_new = array"
      ],
      "execution_count": 152,
      "outputs": []
    },
    {
      "cell_type": "code",
      "metadata": {
        "id": "Y7nmo9kw_JHr"
      },
      "source": [
        "\n",
        "wcss=[]\n",
        "for i in range(2,18):\n",
        "    kmeans=KMeans(n_clusters=i, init='k-means++',random_state=0)\n",
        "    kmeans.fit(data_new)\n",
        "    wcss.append(kmeans.inertia_)\n",
        "\n",
        "# plt.plot(range(2,18),wcss ,'bx-')\n",
        "# plt.title('The Elbow Method')\n",
        "# plt.xlabel('Number of Clusters')\n",
        "# plt.ylabel('WCSS')\n",
        "# plt.show()"
      ],
      "execution_count": 153,
      "outputs": []
    },
    {
      "cell_type": "code",
      "metadata": {
        "colab": {
          "base_uri": "https://localhost:8080/",
          "height": 730
        },
        "id": "kFKQ6gkNG5ic",
        "outputId": "6e53dd0c-1afb-4ad5-b648-5f45e99e1a3e"
      },
      "source": [
        "plt.figure(figsize = (12,12))\n",
        "plt.plot(range(2,18),wcss ,'bx-')\n",
        "plt.title('The Elbow Method')\n",
        "plt.xlabel('Number of Clusters')\n",
        "plt.ylabel('WCSS')\n",
        "plt.show()"
      ],
      "execution_count": 154,
      "outputs": [
        {
          "output_type": "display_data",
          "data": {
            "image/png": "[encoded data removed]",
            "text/plain": [
              "<Figure size 864x864 with 1 Axes>"
            ]
          },
          "metadata": {
            "tags": [],
            "needs_background": "light"
          }
        }
      ]
    },
    {
      "cell_type": "code",
      "metadata": {
        "id": "xklLsENwOnM1",
        "colab": {
          "base_uri": "https://localhost:8080/"
        },
        "outputId": "85b51bef-554a-4a02-ce08-6f6c83bcd572"
      },
      "source": [
        "\n",
        "# range_n_clusters = [2,3,4,5,6,7,8,10]\n",
        "# data_new = data_new.to_numpy()\n",
        "X = np.array(data_new)\n",
        "# data_new = data_new.iloc[:,:-1].values\n",
        "type(data_new)"
      ],
      "execution_count": 155,
      "outputs": [
        {
          "output_type": "execute_result",
          "data": {
            "text/plain": [
              "numpy.ndarray"
            ]
          },
          "metadata": {
            "tags": []
          },
          "execution_count": 155
        }
      ]
    },
    {
      "cell_type": "code",
      "metadata": {
        "id": "xciL2EOK8ZOV"
      },
      "source": [
        "from sklearn.metrics import silhouette_score, silhouette_samples"
      ],
      "execution_count": 156,
      "outputs": []
    },
    {
      "cell_type": "code",
      "metadata": {
        "id": "kjt3ZmwMPkqx"
      },
      "source": [
        "# range_n_clusters = np.arange(2,18)\n",
        "\n",
        "# for n_clusters in range_n_clusters:\n",
        "#     # Create a subplot with 1 row and 2 columns\n",
        "#     fig, (ax) = plt.subplots(1)\n",
        "#     fig.set_size_inches(6, 6)\n",
        "\n",
        "#     # The 1st subplot is the silhouette plot\n",
        "#     # The silhouette coefficient can range from -1, 1 but in this example all\n",
        "#     # lie within [-0.1, 1]\n",
        "#     ax.set_xlim([-1, 1])\n",
        "#     # The (n_clusters+1)*10 is for inserting blank space between silhouette\n",
        "#     # plots of individual clusters, to demarcate them clearly.\n",
        "#     ax.set_ylim([0, len(X) + (n_clusters + 1) * 10])\n",
        "\n",
        "#     # Initialize the clusterer with n_clusters value and\n",
        "#     # seed of 10 for reproducibility.\n",
        "#     clusterer = KMeans(init = \"k-means++\" , n_clusters=n_clusters, random_state=10)\n",
        "#     cluster_labels = clusterer.fit_predict(X)\n",
        "\n",
        "#     # The silhouette_score gives the average value for all the samples.\n",
        "#     # This gives a perspective into the density and separation of the formed\n",
        "#     # clusters\n",
        "#     silhouette_avg = silhouette_score(X, cluster_labels)\n",
        "#     print(\"For n_clusters =\", n_clusters,\n",
        "#           \"The average silhouette_score is :\", silhouette_avg)\n",
        "\n",
        "#     # Compute the silhouette scores for each sample\n",
        "#     sample_silhouette_values = silhouette_samples(X, cluster_labels)\n",
        "\n",
        "#     y_lower = 10\n",
        "#     for i in range(n_clusters):\n",
        "#         # Aggregate the silhouette scores for samples belonging to\n",
        "#         # cluster i, and sort them\n",
        "#         ith_cluster_silhouette_values = \\\n",
        "#             sample_silhouette_values[cluster_labels == i]\n",
        "\n",
        "#         ith_cluster_silhouette_values.sort()\n",
        "\n",
        "#         size_cluster_i = ith_cluster_silhouette_values.shape[0]\n",
        "#         y_upper = y_lower + size_cluster_i\n",
        "\n",
        "#         color = cm.nipy_spectral(float(i) / n_clusters)\n",
        "#         ax.fill_betweenx(np.arange(y_lower, y_upper),\n",
        "#                           0, ith_cluster_silhouette_values,\n",
        "#                           facecolor=color, edgecolor=color, alpha=0.7)\n",
        "\n",
        "#         # Label the silhouette plots with their cluster numbers at the middle\n",
        "#         ax.text(-0.05, y_lower + 0.5 * size_cluster_i, str(i))\n",
        "\n",
        "#         # Compute the new y_lower for next plot\n",
        "#         y_lower = y_upper + 10  # 10 for the 0 samples\n",
        "\n",
        "#     ax.set_title(\"The silhouette plot for the various clusters.\")\n",
        "#     ax.set_xlabel(\"The silhouette coefficient values\")\n",
        "#     ax.set_ylabel(\"Cluster label\")\n",
        "\n",
        "#     # The vertical line for average silhouette score of all the values\n",
        "#     ax.axvline(x=silhouette_avg, color=\"red\", linestyle=\"--\")\n",
        "\n",
        "#     ax.set_yticks([])  # Clear the yaxis labels / ticks\n",
        "#     ax.set_xticks([-0.6,-0.4,-0.2, 0, 0.2, 0.4, 0.6, 0.8, 1])"
      ],
      "execution_count": 159,
      "outputs": []
    },
    {
      "cell_type": "markdown",
      "metadata": {
        "id": "zvc_mlIi-X6h"
      },
      "source": [
        "## Optimal number of clusters from silhouette plot and elbow is n = 12"
      ]
    },
    {
      "cell_type": "code",
      "metadata": {
        "id": "s6xJAOx8_sBh"
      },
      "source": [
        "kmeans = KMeans(n_clusters=9).fit(array)\n",
        "centroids = kmeans.cluster_centers_\n",
        "# print(centroids)"
      ],
      "execution_count": null,
      "outputs": []
    },
    {
      "cell_type": "code",
      "metadata": {
        "id": "fKAUOogdACCd"
      },
      "source": [
        "print(centroids)"
      ],
      "execution_count": null,
      "outputs": []
    },
    {
      "cell_type": "code",
      "metadata": {
        "id": "LcaEmc8-yJV4"
      },
      "source": [
        "# centroids.get_feature_names()"
      ],
      "execution_count": null,
      "outputs": []
    },
    {
      "cell_type": "code",
      "metadata": {
        "id": "YKmvxDDVYKAb"
      },
      "source": [
        "centroids = pd.DataFrame(centroids)"
      ],
      "execution_count": null,
      "outputs": []
    },
    {
      "cell_type": "code",
      "metadata": {
        "id": "WfSY8rBuYRp6"
      },
      "source": [
        "centroids"
      ],
      "execution_count": null,
      "outputs": []
    },
    {
      "cell_type": "code",
      "metadata": {
        "id": "k-0kFj2pAGX4"
      },
      "source": [
        "kmeans.labels_[:10]"
      ],
      "execution_count": null,
      "outputs": []
    },
    {
      "cell_type": "code",
      "metadata": {
        "id": "wiF1y9tvFiwb"
      },
      "source": [
        "labels = kmeans.labels_\n",
        "cluster_df = pd.DataFrame(list(zip(df[\"homepage_text\"],labels)),columns=['homepage_text','cluster'])"
      ],
      "execution_count": null,
      "outputs": []
    },
    {
      "cell_type": "code",
      "metadata": {
        "id": "MZC5qP3KDlI0"
      },
      "source": [
        "cluster_df.shape"
      ],
      "execution_count": null,
      "outputs": []
    },
    {
      "cell_type": "code",
      "metadata": {
        "id": "zv4iEejiB0zh"
      },
      "source": [
        "unique, counts = np.unique(kmeans.labels_, return_counts=True)"
      ],
      "execution_count": null,
      "outputs": []
    },
    {
      "cell_type": "code",
      "metadata": {
        "id": "p-i_ElvlFlZI"
      },
      "source": [
        "unique"
      ],
      "execution_count": null,
      "outputs": []
    },
    {
      "cell_type": "code",
      "metadata": {
        "id": "rnNmLswlB_pI"
      },
      "source": [
        "dict_data = dict(zip(unique, counts))\n",
        "dict_data"
      ],
      "execution_count": null,
      "outputs": []
    },
    {
      "cell_type": "code",
      "metadata": {
        "id": "HWyfkw6CCGQk"
      },
      "source": [
        "# data[\"cluster\"] = kmeans.labels_"
      ],
      "execution_count": null,
      "outputs": []
    },
    {
      "cell_type": "code",
      "metadata": {
        "id": "z5utidy7CMUS"
      },
      "source": [
        "# df.head()"
      ],
      "execution_count": null,
      "outputs": []
    },
    {
      "cell_type": "code",
      "metadata": {
        "id": "7o3lxVkOSqPC"
      },
      "source": [
        "!apt install wordcloud"
      ],
      "execution_count": null,
      "outputs": []
    },
    {
      "cell_type": "code",
      "metadata": {
        "id": "E6hG-7us9vrg"
      },
      "source": [
        "from wordcloud import WordCloud"
      ],
      "execution_count": null,
      "outputs": []
    },
    {
      "cell_type": "code",
      "metadata": {
        "id": "ORbTLTRh9zA-"
      },
      "source": [
        "# len(tfid_vectorizer.get_feature_names())"
      ],
      "execution_count": null,
      "outputs": []
    },
    {
      "cell_type": "code",
      "metadata": {
        "id": "wOTI470K95wE"
      },
      "source": [
        "tfid_vectorizer.vocabulary_"
      ],
      "execution_count": null,
      "outputs": []
    },
    {
      "cell_type": "code",
      "metadata": {
        "id": "SP7YTFwp_GvU"
      },
      "source": [
        "df_ = pd.DataFrame(array, columns=tfid_vectorizer.get_feature_names())"
      ],
      "execution_count": null,
      "outputs": []
    },
    {
      "cell_type": "code",
      "metadata": {
        "id": "TMYncBrFAGWX"
      },
      "source": [
        "df_.head()"
      ],
      "execution_count": null,
      "outputs": []
    },
    {
      "cell_type": "code",
      "metadata": {
        "id": "pVR1zpkwBBFy"
      },
      "source": [
        "data = df_.T #transposing"
      ],
      "execution_count": null,
      "outputs": []
    },
    {
      "cell_type": "code",
      "metadata": {
        "id": "UW11DRdxBOJ8"
      },
      "source": [
        "df_.T.sum(axis=1)"
      ],
      "execution_count": null,
      "outputs": []
    },
    {
      "cell_type": "code",
      "metadata": {
        "id": "NoMPoEdrC_EM"
      },
      "source": [
        "# Words = np.array_str((np.take(tfid_vectorizer.get_feature_names(), cen\n",
        "centroids.T[0].sort_values(ascending = False)"
      ],
      "execution_count": null,
      "outputs": []
    },
    {
      "cell_type": "code",
      "metadata": {
        "id": "2yKpbEq2XxH1"
      },
      "source": [
        "centroids"
      ],
      "execution_count": null,
      "outputs": []
    },
    {
      "cell_type": "code",
      "metadata": {
        "id": "reVIlouzw7_D"
      },
      "source": [
        "from collections import Counter\n",
        "# "
      ],
      "execution_count": null,
      "outputs": []
    },
    {
      "cell_type": "code",
      "metadata": {
        "id": "0VCRLme-jGDe"
      },
      "source": [
        "order_centroids = kmeans.cluster_centers_.argsort()[:, ::-1]\n",
        "terms = tfid_vectorizer.get_feature_names()\n",
        "for i in range(9):\n",
        "    words = [terms[ind] for ind in order_centroids[i, :]]\n",
        "    words_ = Counter(words)\n",
        "    # print(\"Cluster {}: {}\".format(i, ' '.join(words)))\n",
        "    \n",
        "    wordcloud = WordCloud(background_color=\"white\", max_words=100).generate_from_frequencies(words_)\n",
        "\n",
        "    plt.figure(figsize = (15,15))\n",
        "    plt.title('Cluster {}'.format(i))\n",
        "    plt.imshow(wordcloud,interpolation=\"bilinear\")\n",
        "    plt.axis(\"off\")\n",
        "    plt.show()"
      ],
      "execution_count": null,
      "outputs": []
    },
    {
      "cell_type": "code",
      "metadata": {
        "id": "3qRTkuNHEKKN"
      },
      "source": [
        "name_of_cluster = {0 : \"Consumer Discretionary\" , 4: \"Insurance services\" , 1: \"Renewable Energy & products\" , 2: \"Commercial Services & Supplies\" , 3: \"Corporate Services and Digital Marketing\" , 6: \"Real Estates\" , 8: \"HealthCare\" , 7:\"Law and financials\"}"
      ],
      "execution_count": null,
      "outputs": []
    },
    {
      "cell_type": "code",
      "metadata": {
        "id": "vsOkEtUTGWZB"
      },
      "source": [
        "# df_name = pd.DataFrame.from_dict(name_of_cluster)\n",
        "df_name = pd.DataFrame(list(name_of_cluster.items()),columns = ['cluster','name_of_cluster']) \n",
        "df_name"
      ],
      "execution_count": null,
      "outputs": []
    },
    {
      "cell_type": "code",
      "metadata": {
        "id": "ULzcTHzyLLQ8"
      },
      "source": [
        "frames = [cluster_df, df_name]\n",
        "\n",
        "# result = pd.concat(frames,axis=1)\n",
        "result = pd.merge(cluster_df, df_name,on='cluster')\n"
      ],
      "execution_count": null,
      "outputs": []
    },
    {
      "cell_type": "code",
      "metadata": {
        "id": "bjeHMiOzLcQY"
      },
      "source": [
        "result.shape"
      ],
      "execution_count": null,
      "outputs": []
    },
    {
      "cell_type": "code",
      "metadata": {
        "id": "8NXlBwDLLsBg"
      },
      "source": [
        "result.head()"
      ],
      "execution_count": null,
      "outputs": []
    },
    {
      "cell_type": "code",
      "metadata": {
        "id": "di7oX6GhPegK"
      },
      "source": [
        "# from wordcloud import WordCloud\n",
        "\n",
        "# true_k = 9\n",
        "# # result={'cluster':labels,'wiki':wiki_lst}\n",
        "# result=pd.DataFrame(result)\n",
        "# for k in range(0,true_k):\n",
        "#    s=result[result.cluster==k]\n",
        "#    text=result['homepage_text'].str.cat(sep=' ')\n",
        "#    text=text.lower()\n",
        "#    text=' '.join([word for word in text.split()])\n",
        "#    wordcloud = WordCloud(max_font_size=50, max_words=100, background_color=\"white\").generate(text)\n",
        "#    print('Cluster: {}'.format(k))\n",
        "#    print('Titles')\n",
        "#    titles=wiki_cl[wiki_cl.cluster==k]['title']         \n",
        "#    print(titles.to_string(index=False))\n",
        "#    plt.figure()\n",
        "#    plt.imshow(wordcloud, interpolation=\"bilinear\")\n",
        "#    plt.axis(\"off\")\n",
        "#    plt.show()"
      ],
      "execution_count": null,
      "outputs": []
    },
    {
      "cell_type": "code",
      "metadata": {
        "id": "cfExC_ZmPPr8"
      },
      "source": [
        "# from wordcloud import WordCloud\n",
        "# # result={'cluster':labels,'wiki':wiki_lst}\n",
        "# result=pd.DataFrame(result)\n",
        "# for k in range(0,true_k):\n",
        "#   #  s=result[result.cluster==k]\n",
        "#   #  text=s['wiki'].str.cat(sep=' ')\n",
        "#   #  text=text.lower()\n",
        "#    text=' '.join([word for word in text.split()])\n",
        "#    wordcloud = WordCloud(max_font_size=50, max_words=100, background_color=\"white\").generate(text)\n",
        "#    print('Cluster: {}'.format(k))\n",
        "#   #  print('Titles')\n",
        "#   #  titles=wiki_cl[wiki_cl.cluster==k]['title']         \n",
        "#   #  print(titles.to_string(index=False))\n",
        "#    plt.figure()\n",
        "#    plt.imshow(wordcloud, interpolation=\"bilinear\")\n",
        "#    plt.axis(\"off\")\n",
        "#    plt.show()"
      ],
      "execution_count": null,
      "outputs": []
    },
    {
      "cell_type": "code",
      "metadata": {
        "id": "0ymMQHY5rh7y"
      },
      "source": [
        "# wordcloud = WordCloud(background_color=\"white\", max_words=50).generate_from_frequencies(centroids[0])\n",
        "# plt.imshow(wordcloud)"
      ],
      "execution_count": null,
      "outputs": []
    },
    {
      "cell_type": "code",
      "metadata": {
        "id": "IS61M612RUbk"
      },
      "source": [
        "pip install beautifulsoup4\n"
      ],
      "execution_count": null,
      "outputs": []
    },
    {
      "cell_type": "code",
      "metadata": {
        "id": "wWR09lO5LfxI"
      },
      "source": [
        "pip install gensim "
      ],
      "execution_count": null,
      "outputs": []
    },
    {
      "cell_type": "code",
      "metadata": {
        "id": "fjMjUWvrNM1s"
      },
      "source": [
        "import multiprocessing\n",
        "\n",
        "from gensim.models import Word2Vec"
      ],
      "execution_count": null,
      "outputs": []
    },
    {
      "cell_type": "code",
      "metadata": {
        "id": "0cp7O14SOAVL"
      },
      "source": [
        "df['tokenized_sents'] = df.apply(lambda row: nltk.word_tokenize(row['homepage_text']), axis=1)\n"
      ],
      "execution_count": null,
      "outputs": []
    },
    {
      "cell_type": "code",
      "metadata": {
        "id": "cinO_D2TPFc3"
      },
      "source": [
        "df.head()"
      ],
      "execution_count": null,
      "outputs": []
    },
    {
      "cell_type": "code",
      "metadata": {
        "id": "y9qrln2EPo5p"
      },
      "source": [
        "# text = df['homepage_text'].values"
      ],
      "execution_count": null,
      "outputs": []
    },
    {
      "cell_type": "code",
      "metadata": {
        "id": "59ynM23dR2gF"
      },
      "source": [
        "model = Word2Vec(df['tokenized_sents'].values, workers=1)"
      ],
      "execution_count": null,
      "outputs": []
    },
    {
      "cell_type": "code",
      "metadata": {
        "id": "G7Gj4sp_esHc"
      },
      "source": [
        "def vectorize(list_of_docs, model):\n",
        "    \"\"\"Generate vectors for list of documents using a Word Embedding\n",
        "\n",
        "    Args:\n",
        "        list_of_docs: List of documents\n",
        "        model: Gensim's Word Embedding\n",
        "\n",
        "    Returns:\n",
        "        List of document vectors\n",
        "    \"\"\"\n",
        "    features = []\n",
        "\n",
        "    for tokens in list_of_docs:\n",
        "        zero_vector = np.zeros(model.vector_size)\n",
        "        vectors = []\n",
        "        for token in tokens:\n",
        "            if token in model.wv:\n",
        "                try:\n",
        "                    vectors.append(model.wv[token])\n",
        "                except KeyError:\n",
        "                    continue\n",
        "        if vectors:\n",
        "            vectors = np.asarray(vectors)\n",
        "            avg_vec = vectors.mean(axis=0)\n",
        "            features.append(avg_vec)\n",
        "        else:\n",
        "            features.append(zero_vector)\n",
        "    return features"
      ],
      "execution_count": null,
      "outputs": []
    },
    {
      "cell_type": "code",
      "metadata": {
        "id": "0AdzZMPzkfi4"
      },
      "source": [
        "# vectorized_docs.vocab"
      ],
      "execution_count": null,
      "outputs": []
    },
    {
      "cell_type": "code",
      "metadata": {
        "id": "e8YzIBINey6j"
      },
      "source": [
        "vectorized_docs = vectorize(df['tokenized_sents'].values, model=model)\n",
        "len(vectorized_docs), len(vectorized_docs[0])"
      ],
      "execution_count": null,
      "outputs": []
    },
    {
      "cell_type": "code",
      "metadata": {
        "id": "V-45LUXYSabV"
      },
      "source": [
        "X = model[model.wv.vocab]\n",
        "Y = model.wv.syn0;\n"
      ],
      "execution_count": null,
      "outputs": []
    },
    {
      "cell_type": "code",
      "metadata": {
        "id": "E363ifR_UDfQ"
      },
      "source": [
        "X"
      ],
      "execution_count": null,
      "outputs": []
    },
    {
      "cell_type": "code",
      "metadata": {
        "id": "JjMYx9r-UGWv"
      },
      "source": [
        "Y"
      ],
      "execution_count": null,
      "outputs": []
    },
    {
      "cell_type": "code",
      "metadata": {
        "id": "7FH76jsoUX3I"
      },
      "source": [
        "\n",
        "wcss=[]\n",
        "for i in range(2,18):\n",
        "    kmeans=KMeans(n_clusters=i, init='k-means++',random_state=0)\n",
        "    kmeans.fit(vectorized_docs)\n",
        "    wcss.append(kmeans.inertia_)\n"
      ],
      "execution_count": null,
      "outputs": []
    },
    {
      "cell_type": "code",
      "metadata": {
        "id": "HpM5GmYOUX3L"
      },
      "source": [
        "plt.figure(figsize = (15,15))\n",
        "plt.plot(range(2,18),wcss ,'bx-')\n",
        "plt.title('The Elbow Method')\n",
        "plt.xlabel('Number of Clusters')\n",
        "plt.ylabel('WCSS')\n",
        "plt.show()"
      ],
      "execution_count": null,
      "outputs": []
    },
    {
      "cell_type": "code",
      "metadata": {
        "id": "UWdqidtrWFZ8"
      },
      "source": [
        ""
      ],
      "execution_count": null,
      "outputs": []
    },
    {
      "cell_type": "markdown",
      "metadata": {
        "id": "yqUlpfAEWXjk"
      },
      "source": [
        "## Optimal number of clusters from silhouette plot and elbow is n = 13"
      ]
    },
    {
      "cell_type": "code",
      "metadata": {
        "id": "3JhYMYa4WXkG"
      },
      "source": [
        "kmeans = KMeans(n_clusters=7).fit(vectorized_docs)\n",
        "centroids = kmeans.cluster_centers_\n",
        "# print(centroids)"
      ],
      "execution_count": null,
      "outputs": []
    },
    {
      "cell_type": "code",
      "metadata": {
        "id": "9LbNn6SyWXkI"
      },
      "source": [
        "# print(centroids)"
      ],
      "execution_count": null,
      "outputs": []
    },
    {
      "cell_type": "code",
      "metadata": {
        "id": "g9VEhm5uWXkK"
      },
      "source": [
        "centroids = pd.DataFrame(centroids)"
      ],
      "execution_count": null,
      "outputs": []
    },
    {
      "cell_type": "code",
      "metadata": {
        "id": "btxAFm_EW9aN"
      },
      "source": [
        "model.vocabulary"
      ],
      "execution_count": null,
      "outputs": []
    },
    {
      "cell_type": "code",
      "metadata": {
        "id": "AdKPHoUFXCUO"
      },
      "source": [
        "ssss = model[model.vocab]"
      ],
      "execution_count": null,
      "outputs": []
    },
    {
      "cell_type": "code",
      "metadata": {
        "id": "Pnf8ku_wYH1B"
      },
      "source": [
        "kmeans.labels_[:10]"
      ],
      "execution_count": null,
      "outputs": []
    },
    {
      "cell_type": "code",
      "metadata": {
        "id": "wv0Vt-P8YH1n"
      },
      "source": [
        "unique, counts = np.unique(kmeans.labels_, return_counts=True)"
      ],
      "execution_count": null,
      "outputs": []
    },
    {
      "cell_type": "code",
      "metadata": {
        "id": "2zkCyN5VYH1o"
      },
      "source": [
        "unique"
      ],
      "execution_count": null,
      "outputs": []
    },
    {
      "cell_type": "code",
      "metadata": {
        "id": "Guso4PKGYH1p"
      },
      "source": [
        "dict_data = dict(zip(unique, counts))\n",
        "dict_data"
      ],
      "execution_count": null,
      "outputs": []
    },
    {
      "cell_type": "code",
      "metadata": {
        "id": "rZiWc3a_YKO3"
      },
      "source": [
        "z =  model.wv.index2word"
      ],
      "execution_count": null,
      "outputs": []
    },
    {
      "cell_type": "code",
      "metadata": {
        "id": "u9H5j4uQuOH-"
      },
      "source": [
        "len(model.wv.vocab)\n"
      ],
      "execution_count": null,
      "outputs": []
    },
    {
      "cell_type": "code",
      "metadata": {
        "id": "yhAtx0oSiU2n"
      },
      "source": [
        "len(z)"
      ],
      "execution_count": null,
      "outputs": []
    },
    {
      "cell_type": "code",
      "metadata": {
        "id": "sihk3mkQZTXt"
      },
      "source": [
        "print(z)"
      ],
      "execution_count": null,
      "outputs": []
    },
    {
      "cell_type": "code",
      "metadata": {
        "id": "2YqjNjAklAjw"
      },
      "source": [
        "w = model.wv"
      ],
      "execution_count": null,
      "outputs": []
    },
    {
      "cell_type": "code",
      "metadata": {
        "id": "bQpcZlk3qJ8R"
      },
      "source": [
        "# print(w)"
      ],
      "execution_count": null,
      "outputs": []
    },
    {
      "cell_type": "code",
      "metadata": {
        "id": "BK6I5XLXZe_L"
      },
      "source": [
        "from collections import Counter\n",
        "# kmeans.cluster_labels_"
      ],
      "execution_count": null,
      "outputs": []
    },
    {
      "cell_type": "code",
      "metadata": {
        "id": "sfJIIvprZe_b"
      },
      "source": [
        "order_centroids = kmeans.cluster_centers_.argsort()[:, ::-1]\n",
        "# z = tfid_vectorizer.get_feature_names()\n",
        "for i in range(7):\n",
        "    words = [z[ind] for ind in order_centroids[i, :]]\n",
        "    words_ = Counter(words)\n",
        "    # print(\"Cluster {}: {}\".format(i, ' '.join(words)))\n",
        "    \n",
        "    wordcloud = WordCloud(background_color=\"white\", max_words=100).generate_from_frequencies(words_)\n",
        "\n",
        "    plt.figure(figsize = (15,15))\n",
        "    plt.title('Cluster {}'.format(i))\n",
        "    plt.imshow(wordcloud,interpolation=\"bilinear\")\n",
        "    plt.axis(\"off\")\n",
        "    plt.show()"
      ],
      "execution_count": null,
      "outputs": []
    },
    {
      "cell_type": "code",
      "metadata": {
        "id": "tJVWUzInZiEf"
      },
      "source": [
        ""
      ],
      "execution_count": null,
      "outputs": []
    }
  ]
}