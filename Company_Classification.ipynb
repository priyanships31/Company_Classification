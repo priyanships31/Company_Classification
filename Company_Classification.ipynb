{
  "nbformat": 4,
  "nbformat_minor": 0,
  "metadata": {
    "colab": {
      "name": "Company Classification.ipynb",
      "provenance": [],
      "collapsed_sections": [],
      "mount_file_id": "17JsI0EXYf9PSP60tvMujmiNjsWxgX2KY",
      "authorship_tag": "ABX9TyOlIJyw1dihNrx1uw8Kaw9y",
      "include_colab_link": true
    },
    "kernelspec": {
      "name": "python3",
      "display_name": "Python 3"
    },
    "language_info": {
      "name": "python"
    }
  },
  "cells": [
    {
      "cell_type": "markdown",
      "metadata": {
        "id": "view-in-github",
        "colab_type": "text"
      },
      "source": [
        "<a href=\"https://colab.research.google.com/github/priyanships31/Company_Classification/blob/main/Company_Classification.ipynb\" target=\"_parent\"><img src=\"https://colab.research.google.com/assets/colab-badge.svg\" alt=\"Open In Colab\"/></a>"
      ]
    },
    {
      "cell_type": "code",
      "metadata": {
        "id": "WinQMkMv-H7U"
      },
      "source": [
        "import pandas as pd\n",
        "import numpy as np\n",
        "from sklearn.cluster import KMeans\n",
        "import matplotlib.cm as cm\n",
        "import matplotlib.pyplot as plt\n",
        "# from kmeanstf import KMeansTF\n",
        "from scipy.spatial.distance import cdist\n",
        "import string\n",
        "from sklearn.feature_extraction.text import CountVectorizer, TfidfVectorizer\n",
        "from nltk.stem.snowball import SnowballStemmer\n",
        "from nltk.tokenize import sent_tokenize, word_tokenize\n"
      ],
      "execution_count": 17,
      "outputs": []
    },
    {
      "cell_type": "code",
      "metadata": {
        "id": "EGFFOrGj-ZDX"
      },
      "source": [
        "data = pd.read_csv('/content/drive/MyDrive/AlmaBetter/Cohort Nilgiri/Module 4/Capstone Project/Company Classification/data_company_classification.csv')"
      ],
      "execution_count": 18,
      "outputs": []
    },
    {
      "cell_type": "code",
      "metadata": {
        "colab": {
          "base_uri": "https://localhost:8080/"
        },
        "id": "ma7GoSXe_S76",
        "outputId": "36cc30b1-7776-4f3b-d1c6-7aa682909214"
      },
      "source": [
        "\n",
        "data.info()"
      ],
      "execution_count": 19,
      "outputs": [
        {
          "output_type": "stream",
          "text": [
            "<class 'pandas.core.frame.DataFrame'>\n",
            "RangeIndex: 73974 entries, 0 to 73973\n",
            "Data columns (total 9 columns):\n",
            " #   Column            Non-Null Count  Dtype \n",
            "---  ------            --------------  ----- \n",
            " 0   website           73974 non-null  object\n",
            " 1   company_name      73974 non-null  object\n",
            " 2   homepage_text     73305 non-null  object\n",
            " 3   h1                46653 non-null  object\n",
            " 4   h2                53212 non-null  object\n",
            " 5   h3                44659 non-null  object\n",
            " 6   nav_link_text     48050 non-null  object\n",
            " 7   meta_keywords     23672 non-null  object\n",
            " 8   meta_description  66886 non-null  object\n",
            "dtypes: object(9)\n",
            "memory usage: 5.1+ MB\n"
          ],
          "name": "stdout"
        }
      ]
    },
    {
      "cell_type": "code",
      "metadata": {
        "colab": {
          "base_uri": "https://localhost:8080/"
        },
        "id": "2nQrqn90_c3q",
        "outputId": "40118aea-49e6-4e70-85f9-426a4b3f691f"
      },
      "source": [
        "data.shape"
      ],
      "execution_count": 20,
      "outputs": [
        {
          "output_type": "execute_result",
          "data": {
            "text/plain": [
              "(73974, 9)"
            ]
          },
          "metadata": {
            "tags": []
          },
          "execution_count": 20
        }
      ]
    },
    {
      "cell_type": "code",
      "metadata": {
        "colab": {
          "base_uri": "https://localhost:8080/",
          "height": 364
        },
        "id": "vp0FnW3b_1qq",
        "outputId": "2a898c49-92dd-4347-837c-2b8f4a2e9f0c"
      },
      "source": [
        "data.head()"
      ],
      "execution_count": 21,
      "outputs": [
        {
          "output_type": "execute_result",
          "data": {
            "text/html": [
              "<div>\n",
              "<style scoped>\n",
              "    .dataframe tbody tr th:only-of-type {\n",
              "        vertical-align: middle;\n",
              "    }\n",
              "\n",
              "    .dataframe tbody tr th {\n",
              "        vertical-align: top;\n",
              "    }\n",
              "\n",
              "    .dataframe thead th {\n",
              "        text-align: right;\n",
              "    }\n",
              "</style>\n",
              "<table border=\"1\" class=\"dataframe\">\n",
              "  <thead>\n",
              "    <tr style=\"text-align: right;\">\n",
              "      <th></th>\n",
              "      <th>website</th>\n",
              "      <th>company_name</th>\n",
              "      <th>homepage_text</th>\n",
              "      <th>h1</th>\n",
              "      <th>h2</th>\n",
              "      <th>h3</th>\n",
              "      <th>nav_link_text</th>\n",
              "      <th>meta_keywords</th>\n",
              "      <th>meta_description</th>\n",
              "    </tr>\n",
              "  </thead>\n",
              "  <tbody>\n",
              "    <tr>\n",
              "      <th>0</th>\n",
              "      <td>bipelectric.com</td>\n",
              "      <td>bip dipietro electric inc</td>\n",
              "      <td>Electrici...</td>\n",
              "      <td>NaN</td>\n",
              "      <td>NaN</td>\n",
              "      <td>NaN</td>\n",
              "      <td>NaN</td>\n",
              "      <td>electricians vero beach, vero beach electrical...</td>\n",
              "      <td>Providing quality, reliable full service resid...</td>\n",
              "    </tr>\n",
              "    <tr>\n",
              "      <th>1</th>\n",
              "      <td>eliasmedical.com</td>\n",
              "      <td>elias medical</td>\n",
              "      <td>site map | en español    Elias Medical   h...</td>\n",
              "      <td>Offering Bakersfield family medical care from ...</td>\n",
              "      <td>Welcome to ELIAS MEDICAL#sep#Family Medical Pr...</td>\n",
              "      <td>Get To Know Elias Medical#sep#Family Medical P...</td>\n",
              "      <td>NaN</td>\n",
              "      <td>Elias Medical bakersfield ca family doctor med...</td>\n",
              "      <td>For the best value in Bakersfield skin care tr...</td>\n",
              "    </tr>\n",
              "    <tr>\n",
              "      <th>2</th>\n",
              "      <td>koopsoverheaddoors.com</td>\n",
              "      <td>koops overhead doors</td>\n",
              "      <td>Home  About Us  Garage Door Repair &amp; Servi...</td>\n",
              "      <td>NaN</td>\n",
              "      <td>Customer Reviews#sep#Welcome to Koops Overhead...</td>\n",
              "      <td>NaN</td>\n",
              "      <td>NaN</td>\n",
              "      <td>Koops Overhead Doors, Albany Garage Doors, Tro...</td>\n",
              "      <td>Koops Overhead Doors specializes in the sales,...</td>\n",
              "    </tr>\n",
              "    <tr>\n",
              "      <th>3</th>\n",
              "      <td>midtowneyes.com</td>\n",
              "      <td>midtown eyecare</td>\n",
              "      <td>918-599-0202        Type Size...</td>\n",
              "      <td>NaN</td>\n",
              "      <td>Welcome to our practice!</td>\n",
              "      <td>NaN</td>\n",
              "      <td>NaN</td>\n",
              "      <td>NaN</td>\n",
              "      <td>We would like to welcome you to Midtown Eyecar...</td>\n",
              "    </tr>\n",
              "    <tr>\n",
              "      <th>4</th>\n",
              "      <td>reprosecurity.co.uk</td>\n",
              "      <td>repro security ltd</td>\n",
              "      <td>Simply fill out our form below...</td>\n",
              "      <td>NaN</td>\n",
              "      <td>Welcome to REPRO SECURITY Ltd</td>\n",
              "      <td>NaN</td>\n",
              "      <td>NaN</td>\n",
              "      <td>NaN</td>\n",
              "      <td>Repro Security provide a range of tailor made ...</td>\n",
              "    </tr>\n",
              "  </tbody>\n",
              "</table>\n",
              "</div>"
            ],
            "text/plain": [
              "                  website  ...                                   meta_description\n",
              "0         bipelectric.com  ...  Providing quality, reliable full service resid...\n",
              "1        eliasmedical.com  ...  For the best value in Bakersfield skin care tr...\n",
              "2  koopsoverheaddoors.com  ...  Koops Overhead Doors specializes in the sales,...\n",
              "3         midtowneyes.com  ...  We would like to welcome you to Midtown Eyecar...\n",
              "4     reprosecurity.co.uk  ...  Repro Security provide a range of tailor made ...\n",
              "\n",
              "[5 rows x 9 columns]"
            ]
          },
          "metadata": {
            "tags": []
          },
          "execution_count": 21
        }
      ]
    },
    {
      "cell_type": "markdown",
      "metadata": {
        "id": "92OtWqZLQAat"
      },
      "source": [
        "## Missing value treatment"
      ]
    },
    {
      "cell_type": "code",
      "metadata": {
        "colab": {
          "base_uri": "https://localhost:8080/"
        },
        "id": "ToGPml_Iwre4",
        "outputId": "010161e9-66ea-4e82-d684-9fb662c6a195"
      },
      "source": [
        "data[['homepage_text', 'nav_link_text','meta_keywords', 'meta_description']].isnull().sum(axis=1).value_counts()"
      ],
      "execution_count": 22,
      "outputs": [
        {
          "output_type": "execute_result",
          "data": {
            "text/plain": [
              "1    44319\n",
              "2    14671\n",
              "0    11660\n",
              "3     2974\n",
              "4      350\n",
              "dtype: int64"
            ]
          },
          "metadata": {
            "tags": []
          },
          "execution_count": 22
        }
      ]
    },
    {
      "cell_type": "code",
      "metadata": {
        "id": "9KJqd0T9kI_W"
      },
      "source": [
        "data['homepage_text'] = data['homepage_text'].dropna()"
      ],
      "execution_count": 23,
      "outputs": []
    },
    {
      "cell_type": "code",
      "metadata": {
        "id": "4yqBEFfIxnui"
      },
      "source": [
        "df = pd.DataFrame(data, columns = ['homepage_text'])"
      ],
      "execution_count": 24,
      "outputs": []
    },
    {
      "cell_type": "code",
      "metadata": {
        "colab": {
          "base_uri": "https://localhost:8080/",
          "height": 406
        },
        "id": "2-3P-HCrjz53",
        "outputId": "6f9ef42e-80e0-425d-ad14-066d29b4028b"
      },
      "source": [
        "df.dropna()"
      ],
      "execution_count": 25,
      "outputs": [
        {
          "output_type": "execute_result",
          "data": {
            "text/html": [
              "<div>\n",
              "<style scoped>\n",
              "    .dataframe tbody tr th:only-of-type {\n",
              "        vertical-align: middle;\n",
              "    }\n",
              "\n",
              "    .dataframe tbody tr th {\n",
              "        vertical-align: top;\n",
              "    }\n",
              "\n",
              "    .dataframe thead th {\n",
              "        text-align: right;\n",
              "    }\n",
              "</style>\n",
              "<table border=\"1\" class=\"dataframe\">\n",
              "  <thead>\n",
              "    <tr style=\"text-align: right;\">\n",
              "      <th></th>\n",
              "      <th>homepage_text</th>\n",
              "    </tr>\n",
              "  </thead>\n",
              "  <tbody>\n",
              "    <tr>\n",
              "      <th>0</th>\n",
              "      <td>Electrici...</td>\n",
              "    </tr>\n",
              "    <tr>\n",
              "      <th>1</th>\n",
              "      <td>site map | en español    Elias Medical   h...</td>\n",
              "    </tr>\n",
              "    <tr>\n",
              "      <th>2</th>\n",
              "      <td>Home  About Us  Garage Door Repair &amp; Servi...</td>\n",
              "    </tr>\n",
              "    <tr>\n",
              "      <th>3</th>\n",
              "      <td>918-599-0202        Type Size...</td>\n",
              "    </tr>\n",
              "    <tr>\n",
              "      <th>4</th>\n",
              "      <td>Simply fill out our form below...</td>\n",
              "    </tr>\n",
              "    <tr>\n",
              "      <th>...</th>\n",
              "      <td>...</td>\n",
              "    </tr>\n",
              "    <tr>\n",
              "      <th>73969</th>\n",
              "      <td></td>\n",
              "    </tr>\n",
              "    <tr>\n",
              "      <th>73970</th>\n",
              "      <td>Home    About Us    Our S...</td>\n",
              "    </tr>\n",
              "    <tr>\n",
              "      <th>73971</th>\n",
              "      <td>03 9531 5092 M...</td>\n",
              "    </tr>\n",
              "    <tr>\n",
              "      <th>73972</th>\n",
              "      <td>...</td>\n",
              "    </tr>\n",
              "    <tr>\n",
              "      <th>73973</th>\n",
              "      <td>...</td>\n",
              "    </tr>\n",
              "  </tbody>\n",
              "</table>\n",
              "<p>73305 rows × 1 columns</p>\n",
              "</div>"
            ],
            "text/plain": [
              "                                           homepage_text\n",
              "0                                           Electrici...\n",
              "1          site map | en español    Elias Medical   h...\n",
              "2          Home  About Us  Garage Door Repair & Servi...\n",
              "3                       918-599-0202        Type Size...\n",
              "4                      Simply fill out our form below...\n",
              "...                                                  ...\n",
              "73969                                                   \n",
              "73970                       Home    About Us    Our S...\n",
              "73971                                  03 9531 5092 M...\n",
              "73972                                                ...\n",
              "73973                                                ...\n",
              "\n",
              "[73305 rows x 1 columns]"
            ]
          },
          "metadata": {
            "tags": []
          },
          "execution_count": 25
        }
      ]
    },
    {
      "cell_type": "code",
      "metadata": {
        "colab": {
          "base_uri": "https://localhost:8080/"
        },
        "id": "SRMXtWJgUp2A",
        "outputId": "26949987-f736-45fb-bc19-d9ac627b6b5e"
      },
      "source": [
        "df['homepage_text'].values"
      ],
      "execution_count": 26,
      "outputs": [
        {
          "output_type": "execute_result",
          "data": {
            "text/plain": [
              "array(['                                     Electricians and electrical contractors serving Vero Beach FL and Indian River County, Florida area for over fifteen years.  Locally owned and operated, Bip DiPietro Electric is dedicated to providing helpful, reliable electrical service to residential, commercial and retail clients alike.  We are fully licensed and insured, and our expert staff of electricians is ready to serve the Vero Beach area any time of the week, day or night.  Bip DiPietro Electric is a full service firm specializing in all areas of Electrical Installation for Commercial and Residential buildings alike. We believe that the job needs to be done and it needs to be done right. All of the employees here at Bip DiPietro Electric strive to give you, our client, exactly what your plans specify and install them the way that they are meant to be installed.   Not only is electricity a necessity these days, but it is also a technology that must be treated with caution and respect.\\xa0 All of the electricians here at Bip DiPietro Electric are certified who know what that means. No corners are cut, and no items left out. The job is done the right way or not at all.  We would like to thank you for taking the time to visit our Web Site. Feel free to look around our site and please contact us if you have any questions about our company or the services that we may provide for you.  Contact Bip DiPietro Electric your Vero Beach Electrical Contractor                 External Links Disclaimer for Make A Payment   Copyright © 2009 - Present: Don & Associates, Inc. DBA DNA Web Services | Design, Hosting, E-mail and Maintenance Provided by: DNAWebServices.us    ',\n",
              "       '    site map | en español    Elias Medical   home  about us  skin care   Acne Scar Removal  Acne Treatment  Anti-Cellulite  BOTOX  Cosmelan  Double Chin  Facials  Hair Removal  Juvederm  Microdermabrasion  Mole Removal  Photofacial  Restylane  Scar Removal Treatment  Stretch Marks Removal  Skin Resurfacing  Skin Care  Wart Removal    family doctor   Arthritis  Asthma  Diabetes  Emphysema  Geriatrics  Hypertension  Physical Exam    contact us               Welcome to ELIAS MEDICAL  Offering Bakersfield family medical care from pediatrics to geriatrics. Also offering skin care including Botox, Laser skin treatments and more.  Family Medical Practice  We provide comprehensive and compassionate medical care for your family.  Whether you need help with diabetes, high blood pressure, obesity, arthritis, a physical examination or a number of other conditions, we will be able to provide a treatment plan that will give you good results. And, if you prefer to see a female, we have a very experienced Family Nurse Practitioner who is very capable and pleasant.  Just call to make an appointment and our friendly staff will be happy to set a time convenient for you.  Skin Care   Our Bakersfield office provides a variety of skin care procedures to enhance the quality and beauty of your skin. We provide non-surgical cosmetic procedures using the latest technologies in laser for hair removal and anti-aging skin care, Botox and other treatments ensuring a healthier, rejuvenated texture and tone of your face and body. Every skin care procedure is performed by a medical doctor.  Consultations  Schedule a consultation today with Dr. George Elias or with our Family Nurse Practitioner, Christina Lewis.  Call 661-663-0300 or just complete the Contact Us form with your request for an appointment.  Dr. Elias is a proud member of the American Medical Association and the American Academy of Family Physicians.  Get To Know Elias Medical  Take a minute to get to know Dr. Elias and Christina Lewis, our Family Nurse Practioner. Their bios are available on our About Us page. They look forward to meeting you in person!        Schedule a Consultation\\n661.663.0300   Family Medical Practice   Arthritis  Asthma  Diabetes Treatment  Emphysema  Family Medicine  Geriatrics  Hypertension  Pediatrics  Physical Exam   SKIN CARE  NEW  ACNE SCAR REMOVAL TREATMENT  ACNE TREATMENT  ANTI-CELLULITE  ANTI-STRETCH MARKS  BOTOX  COSMELAN  NEW DOUBLE CHIN  JUVEDERM  LASER HAIR REMOVAL  MICRODERMABRASION  MOLE REMOVAL  PHOTOFACIAL  RESTYLANE  NEW SCAR REMOVAL TREATMENT  NEW STRETCH MARKS TREATMENT  NEW SKIN RESURFACING   SKIN CARE PRODUCTS   WART REMOVAL     home | about us | family medical practice | skin care | location | contact us | cuidado de la piel   9900 Stockdale Hwy., Suite 203 Bakersfield, CA 93311 | (phone) 661.663.0300 | \\n    (fax) 661.663.0903 ',\n",
              "       '    Home  About Us  Garage Door Repair & Service  Design-A-Door  Garage Doors  Garage Door Openers & Accessories  Customer Reviews  Photo Gallery  Contact Us / Free Garage Door Estimate        Home  About Us  Garage Door Repair & Service  Design-A-Door  Contact Us / Free Estimate                      117 Edgewood Drive / Averill Park, NY 12018 :: Phone: (518) 376-7382  Garage Door Service, Installation and Repairs in Albany, Troy,  Clifton Park, East Greenbush, and surrounding Capital District New York areas          Garage Doors  Garage Door Openers & Accessories  Customer Reviews  Photo Gallery  Contact Us      Previous  Next        Posted by jtafur on Oct 6, 2011  Welcome to Koops Overhead Doors!  Koops Overhead Doors is family owned and operated with over 18 years of experience serving residential and commercial clients in Albany, Troy, Clifton Park, East Greenbush and the surrounding Capital District areas. We specialize in the sales, service, repair, and installation of garage doors and garage door openers.  Read More           Posted by jtafur on Oct 6, 2011  Customer Reviews  “We called Koops after getting estimates from 2 other local dealers. \\xa0His price was better; his knowledge of the products was exceptional and when a model and color we had originally wanted was no longer available from the manufacturer – he worked miracles finding an even better alternative. \\xa0On the day of the installation, Mr. Koops was there on time; worked quickly and efficiently, and left...  Read More           Posted by jtafur on Oct 6, 2011  Welcome to Koops Overhead Doors!  Koops Overhead Doors is family owned and operated with over 18 years of experience serving residential and commercial clients in Albany, Troy, Clifton Park, East Greenbush and the surrounding Capital District areas. We specialize in the sales, service, repair, and installation of garage doors and garage door openers.  Read More           Posted by jtafur on Oct 6, 2011  Customer Reviews  “We called Koops after getting estimates from 2 other local dealers. \\xa0His price was better; his knowledge of the products was exceptional and when a model and color we had originally wanted was no longer available from the manufacturer – he worked miracles finding an even better alternative. \\xa0On the day of the installation, Mr. Koops was there on time; worked quickly and efficiently, and left...  Read More           Posted by jtafur on Oct 6, 2011  Welcome to Koops Overhead Doors!  Koops Overhead Doors is family owned and operated with over 18 years of experience serving residential and commercial clients in Albany, Troy, Clifton Park, East Greenbush and the surrounding Capital District areas. We specialize in the sales, service, repair, and installation of garage doors and garage door openers.  Read More           Posted by jtafur on Oct 6, 2011  Customer Reviews  “We called Koops after getting estimates from 2 other local dealers. \\xa0His price was better; his knowledge of the products was exceptional and when a model and color we had originally wanted was no longer available from the manufacturer – he worked miracles finding an even better alternative. \\xa0On the day of the installation, Mr. Koops was there on time; worked quickly and efficiently, and left...  Read More           Posted by jtafur on Oct 6, 2011  Welcome to Koops Overhead Doors!  Koops Overhead Doors is family owned and operated with over 18 years of experience serving residential and commercial clients in Albany, Troy, Clifton Park, East Greenbush and the surrounding Capital District areas. We specialize in the sales, service, repair, and installation of garage doors and garage door openers.  Read More           Posted by jtafur on Oct 6, 2011  Customer Reviews  “We called Koops after getting estimates from 2 other local dealers. \\xa0His price was better; his knowledge of the products was exceptional and when a model and color we had originally wanted was no longer available from the manufacturer – he worked miracles finding an even better alternative. \\xa0On the day of the installation, Mr. Koops was there on time; worked quickly and efficiently, and left...  Read More                                                                                Authorized Dealer               Koops Overhead Doors is an EPA lead-safe certified firm       angieslist.com/review/2346123        Dedicated To Excellence  Koops Overhead Doors is family owned and operated with over 18 years of experience serving residential and commercial clients in Albany, Troy, Clifton Park, East Greenbush and the surrounding Capital District areas. We specialize in the sales, service, repair, and installation of garage doors and electric garage door openers.  We pride ourselves on outstanding customer service, professional garage door installation, garage door repair and last but not least competitive pricing.  All garage door installations and garage door repairs are completed by Koops Overhead Doors as we do not use any subcontractors.  Whether you’re in need of a new garage door, an electronic garage door opener, or if your current garage door just needs a minor repair, we do it all!       Contact Us / Free Quote  Please browse our “photo gallery” page and see just how much a new garage door can change the look of your home.   You can also take advantage of our “Design-a-Door” feature to see just how great a new garage door will look on your home!  If you have any questions please do not hesitate to call us or fill out our “contact us form” and we will contact you right away to discuss your project.  Phone: (518) 376-7382 Fax:\\t(518) 712-5036 E-mail:  koopsoverheaddoors@nycap.rr.com          Serving Albany NY; Averill Park NY; Clifton Park NY; Colonie NY; Delmar NY; East Greenbush NY; Latham NY; Rensselaer NY; Schenectady NY; Troy NY\\tSince 2008 Copyright Koops Overhead Doors © 2015 | Developed by SqueekPress         Home  About Koops Overhead Doors  Customer Reviews  Photo Gallery  Contact Us / Free Garage Door Estimate      ',\n",
              "       ...,\n",
              "       \"                                03 9531 5092 Make A Booking         Beautyologist Beauty Salon   Shop   E-VOUCHERS  By Category   Bath & Body  Candles & Home Fragrance  Cleansers  Exfoliators  Eyes  Gifts  Jewellery  Make-up  Masks  Men  Moisturisers  Nails  Pregnancy, Baby & Kids  Serum  Skincare Kits  Sun Protection    By Brand   Acca Kappa  Alchemy Produx  Aspect  Beauty Chef  Cosmedix  Cosmedix Elite  Eco Tan  EST  EyEnvy  Glasshouse  Ieros Candles  Ismini  Kleins  Louvelle  Mancini  Marit  The Mindful Company  Mister by Beautyologist  Miss Frankie  MOR  Organic Nation  Panier Des Sens  Peppermint Grove  Pure Body Luxe  Saint George  Salus  Shanghai Suzy  Societe Clinical Skincare  Tilley  Voluspa    My Account    Services   Facial  Make-up  Nails  Laser Hair Removal  Customised Massage  Spray Tan  Eyelashes  Waxing & Tinting  Tattoo Removal  Download Our Menu    Make a Booking  Be Inspired  Our Story   Our Founder  Beauty Miles Program  Reviews  Gallery  Awards  Confessions of a Beautyologist    Contact  Menu Shop  – E-VOUCHERS  – – Bath & Body  – – Candles & Home Fragrance  – – Cleansers  – – Exfoliators  – – Eyes  – – Gifts  – – Jewellery  – – Make-up  – – Masks  – – Men  – – Moisturisers  – – Nails  – – Pregnancy, Baby & Kids  – – Serum  – – Skincare Kits  – – Sun Protection  – – Acca Kappa  – – Alchemy Produx  – – Aspect  – – Beauty Chef  – – Cosmedix  – – Cosmedix Elite  – – Eco Tan  – – EST  – – EyEnvy  – – Glasshouse  – – Ieros Candles  – – Ismini  – – Kleins  – – Louvelle  – – Mancini  – – Marit  – – The Mindful Company  – – Mister by Beautyologist  – – Miss Frankie  – – MOR  – – Organic Nation  – – Panier Des Sens  – – Peppermint Grove  – – Pure Body Luxe  – – Saint George  – – Salus  – – Shanghai Suzy  – – Societe Clinical Skincare  – – Tilley  – – Voluspa  – My Account  Services  – Facial  – Make-up  – Nails  – Laser Hair Removal  – Customised Massage  – Spray Tan  – Eyelashes  – Waxing & Tinting  – Tattoo Removal  – Download Our Menu  Make a Booking  Be Inspired  Our Story  – Our Founder  – Beauty Miles Program  – Reviews  – Gallery  – Awards  – Confessions of a Beautyologist  Contact                                                           Welcome to Beautyologist  Specialist in skin & body beauty  Sia Psicharis is director and creator of ‘Beautyologist’ established in Melbourne, Australia in 2005, evolving from her industry experience in an abundance of elite salons with high profile clients. Sia’s beauty obsession is ‘skin needling’ a treatment described by Sia as acupuncture for the face while simultaneously working on all skin concerns.  Sia’s passion for treating skin comes from her own personal experience of suffering from acne, inspiring a clear vision to create a new range of skincare treatments, providing an evolution for maturing individuals focusing on anti-aging therapeutics that will change peoples lives to feel amazing from the inside out.  With a love affair for fashion, Sia’s style is gracefully feminine incorporating a splash of black lace. Sia loves her short well-manicured nails with a polish that matches her signature bright red lipstick that pops!       Sia Psicharis Beautyologist Founder           Sia's Spotlight  Lymphatic Drainage Facial Massage  Lymphatic drainage is a therapeutic massage technique that uses light pressure and gentle strokes to stimulate the flow of lymph and detox toxins from your body. The lymph system is a crucial part of your body's immune system and helps fight infection and disease.  Shop Now                                                                            Sign Up To Our Newsletter  Sign up to go into the draw to win mystery monthly gifts     Email This field is for validation purposes and should be left unchanged.                Categories Bath & Body  Nail Care  Gifts & Gift Cards  Men  Skin Clinic  Brands Aesop  Aspect  Cosmedix  Glasshouse  Salus  Information Online Store Terms and Conditions  Privacy Policy  Terms & Conditions  My Account  Sitemap  Contact  (03) 9531 5092 181 Carlisle Street St Kilda East VIC 3183   Staff Login    © 2020 Beautyologist Beauty Salon | Privacy Policy          Fear of Missing Out?  Be the first to know the latest news and products from Beautyologist plus receive a 10% gift on your first order.   Email *   Comments This field is for validation purposes and should be left unchanged.                This iframe contains the logic required to handle Ajax powered Gravity Forms.    Call Us Now Book Now\",\n",
              "       '                                                Enquire now  Get in touch  0800 170 7370      Gallery  Prices  Reviews  Artists             Mobile Hair & Makeup Artists across the UK  Do you want to look the best you’ve ever looked for your… Wedding, Special Occasion, Event, Hen Party or Prom?  Beauty Call is a hair and makeup artist agency A team of over 250 professionally trained, friendly and reliable artists across the UK  Since 2006 we’ve helped 7,500 women look and feel amazing  It’s our GUARANTEE to make sure you’re 100% HAPPY with your look   Enquire now  Take a look at our quality work               Here\\'s how we can help you  In our 12 years of business, we’ve helped thousands of women look and feel amazing. We manage the whole booking for you, so the experience is totally stress-free, and we can ensure you are 100% happy with your look.    All you need to do is send in your initial enquiry. You and your requirements will then be matched up to the best available and most local artist to you. Every single artist is trained in both hair and makeup, so you only need one person who can do both services.    Our team will be there with you all the way to ensure it goes well. After your booking, you will receive a feedback review request, which, when completed, will entitled you to a special offer on a future booking.   Enquire now  Our pricing          Weddings  From: £50  Wedding hair and bridal makeup for the whole bridal party, including the bride, bridesmaids, mums and flower girls.  We want to make sure that you feel 100% satisfied with your trial and final look for your wedding hair and makeup.  Our wedding hair & makeup artists are fully trained professionals with plenty of experience and a common love of the wedding industry.          Corporate Events  From: £60  Our artists are available to work at all kinds of corporate events. As an example we have previously worked for:  The National Wedding Show, V Festival, Leeds Festival, Proud Cabaret, OK Mag, Princes Trust, H&M, Vero Moda, Dubarry, The Perfume Shop, NU Skin, O2, CMS, Wedding Ideas Mag, E-Entertainment, Hodes, London Fashion Week, Don’t Tell The Bride.          Hen Parties  From: £20  Do you want your whole group to look ultra glam for your hen party?  We can send a hair and makeup artist or artists to your location, before you hit the town for your big night.  Our quick hair styling and fun makeup looks will ensure you won’t be sat around all day getting ready.  Crack open the prosecco and party!           Special Occasions  From: £50  Whether you’re looking to get your hair styled and makeup applied, or just one of the two, we can help make you look amazing for that really important special occasion or event.  Awards, engagement parties and anniversaries, job interviews, race days,\\xa0 sporting occasions, Christmas and New Year, are all covered by our hair stylists and makeup artists across the UK.          Lessons  From: £65  Have a professional makeup artist come to you and give you a personalised lesson.  Learn practical tips, stylish techniques and feel comfortable about applying makeup in order to make the most of your features.  We provide face charts and paperwork that you can fill in during the lesson, for reference when you get the chance to experiment with your new look!          Proms  From: £50  Have a professional hair and makeup artist come to your home before your big night, and be the envy of all your friends when you arrive at your prom!  All kit is provided but we will happily use your own products if preferred.  If you want to get together with your friends, we are happy to offer a group price dependent on numbers.             Key members of our team  As a nationwide hair and makeup artist agency our team is based all over the UK, however our key team members are:          Beauty Call Head Office  Beauty Call Head Office is located East London, but we manage bookings for the majority of the UK.       Becky-S  Becky is our head artist and franchisee for the Kingston-upon-Thames (KT) and Croydon (CR) postcodes.       Marie-K  Marie is our head artist and franchisee for the Swindon (SN) and Salisbury (SP) and Gloucester (GL) postcodes.       Samantha-B  Samantha is our head artist and franchisee for the South East London (SE) and Bromley (BR) and Bromley (TN) postcodes.              Why use us?   We guarantee you’ll be 100% HAPPY with your look!  Your requirements will always be listened to.  You’re in safe hands, we’re now in our 12th year.  Your artist will be professionally trained and insured.  You can trust them to do an amazing job.  You’re getting the best for less £.  You’ll never be ripped off.  You’ll know that there is a backup artist, just in case.  You’ll have an artist that promises to stay calm under pressure and will make you look amazing!   Book now  Contact us               Our background  Beauty Call was founded by Nicky Bragg in 2006, initially working with a small team of 5 hair and makeup artists to help brides get ready for their big day.  Since then the team has grown to over 300 artists all over the UK. Our work now ranges from bridal and hen parties to fashion and event work.  Local bookers help manage teams of artists, maintain local links and relationships with suppliers and ensure we really understand the needs of our clients nationwide.  Prices  Contact us           253 artists available to your location   Whether you’re in a big city like London, Manchester or Leeds or out in the sticks in counties like Wiltshire, Kent, Surrey, or Somerset….  we will have a hair and makeup artist available for you.  The artist will travel to your desired location, whether that’s your home, a hotel or an AirBnB.  Save yourself a journey to your local salon and have the luxury of being pampered in your own home.    Get in touch  Find an artist near you             Hair  Alison  Yorkshire and The Humber  Trained: London School of Media Make-up,\\xa0Bobbi\\xa0Brown \\xa0 Experience: MAC,\\xa0Lynx\\xa0Deodorant and\\xa0Keane\\xa0pop\\xa0video \\xa0 Areas: Yorkshire \\xa0 Testimonial: \"A very big thankyou from Sarah, her bridesmaids and –…             Hair & Makeup  Carol  East of England  Trained: London School of Makeup and Jemma Kidd \\xa0 Experience: Bridal specialist \\xa0 Areas: Buckinghamshire and Hertfordshire \\xa0 Testimonial: \"Your makeup was wonderful and it…             Hair & Makeup  Chloe-P  South East  Trained: Thanet College, Kent \\xa0 Experience: London Fashion Week, MAC, Elizabeth Arden \\xa0 Areas: Kent and East Sussex \\xa0 Testimonial: \"Chloe did my hair and…             Hair & Makeup  Ella  London  Trained: Greasepaint \\xa0 Experience: assistant to Charlotte Tilbury, Max Factor- Glamour Cab, Peta campaign \\xa0 Areas: South West London \\xa0 Testimonial: \"Thank you for making…             Hair & Makeup  Fran  South East  Trained: London College of Beauty and Makeup, MAC \\xa0 Experience: Rebecca Wilcox, Olivia Stevens (Next Top Model), Elite Modelling Agency \\xa0 Areas: Berkshire, Buckinghamshire, Oxfordshire…             Hair & Makeup  Grace-R  South East  Trained: Greasepaint and Brushstrokes \\xa0 Experience: Avon, Asda, Friday Night Project \\xa0 Areas: South West London, Surrey and Berkshire \\xa0 Testimonial: \"I wanted to thank…             Hair & Makeup  Haleema  West Midlands  Trained: Beaute Academy – Asian Bridal Hair and Makeup \\xa0 Experience: TV, Fashion Shows and Brides \\xa0 Areas: The Midlands \\xa0 Testimonial: \"Hi there Haleema!…             Here\\'s what some of our clients say...   Beauty Call   Rated 5 out of 5 with 7 ratings on Google My Business         Beauty Call      Gemma  Sidcup, Kent      I was married on 12th May and Sam from Beauty Call did my hair and make up and I couldn’t have asked for any one better than to carry out one of the most important parts of a brides day. She is great at what she does and was great from the initial trial all the way until the end, she even helped me in my dress!! Thank you! xx    5 / 5         Beauty Call      Gee  South East London      I got married last week and Sam from Beauty Call did an amazing job on the hair and makeup for me, my bridesmaids and my mum! We all felt like a million dollars all day and the hairdos held up really well after several hours of energetic dancing :).\\xa0 I live abroad so wasn’t able to have a trial before the wedding but on the day my artist immediately understood what I was looking for and was also a lovely, friendly and calming presence while we were getting ready. Would definitely recommend!    5 / 5         Beauty Call      Jennie  Harlow      I got married in October 2017 and Becky and Vanessa from Beauty Call provided me and my bridesmaids with hair and make-up. To say I was impressed is an understatement. The girls were incredible. They made us all feel so comfortable and were so accommodating. I am not a make-up person but Becky made me feel like a total princess and my make-up was perfect. My bridesmaids looked fabulous. Thank you so much    5 / 5         Beauty Call      Gayle  Manchester      I booked Beauty Call for my wedding, for myself, 4 bridesmaids and both mothers. The service was faultless, from the initial contact right through to the final result! Thank you.    5 / 5         Beauty Call      Julia  London      Could not recommended Annabel from Beauty Call more highly! She did my makeup and hair for my wedding yesterday (and also provided crucial help with my dress!). The makeup looked wonderful, just the right balance between glam and natural beauty. It lasted all night with just a couple lipstick touch ups, despite heat and many happy tears. The romantic updo she created looked brilliant as well, and also held up nicely despite wind throughout the day. She was also timely (so I was ready in good time), and she was a joy to chat to all morning. Her cheerfulnees and calm really put me at ease. Thank you!    5 / 5         Beauty Call      Cassandra  Horsham, Sussex      The whole process was very easy to use, with prices clearly set out and explained. Samantha from Beauty Call was the artist assigned to me and I couldn’t be happier with the work she done not just on me but my bridesmaids too, she listened to everything I wanted and created the look I was after. I’m personally not into hair and make up but Samantha made the whole experience easy, enjoyable and fun for us all on both the trail and wedding day. My dad even commented that ‘I didn’t scrub up too bad!’, and that was mainly down to the work that Samantha did. She was even able to help with tying up the dress when everyone got confused on how to do it all up. Nothing was too much trouble and I would highly recommend her. Thank you xxx.    5 / 5         Beauty Call      Jade  Cardiff, Wales      Marie from Beauty Call did my hair and make up for my wedding in June. She also did hair and make up for my bridesmaids and mothers of the bride&groom. She was absolutely fantastic throughout the whole process. I needed 2 trials as after my first I wasn’t sure the hairstyles we had tried were right for my hair type, and she was happy to listen to my worries, arrange a second trial and completely change tack on what I wanted! On the day she and her assistant worked so hard and really helped calm my nerves! Make up was exactly what I wanted and despite a windy summers day my hairstyle lasted all day. All the girls looked great, and they accommodated superbly what each bridesmaid requested. Absolutely fantastic, would definitely recommend!    5 / 5                 Hair & Makeup Artists all over the UK  Wondering if we have a hair & makeup artist near you?  We can always say “YES, we would LOVE to HELP”  We have more than 250 professionally trained, insured, reliable and friendly hair and makeup artists in England, Wales and Scotland.  All of our artists are trained in both makeup application and hair styling, so you only need to book one artist to cover both services.  But please book as far in advance as possible, in order to ensure the hair and makeup artist most local to you is available for you.           Amersham  Ascot  Ashtead  Aylesford  Bacup  Banstead  Basildon  Basingstoke  Bedford  Berkhamsted  Bexley  Bexleyheath  Birmingham  Bracknell  Bradford  Bridgwater  Brighton  Bristol  Broadstairs  Bromley  Buckhurst Hill  Budleigh Salterton  Buntingford  Burgess Hill  Burnley  Burton-on-Trent  Bury  Bushey  Camberley  Cambridge  Canvey Island  Carshalton  Cheltenham  Cobham  Coulsdon  Cowes  Cranbrook  Cranleigh  Crawley  Dartford  Dawlish  Dorchester  Dover  East Grinstead  East Molesey  Edinburgh  Enfield  Epping  Epsom  Etchingham  Exeter  Fareham  Farnborough  Frodsham  Frome  Gillingham  Godalming  Godstone  Gravesend  Great Yarmouth  Halesowen  Harlow  Hatfield  Haywards Heath  Helston  Hemel Hempstead  High Wycombe  Hook  Houghton le Spring  Hove  Huntingdon  Ipswich  Isleworth  Lancing  Leeds  Leicester  Liphook  Liverpool  London  Loughton  Maidstone  Manchester  Marlborough  Middlesbrough  Milton Keynes  Newbury  Newport Pagnell  Newquay  Oldham  Pontypool  Portsmouth  Potters Bar  Prestwick  Rayleigh  Reading  Redhill  Reigate  Richmond  Romford  Royston  Rushden  Saint Austell  Saint Leonards-on-sea  Salford  Shepperton  Slough  Southampton  Southport  Southsea  St Albans  Stamford  Stirling  Stourbridge  Stroud  Surbiton  Sutton  Swaffham  Swindon  Tadworth  Taunton  Torquay  Tring  Trowbridge  Tunbridge Wells  Waltham Cross  Walton-on-Thames  Ware  West Byfleet  Weston-super-Mare  Weybridge  Windsor  Witney  Woking  Wokingham  Wolverhampton  Worcester Park  Yeovil  York     Let us find an artist near you    \\ufeff     Have any questions about how we can help?   Request call back          Connect with us:     Facebook       Twitter       YouTube       Pinterest        General enquiries:  0800 170 7370    Contact via email:  [email\\xa0protected]    Booking form:  Enquire now    Have questions?  Get in touch       Head Office Beauty Call Ltd 24 High Street London E11 2AQ  Find us on a map     Beauty Call  Hairstyle & makeup ideas  Our costs  Pay us online  News and blogs  Suppliers we love  Apply to work for us     Popular Services  Weddings  Corporate events  Hen parties  Special occasions  Lessons  Proms     Popular Locations  London  Manchester  Kent  Surrey  Wiltshire  Yorkshire       © Copyright 2018, Beauty Call   Terms of Service  Privacy Policy & Cookie Policy         Request call back          Request a call back  If you have an event you would like us to ask us about or book us for, please get in touch by filling in the form below. If you are making an enquiry about a corporate event, fashion show or photoshoot, please call 0800 170 7370 .  Fields marked with * are required.     ×                   Your Name: *     Email address: *     Phone number (optional):     Date of event (optional):     Type of event: *  -- Select event type -- Wedding Corporate Event Hen Party Special Occasion Prom Makeup Lesson    Location of event: *     Your message: *     Please leave this field empty.     By clicking below, you consent for your data to be processed in order for us to be able to provide a response to your enquiry.               ',\n",
              "       \"                                                  What we do  Our partners  Why choose us  Our family  Contact    847-631-3500               847-631-3500                      What we do  Our partners  Why choose us  Our family  Contact            Discover, Innovate, Execute, Enjoy!       Miracapo develops and manufactures high quality pizzas. We partner with you every step of the way.   Discover, Innovate, Execute, Enjoy!  Miracapo develops and manufactures high quality pizzas. We partner with you every step of the way.         We are your full-service pizza partner       Innovation  Crusts  Topping  Packaging  Supply Chain     Innovation     Innovation is our recipe for success  Our Discovery Center is entirely dedicated to developing innovative recipes for you.              Crusts     Crusts from classic to artisan  We are constantly innovating new and great tasting crust styles to meet your needs.              Topping     No limit on flavor  We source the best quality toppings for flavor combinations that showcase your creativity and satisfy your customers.              Packaging     Grocery-aisle ready packaging  From folding cartons to bakeable trays, we have the packaging solutions you need.              Supply Chain     Execute on a major scale  Partnering with Miracapo means benefitting from our long-term relationships:  International and domestic ingredient suppliers  Freight carriers  Cold storage facilities  EDI networks                What we do        Innovation is our recipe for success  Our Discovery Center is entirely dedicated to developing innovative recipes for you.   What we do               Crusts from classic to artisan  We are constantly innovating new and great tasting crust styles to meet your needs.   What we do               No limit on flavor  We source the best quality toppings for flavor combinations that showcase your creativity and satisfy your customers.   What we do               Grocery-aisle ready packaging  From folding cartons to bakeable trays, we have the packaging solutions you need.   What we do               Execute on a major scale  Partnering with Miracapo means benefitting from our long-term relationships:  International and domestic ingredient suppliers  Freight carriers  Cold storage facilities  EDI networks    What we do                      Pizza is our passion, and we want to share it with you  Whether you're expanding the selection of your private label, developing your own brand, or providing food service to a crowd, you're in good hands.       Private Label     Branded     Food Service    Our Partners            We are creators, innovators and experts  Miracapo is unrivaled in passion for your products, dedication to our partners and experience creating pizzas on a national scale.   Why Choose Us       We know pizza      Each year, the numbers speak for themselves       +  new product concepts     +  million slices of pepperoni     +  million slices of pizza produced       Our Family            We want to bring your ideas to life  Contact             Mira to = Focused; Capo = Leader Your Focused Leaders of the Frozen Pizza Industry      What we do  Our partners  Why choose us  Our family     Careers     Contact Us   847-631-3500  2323 Pratt Blvd. Elk Grove Village, IL 60007 Chicagoland Area           © 2019 Miracapo Pizza Company. Site by Glantz .    Privacy Policy  Terms of Use             \"],\n",
              "      dtype=object)"
            ]
          },
          "metadata": {
            "tags": []
          },
          "execution_count": 26
        }
      ]
    },
    {
      "cell_type": "code",
      "metadata": {
        "colab": {
          "base_uri": "https://localhost:8080/"
        },
        "id": "bUWX3MBLR1-X",
        "outputId": "53db9972-7405-4407-f8f6-049a0cadb5c3"
      },
      "source": [
        "df['homepage_text'].dropna()\n",
        "\n",
        "\n"
      ],
      "execution_count": 27,
      "outputs": [
        {
          "output_type": "execute_result",
          "data": {
            "text/plain": [
              "0                                             Electrici...\n",
              "1            site map | en español    Elias Medical   h...\n",
              "2            Home  About Us  Garage Door Repair & Servi...\n",
              "3                         918-599-0202        Type Size...\n",
              "4                        Simply fill out our form below...\n",
              "                               ...                        \n",
              "73969                                                     \n",
              "73970                         Home    About Us    Our S...\n",
              "73971                                    03 9531 5092 M...\n",
              "73972                                                  ...\n",
              "73973                                                  ...\n",
              "Name: homepage_text, Length: 73305, dtype: object"
            ]
          },
          "metadata": {
            "tags": []
          },
          "execution_count": 27
        }
      ]
    },
    {
      "cell_type": "code",
      "metadata": {
        "id": "XVBEVt32tA46",
        "colab": {
          "base_uri": "https://localhost:8080/",
          "height": 197
        },
        "outputId": "4525c2c6-5ec2-4f57-f201-2834cdc6061a"
      },
      "source": [
        "df.head()"
      ],
      "execution_count": 28,
      "outputs": [
        {
          "output_type": "execute_result",
          "data": {
            "text/html": [
              "<div>\n",
              "<style scoped>\n",
              "    .dataframe tbody tr th:only-of-type {\n",
              "        vertical-align: middle;\n",
              "    }\n",
              "\n",
              "    .dataframe tbody tr th {\n",
              "        vertical-align: top;\n",
              "    }\n",
              "\n",
              "    .dataframe thead th {\n",
              "        text-align: right;\n",
              "    }\n",
              "</style>\n",
              "<table border=\"1\" class=\"dataframe\">\n",
              "  <thead>\n",
              "    <tr style=\"text-align: right;\">\n",
              "      <th></th>\n",
              "      <th>homepage_text</th>\n",
              "    </tr>\n",
              "  </thead>\n",
              "  <tbody>\n",
              "    <tr>\n",
              "      <th>0</th>\n",
              "      <td>Electrici...</td>\n",
              "    </tr>\n",
              "    <tr>\n",
              "      <th>1</th>\n",
              "      <td>site map | en español    Elias Medical   h...</td>\n",
              "    </tr>\n",
              "    <tr>\n",
              "      <th>2</th>\n",
              "      <td>Home  About Us  Garage Door Repair &amp; Servi...</td>\n",
              "    </tr>\n",
              "    <tr>\n",
              "      <th>3</th>\n",
              "      <td>918-599-0202        Type Size...</td>\n",
              "    </tr>\n",
              "    <tr>\n",
              "      <th>4</th>\n",
              "      <td>Simply fill out our form below...</td>\n",
              "    </tr>\n",
              "  </tbody>\n",
              "</table>\n",
              "</div>"
            ],
            "text/plain": [
              "                                       homepage_text\n",
              "0                                       Electrici...\n",
              "1      site map | en español    Elias Medical   h...\n",
              "2      Home  About Us  Garage Door Repair & Servi...\n",
              "3                   918-599-0202        Type Size...\n",
              "4                  Simply fill out our form below..."
            ]
          },
          "metadata": {
            "tags": []
          },
          "execution_count": 28
        }
      ]
    },
    {
      "cell_type": "markdown",
      "metadata": {
        "id": "CVt0OM6NOQ29"
      },
      "source": [
        "\n",
        "## Removing Special Characters\n",
        "\n",
        "\n",
        "\n"
      ]
    },
    {
      "cell_type": "code",
      "metadata": {
        "colab": {
          "base_uri": "https://localhost:8080/"
        },
        "id": "fp8_QBQs5TXD",
        "outputId": "6d395915-81b7-49e1-ec8a-036b614be8e5"
      },
      "source": [
        "df['homepage_text'].isnull().sum()"
      ],
      "execution_count": 29,
      "outputs": [
        {
          "output_type": "execute_result",
          "data": {
            "text/plain": [
              "669"
            ]
          },
          "metadata": {
            "tags": []
          },
          "execution_count": 29
        }
      ]
    },
    {
      "cell_type": "code",
      "metadata": {
        "id": "hodf65Y65py0"
      },
      "source": [
        "df['homepage_text'] = df['homepage_text'].fillna(' ')"
      ],
      "execution_count": 30,
      "outputs": []
    },
    {
      "cell_type": "code",
      "metadata": {
        "colab": {
          "base_uri": "https://localhost:8080/"
        },
        "id": "-sjK9Ydt5vg_",
        "outputId": "5213ab40-b4bc-4a45-aa0b-0459e3edd496"
      },
      "source": [
        "df['homepage_text'].isnull().sum()"
      ],
      "execution_count": 31,
      "outputs": [
        {
          "output_type": "execute_result",
          "data": {
            "text/plain": [
              "0"
            ]
          },
          "metadata": {
            "tags": []
          },
          "execution_count": 31
        }
      ]
    },
    {
      "cell_type": "code",
      "metadata": {
        "id": "9AW8mu2rC9pp"
      },
      "source": [
        "def remove_punctuation(news):\n",
        "  translator = str.maketrans('', '', string.punctuation)\n",
        "  return news.translate(translator)"
      ],
      "execution_count": 32,
      "outputs": []
    },
    {
      "cell_type": "code",
      "metadata": {
        "id": "UlQExktMDBVN"
      },
      "source": [
        "df['homepage_text']= df['homepage_text'].apply(remove_punctuation)"
      ],
      "execution_count": 33,
      "outputs": []
    },
    {
      "cell_type": "code",
      "metadata": {
        "colab": {
          "base_uri": "https://localhost:8080/",
          "height": 124
        },
        "id": "xUHPYjnnDPGl",
        "outputId": "abee82b1-0a53-4688-bd35-d08f3ecc5cbd"
      },
      "source": [
        "df['homepage_text'][2]"
      ],
      "execution_count": 34,
      "outputs": [
        {
          "output_type": "execute_result",
          "data": {
            "application/vnd.google.colaboratory.intrinsic+json": {
              "type": "string"
            },
            "text/plain": [
              "'    Home  About Us  Garage Door Repair  Service  DesignADoor  Garage Doors  Garage Door Openers  Accessories  Customer Reviews  Photo Gallery  Contact Us  Free Garage Door Estimate        Home  About Us  Garage Door Repair  Service  DesignADoor  Contact Us  Free Estimate                      117 Edgewood Drive  Averill Park NY 12018  Phone 518 3767382  Garage Door Service Installation and Repairs in Albany Troy  Clifton Park East Greenbush and surrounding Capital District New York areas          Garage Doors  Garage Door Openers  Accessories  Customer Reviews  Photo Gallery  Contact Us      Previous  Next        Posted by jtafur on Oct 6 2011  Welcome to Koops Overhead Doors  Koops Overhead Doors is family owned and operated with over 18 years of experience serving residential and commercial clients in Albany Troy Clifton Park East Greenbush and the surrounding Capital District areas We specialize in the sales service repair and installation of garage doors and garage door openers  Read More           Posted by jtafur on Oct 6 2011  Customer Reviews  “We called Koops after getting estimates from 2 other local dealers \\xa0His price was better his knowledge of the products was exceptional and when a model and color we had originally wanted was no longer available from the manufacturer – he worked miracles finding an even better alternative \\xa0On the day of the installation Mr Koops was there on time worked quickly and efficiently and left  Read More           Posted by jtafur on Oct 6 2011  Welcome to Koops Overhead Doors  Koops Overhead Doors is family owned and operated with over 18 years of experience serving residential and commercial clients in Albany Troy Clifton Park East Greenbush and the surrounding Capital District areas We specialize in the sales service repair and installation of garage doors and garage door openers  Read More           Posted by jtafur on Oct 6 2011  Customer Reviews  “We called Koops after getting estimates from 2 other local dealers \\xa0His price was better his knowledge of the products was exceptional and when a model and color we had originally wanted was no longer available from the manufacturer – he worked miracles finding an even better alternative \\xa0On the day of the installation Mr Koops was there on time worked quickly and efficiently and left  Read More           Posted by jtafur on Oct 6 2011  Welcome to Koops Overhead Doors  Koops Overhead Doors is family owned and operated with over 18 years of experience serving residential and commercial clients in Albany Troy Clifton Park East Greenbush and the surrounding Capital District areas We specialize in the sales service repair and installation of garage doors and garage door openers  Read More           Posted by jtafur on Oct 6 2011  Customer Reviews  “We called Koops after getting estimates from 2 other local dealers \\xa0His price was better his knowledge of the products was exceptional and when a model and color we had originally wanted was no longer available from the manufacturer – he worked miracles finding an even better alternative \\xa0On the day of the installation Mr Koops was there on time worked quickly and efficiently and left  Read More           Posted by jtafur on Oct 6 2011  Welcome to Koops Overhead Doors  Koops Overhead Doors is family owned and operated with over 18 years of experience serving residential and commercial clients in Albany Troy Clifton Park East Greenbush and the surrounding Capital District areas We specialize in the sales service repair and installation of garage doors and garage door openers  Read More           Posted by jtafur on Oct 6 2011  Customer Reviews  “We called Koops after getting estimates from 2 other local dealers \\xa0His price was better his knowledge of the products was exceptional and when a model and color we had originally wanted was no longer available from the manufacturer – he worked miracles finding an even better alternative \\xa0On the day of the installation Mr Koops was there on time worked quickly and efficiently and left  Read More                                                                                Authorized Dealer               Koops Overhead Doors is an EPA leadsafe certified firm       angieslistcomreview2346123        Dedicated To Excellence  Koops Overhead Doors is family owned and operated with over 18 years of experience serving residential and commercial clients in Albany Troy Clifton Park East Greenbush and the surrounding Capital District areas We specialize in the sales service repair and installation of garage doors and electric garage door openers  We pride ourselves on outstanding customer service professional garage door installation garage door repair and last but not least competitive pricing  All garage door installations and garage door repairs are completed by Koops Overhead Doors as we do not use any subcontractors  Whether you’re in need of a new garage door an electronic garage door opener or if your current garage door just needs a minor repair we do it all       Contact Us  Free Quote  Please browse our “photo gallery” page and see just how much a new garage door can change the look of your home   You can also take advantage of our “DesignaDoor” feature to see just how great a new garage door will look on your home  If you have any questions please do not hesitate to call us or fill out our “contact us form” and we will contact you right away to discuss your project  Phone 518 3767382 Fax\\t518 7125036 Email  koopsoverheaddoorsnycaprrcom          Serving Albany NY Averill Park NY Clifton Park NY Colonie NY Delmar NY East Greenbush NY Latham NY Rensselaer NY Schenectady NY Troy NY\\tSince 2008 Copyright Koops Overhead Doors © 2015  Developed by SqueekPress         Home  About Koops Overhead Doors  Customer Reviews  Photo Gallery  Contact Us  Free Garage Door Estimate      '"
            ]
          },
          "metadata": {
            "tags": []
          },
          "execution_count": 34
        }
      ]
    },
    {
      "cell_type": "code",
      "metadata": {
        "id": "T9tO1n8RymmL"
      },
      "source": [
        "import re"
      ],
      "execution_count": 35,
      "outputs": []
    },
    {
      "cell_type": "code",
      "metadata": {
        "colab": {
          "base_uri": "https://localhost:8080/"
        },
        "id": "GKKkvKBPojsQ",
        "outputId": "ae3f82dc-d92b-4c28-d0d2-03ea79aa1c22"
      },
      "source": [
        "import nltk\n",
        "nltk.download('punkt')\n",
        "  "
      ],
      "execution_count": 36,
      "outputs": [
        {
          "output_type": "stream",
          "text": [
            "[nltk_data] Downloading package punkt to /root/nltk_data...\n",
            "[nltk_data]   Package punkt is already up-to-date!\n"
          ],
          "name": "stdout"
        },
        {
          "output_type": "execute_result",
          "data": {
            "text/plain": [
              "True"
            ]
          },
          "metadata": {
            "tags": []
          },
          "execution_count": 36
        }
      ]
    },
    {
      "cell_type": "code",
      "metadata": {
        "colab": {
          "base_uri": "https://localhost:8080/"
        },
        "id": "9F1RI5ft1Ei6",
        "outputId": "6710676b-bbb6-47fb-a934-53fbb3190d09"
      },
      "source": [
        "print(string.punctuation)"
      ],
      "execution_count": 37,
      "outputs": [
        {
          "output_type": "stream",
          "text": [
            "!\"#$%&'()*+,-./:;<=>?@[\\]^_`{|}~\n"
          ],
          "name": "stdout"
        }
      ]
    },
    {
      "cell_type": "code",
      "metadata": {
        "id": "EJJwP0nUsKn4"
      },
      "source": [
        "def remove_punctuation(text):\n",
        "    lst = [c for c in text if c not in string.punctuation]\n",
        "    return ''.join(lst)"
      ],
      "execution_count": 38,
      "outputs": []
    },
    {
      "cell_type": "code",
      "metadata": {
        "id": "ekyA-OnavVtC"
      },
      "source": [
        "df['homepage_text'] = df['homepage_text'].apply(remove_punctuation)"
      ],
      "execution_count": 39,
      "outputs": []
    },
    {
      "cell_type": "code",
      "metadata": {
        "colab": {
          "base_uri": "https://localhost:8080/",
          "height": 124
        },
        "id": "7afr-pPjrekv",
        "outputId": "6d2ff540-7e3b-4231-b7cf-dc7f2153d06e"
      },
      "source": [
        "df['homepage_text'][2]"
      ],
      "execution_count": 40,
      "outputs": [
        {
          "output_type": "execute_result",
          "data": {
            "application/vnd.google.colaboratory.intrinsic+json": {
              "type": "string"
            },
            "text/plain": [
              "'    Home  About Us  Garage Door Repair  Service  DesignADoor  Garage Doors  Garage Door Openers  Accessories  Customer Reviews  Photo Gallery  Contact Us  Free Garage Door Estimate        Home  About Us  Garage Door Repair  Service  DesignADoor  Contact Us  Free Estimate                      117 Edgewood Drive  Averill Park NY 12018  Phone 518 3767382  Garage Door Service Installation and Repairs in Albany Troy  Clifton Park East Greenbush and surrounding Capital District New York areas          Garage Doors  Garage Door Openers  Accessories  Customer Reviews  Photo Gallery  Contact Us      Previous  Next        Posted by jtafur on Oct 6 2011  Welcome to Koops Overhead Doors  Koops Overhead Doors is family owned and operated with over 18 years of experience serving residential and commercial clients in Albany Troy Clifton Park East Greenbush and the surrounding Capital District areas We specialize in the sales service repair and installation of garage doors and garage door openers  Read More           Posted by jtafur on Oct 6 2011  Customer Reviews  “We called Koops after getting estimates from 2 other local dealers \\xa0His price was better his knowledge of the products was exceptional and when a model and color we had originally wanted was no longer available from the manufacturer – he worked miracles finding an even better alternative \\xa0On the day of the installation Mr Koops was there on time worked quickly and efficiently and left  Read More           Posted by jtafur on Oct 6 2011  Welcome to Koops Overhead Doors  Koops Overhead Doors is family owned and operated with over 18 years of experience serving residential and commercial clients in Albany Troy Clifton Park East Greenbush and the surrounding Capital District areas We specialize in the sales service repair and installation of garage doors and garage door openers  Read More           Posted by jtafur on Oct 6 2011  Customer Reviews  “We called Koops after getting estimates from 2 other local dealers \\xa0His price was better his knowledge of the products was exceptional and when a model and color we had originally wanted was no longer available from the manufacturer – he worked miracles finding an even better alternative \\xa0On the day of the installation Mr Koops was there on time worked quickly and efficiently and left  Read More           Posted by jtafur on Oct 6 2011  Welcome to Koops Overhead Doors  Koops Overhead Doors is family owned and operated with over 18 years of experience serving residential and commercial clients in Albany Troy Clifton Park East Greenbush and the surrounding Capital District areas We specialize in the sales service repair and installation of garage doors and garage door openers  Read More           Posted by jtafur on Oct 6 2011  Customer Reviews  “We called Koops after getting estimates from 2 other local dealers \\xa0His price was better his knowledge of the products was exceptional and when a model and color we had originally wanted was no longer available from the manufacturer – he worked miracles finding an even better alternative \\xa0On the day of the installation Mr Koops was there on time worked quickly and efficiently and left  Read More           Posted by jtafur on Oct 6 2011  Welcome to Koops Overhead Doors  Koops Overhead Doors is family owned and operated with over 18 years of experience serving residential and commercial clients in Albany Troy Clifton Park East Greenbush and the surrounding Capital District areas We specialize in the sales service repair and installation of garage doors and garage door openers  Read More           Posted by jtafur on Oct 6 2011  Customer Reviews  “We called Koops after getting estimates from 2 other local dealers \\xa0His price was better his knowledge of the products was exceptional and when a model and color we had originally wanted was no longer available from the manufacturer – he worked miracles finding an even better alternative \\xa0On the day of the installation Mr Koops was there on time worked quickly and efficiently and left  Read More                                                                                Authorized Dealer               Koops Overhead Doors is an EPA leadsafe certified firm       angieslistcomreview2346123        Dedicated To Excellence  Koops Overhead Doors is family owned and operated with over 18 years of experience serving residential and commercial clients in Albany Troy Clifton Park East Greenbush and the surrounding Capital District areas We specialize in the sales service repair and installation of garage doors and electric garage door openers  We pride ourselves on outstanding customer service professional garage door installation garage door repair and last but not least competitive pricing  All garage door installations and garage door repairs are completed by Koops Overhead Doors as we do not use any subcontractors  Whether you’re in need of a new garage door an electronic garage door opener or if your current garage door just needs a minor repair we do it all       Contact Us  Free Quote  Please browse our “photo gallery” page and see just how much a new garage door can change the look of your home   You can also take advantage of our “DesignaDoor” feature to see just how great a new garage door will look on your home  If you have any questions please do not hesitate to call us or fill out our “contact us form” and we will contact you right away to discuss your project  Phone 518 3767382 Fax\\t518 7125036 Email  koopsoverheaddoorsnycaprrcom          Serving Albany NY Averill Park NY Clifton Park NY Colonie NY Delmar NY East Greenbush NY Latham NY Rensselaer NY Schenectady NY Troy NY\\tSince 2008 Copyright Koops Overhead Doors © 2015  Developed by SqueekPress         Home  About Koops Overhead Doors  Customer Reviews  Photo Gallery  Contact Us  Free Garage Door Estimate      '"
            ]
          },
          "metadata": {
            "tags": []
          },
          "execution_count": 40
        }
      ]
    },
    {
      "cell_type": "markdown",
      "metadata": {
        "id": "sb6yuqgEOVIa"
      },
      "source": [
        "## Removing Numbers"
      ]
    },
    {
      "cell_type": "code",
      "metadata": {
        "id": "jkj8ieB9ELBb"
      },
      "source": [
        "import re"
      ],
      "execution_count": 41,
      "outputs": []
    },
    {
      "cell_type": "code",
      "metadata": {
        "colab": {
          "base_uri": "https://localhost:8080/"
        },
        "id": "TWfSWsx3Dplq",
        "outputId": "553cff39-f83f-4e36-b17b-9b50cdb1e776"
      },
      "source": [
        "df['homepage_text'].isnull().sum()"
      ],
      "execution_count": 42,
      "outputs": [
        {
          "output_type": "execute_result",
          "data": {
            "text/plain": [
              "0"
            ]
          },
          "metadata": {
            "tags": []
          },
          "execution_count": 42
        }
      ]
    },
    {
      "cell_type": "code",
      "metadata": {
        "id": "trH2nZDWOPrk"
      },
      "source": [
        "\n",
        "df['homepage_text'] = df['homepage_text'].str.replace('\\d+', '')\n"
      ],
      "execution_count": 43,
      "outputs": []
    },
    {
      "cell_type": "code",
      "metadata": {
        "colab": {
          "base_uri": "https://localhost:8080/",
          "height": 124
        },
        "id": "KQG2L2d0aj2I",
        "outputId": "f5f38f39-5954-4ec1-ff81-8803e0ba10cf"
      },
      "source": [
        "df['homepage_text'][5]"
      ],
      "execution_count": 44,
      "outputs": [
        {
          "output_type": "execute_result",
          "data": {
            "application/vnd.google.colaboratory.intrinsic+json": {
              "type": "string"
            },
            "text/plain": [
              "'      Wood Green Timber Co Ltd  Wood Green  Tel     Potters Bar  Tel      Londons Specialist Timber Merchants st in Quality st For Service      Home  Timber    Sawn  Treated Timber  OversizedSpecialist Timber  Joinery Timber  Mouldings  Hardwood  Decking  Fencing     Sheet Materials    Plywood  MDF  Chipboard  Sterling Board  Hardboard     Building Supplies    Plasterboards  Insulation  PlasterBondingCement  Aggregates  Fire Rated Materials  Doors  Roofing  Tools  Ironmongery     Our Services    Delivery  Cutting  to Customer Service     Sustainability  Contact    Contact Wood Green  Contact Potters Bar                            Price matching    When it comes to pricing a job no matter how big or small our clients will always be looking for the best possible prices they can get          North Londons Timber Specialists    High stock levels  to match your building requirements          FireRated materials    Fire resistant materials to the highest standards          Over yrs of Trading    Our  working relationships with  clients continue to thrive year after year          No for Service    to Customer Service          Oversized Timbers up to mm x mm x     We hold timbers up to  metres   in stock                               Location  Potter Bar    Location  Wood Green    Opening Hours        Friendly advice always given Tel      Welcome to Wood Green Timber   At Wood Green Timber Co Ltd London and our Potters Bar Hertfordshire Yard we stock a comprehensive selection of timber suitable for a wide variety of uses From floor joists to decorative mouldings we have it all in stock and ready to take away or for delivery if you prefer  Our aim is to maintain high stock levels in order to satisfy all your building requirements immediately however we are equally happy to source specialist requirements for delivery or collection at a later date              to  Service     Great Customer Service  We aim to offer a onetoone service A member of staff will always be  available to ensure you are served efficiently and effectivel Read More           Oversized Timbers up to mm x mm x    We hold timbers up to  metres in length and mm x mm in stock  These can be cut to specific length using our cross cutting saw and or milled to specific size      Royal Delivery Service  Two locations high stock levels  to match your building requirements     We source and deliver the latest products and materials in ever changing markets     We pride ourselves on always  providing  first class products service  and delivery         Forestry Stewardship Council ® FSC ® and The Programme for Endorsement of Forestry Certification PEFC work to ensure that the building materials we use today are sustainable to up to building regulations  Look for our FSC®certified products  Website Design by Adelante © Woodgreen Timber Privacy Policy  '"
            ]
          },
          "metadata": {
            "tags": []
          },
          "execution_count": 44
        }
      ]
    },
    {
      "cell_type": "markdown",
      "metadata": {
        "id": "SVleF36zObKR"
      },
      "source": [
        "## Removing Stopwords"
      ]
    },
    {
      "cell_type": "code",
      "metadata": {
        "colab": {
          "base_uri": "https://localhost:8080/"
        },
        "id": "DmxHS17g_8PN",
        "outputId": "8dde5b3c-6ada-454d-89e1-b13e7ca18e54"
      },
      "source": [
        "import nltk\n",
        "nltk.download('stopwords')\n",
        "from nltk.corpus import stopwords\n"
      ],
      "execution_count": 45,
      "outputs": [
        {
          "output_type": "stream",
          "text": [
            "[nltk_data] Downloading package stopwords to /root/nltk_data...\n",
            "[nltk_data]   Package stopwords is already up-to-date!\n"
          ],
          "name": "stdout"
        }
      ]
    },
    {
      "cell_type": "code",
      "metadata": {
        "id": "L6QWKsMPXXT0"
      },
      "source": [
        "stop_words = stopwords.words('english')"
      ],
      "execution_count": 46,
      "outputs": []
    },
    {
      "cell_type": "code",
      "metadata": {
        "id": "7UqXVGg8Xdwz"
      },
      "source": [
        "def stopwords(text):\n",
        "  text = [word.lower() for word in text.split() if word.lower() not in stop_words]\n",
        "  return \" \".join(text)"
      ],
      "execution_count": 47,
      "outputs": []
    },
    {
      "cell_type": "code",
      "metadata": {
        "id": "4SKqU4Tya8Vm"
      },
      "source": [
        "df['homepage_text'] = df['homepage_text'].apply(stopwords)"
      ],
      "execution_count": 48,
      "outputs": []
    },
    {
      "cell_type": "code",
      "metadata": {
        "colab": {
          "base_uri": "https://localhost:8080/",
          "height": 106
        },
        "id": "TiuXCo6JNQWg",
        "outputId": "87e0dc43-ed25-4c43-9b99-e5ad5fd75f89"
      },
      "source": [
        "df['homepage_text'][3]"
      ],
      "execution_count": 49,
      "outputs": [
        {
          "output_type": "execute_result",
          "data": {
            "application/vnd.google.colaboratory.intrinsic+json": {
              "type": "string"
            },
            "text/plain": [
              "'type size home practice services patient forms eye care articles lasik glaucoma diagnosis cataracts diabetic eye exams location welcome practice excited provide professional eye care services comfortable friendly environment please contact us schedule appointment today click request appointment access forms visit office services provide would like welcome midtown eyecare professionals practice provide patient quality vision solutions exceptional customer service staff experienced areas vision care maintaining healthy eyes requires regular vision eye exams look forward serving beforehand thank taking time browse website encourage learn dr kyle craig office staff practice know many choices appreciate interest office contact us peoria avenue tulsa ok phone office hours mon pm tue pm wed pm thu pm fri pm notice privacy practices website eyefinity'"
            ]
          },
          "metadata": {
            "tags": []
          },
          "execution_count": 49
        }
      ]
    },
    {
      "cell_type": "markdown",
      "metadata": {
        "id": "ARO6UjcEOj9m"
      },
      "source": [
        "\n",
        "## Lemmatization"
      ]
    },
    {
      "cell_type": "code",
      "metadata": {
        "colab": {
          "base_uri": "https://localhost:8080/"
        },
        "id": "zyEJ-1l7OMRF",
        "outputId": "1b47c2cc-4f09-4bd8-d5d2-5ee0114f409a"
      },
      "source": [
        "from nltk.stem.snowball import SnowballStemmer\n",
        "from nltk.tokenize import WhitespaceTokenizer as w_tokenizer\n",
        "import nltk\n",
        "nltk.download('wordnet')\n",
        "nltk.download('punkt')\n",
        "nltk.download('averaged_perceptron_tagger')"
      ],
      "execution_count": 50,
      "outputs": [
        {
          "output_type": "stream",
          "text": [
            "[nltk_data] Downloading package wordnet to /root/nltk_data...\n",
            "[nltk_data]   Package wordnet is already up-to-date!\n",
            "[nltk_data] Downloading package punkt to /root/nltk_data...\n",
            "[nltk_data]   Package punkt is already up-to-date!\n",
            "[nltk_data] Downloading package averaged_perceptron_tagger to\n",
            "[nltk_data]     /root/nltk_data...\n",
            "[nltk_data]   Package averaged_perceptron_tagger is already up-to-\n",
            "[nltk_data]       date!\n"
          ],
          "name": "stdout"
        },
        {
          "output_type": "execute_result",
          "data": {
            "text/plain": [
              "True"
            ]
          },
          "metadata": {
            "tags": []
          },
          "execution_count": 50
        }
      ]
    },
    {
      "cell_type": "code",
      "metadata": {
        "id": "uULqNvg6AeZE"
      },
      "source": [
        "from nltk.corpus import wordnet as wn\n",
        "from nltk.stem.wordnet import WordNetLemmatizer\n",
        "from nltk import word_tokenize, pos_tag\n",
        "from collections import defaultdict\n",
        "tag_map = defaultdict(lambda : wn.NOUN)\n",
        "tag_map['J'] = wn.ADJ\n",
        "tag_map['V'] = wn.VERB\n",
        "tag_map['R'] = wn.ADV"
      ],
      "execution_count": 51,
      "outputs": []
    },
    {
      "cell_type": "code",
      "metadata": {
        "id": "NM8UN01WRDKc"
      },
      "source": [
        "def lemmatize_text(text):\n",
        "  \n",
        "  tokens = word_tokenize(text)\n",
        "  lemmatizer = WordNetLemmatizer()\n",
        "  l = []\n",
        "  for token, tag in pos_tag(tokens):\n",
        "    lemma = lemmatizer.lemmatize(token, tag_map[tag[0]])\n",
        "    l.append(lemma)\n",
        "    \n",
        "  return \" \".join(l)"
      ],
      "execution_count": 52,
      "outputs": []
    },
    {
      "cell_type": "code",
      "metadata": {
        "id": "2LOswUzPbhBa"
      },
      "source": [
        "df['homepage_text'] = df['homepage_text'].apply(lemmatize_text)"
      ],
      "execution_count": 54,
      "outputs": []
    },
    {
      "cell_type": "code",
      "metadata": {
        "colab": {
          "base_uri": "https://localhost:8080/",
          "height": 160
        },
        "id": "PTxh3bmlvqqM",
        "outputId": "76f29ec1-1b4a-41a7-a62e-013281d6ffaa"
      },
      "source": [
        "df['homepage_text'][20]"
      ],
      "execution_count": 55,
      "outputs": [
        {
          "output_type": "execute_result",
          "data": {
            "application/vnd.google.colaboratory.intrinsic+json": {
              "type": "string"
            },
            "text/plain": [
              "'javascript seem disabled browser best experience site sure turn javascript browser feedback contact u help center tour event calendar skip content toggle nav search cart branch branch middle street middletown ct change branch login register top result deliver pick call price discontinue product find match criterion \\u200b search account shop category quick order shop list service location u u line card contact u career chat customer support branch login account account shop category list help center customer service branch number feedback view location click choose technology increase roi hit easy button automate inventory management upload logo order account change order list catalog contact upload logo × please upload jpg jpeg png gif format image resolution pixel max mb size browse close save change top category wire device see combination device plug connector receptacle switch wall switch plate power strip multioutlet converter conduit fitting see cable tray accessory conduit fitting hanger clamp support metallic conduit nonmetallic conduit electrical enclosure box see box hardware accessory device box enclosure cabinet explosionproof box accessory mudent box accessory tool see battery charger hand tool tool attachment accessory adhesive sealant tape electrical measure test light see ballast starter capacitor lamps bulbs driver bulb recycle maintenance exit emergency light hazardous location vapor tight fixture power distribution see breaker fuse disconnect safety switch load center panelboards accessory transformer wire see aluminum build wire bare wire copper building wire direct burial service wire hookup high temperature wire wiring supply see bundle secure crimp wire connector ground bond lugs split bolt mechanical tap connector hardware see anchor miscellaneous fastener nut washer screw bolt cable rope chain safety protection signal see access control system accessory fire safety protection personal safety protection safety lockout tagout device safety tape sign label datacom see audio video copper connectivity fiber optic connectivity coax connectivity network component hvac see air circulators ducting vent electric heating exhaust ventilation central vacuum system industrial control automation see motor control relay timer control station control panel drive accessory industrial switch sensor solar see solar component inverter accessory solar panel accessory newsletter sign newsletter subscribe × login invalid login password email password forget password login company already account number register business account benefit flexible payment term discount available qualified customer free expedite truck delivery late order ship first thing morning project management expert engineering support apply × register first name last name email password character type upper low numeric special password strength password link business account account number invoice number sign newsletter retrieve account number please call u register log exist account account create successfully × × please enter email address receive password reset link email reset password go back × product image tag product long name sku product price subtotal item count checkout view cart continue shop test × × sku search city state zip code sort availability hand distance matching branch find please try different zipcode branch distance hand qty pickup please select quantity add cart view branch cancel reset add cart pickup inventory display accurate est regularly update inventory online may discrepancies actual stock reset add cart pickup test × test distance mile ship delivery return policy privacy policy contact u © franklingriffith × feedback indicate require field type please select issue type search issue content issue functionality issue name email issue summary description page data wwwfranklinelectricnet submit feedback cancel submit leave close registration click login register account business account customer access account price payment option help center click answer common question order ship payment return well contact information customer service team branch locator update home branch make schedule pick order faster easier improve search result bring local product top list search search use keywords manufacturer part number skus trade slang more… shop category browse catalog thousand products… newsletter sign receive late deal notify continue improve site login ×'"
            ]
          },
          "metadata": {
            "tags": []
          },
          "execution_count": 55
        }
      ]
    },
    {
      "cell_type": "code",
      "metadata": {
        "id": "6KVyaMjwv0O9"
      },
      "source": [
        "# df['homepage_text'].shape()"
      ],
      "execution_count": 56,
      "outputs": []
    },
    {
      "cell_type": "code",
      "metadata": {
        "id": "hogVOU3gb_-s"
      },
      "source": [
        "def remove_urls_punctuations(text):\n",
        "  text = re.sub(r\"(?:\\@|http?\\://)\\S+\", \"\", text)\n",
        "  text = re.sub(r\"(?:\\@|https?\\://)\\S+\", \"\", text)\n",
        "  text = re.sub(r\"[^\\w\\s]\", \"\", text)\n",
        "  return text"
      ],
      "execution_count": 57,
      "outputs": []
    },
    {
      "cell_type": "code",
      "metadata": {
        "id": "I9rU6ou5cBzN"
      },
      "source": [
        "df['homepage_text'] = df['homepage_text'].apply(remove_urls_punctuations)"
      ],
      "execution_count": 58,
      "outputs": []
    },
    {
      "cell_type": "code",
      "metadata": {
        "colab": {
          "base_uri": "https://localhost:8080/",
          "height": 160
        },
        "id": "7PjHMxBKcM7j",
        "outputId": "5a3b3e5f-ff27-4fda-ff6c-aa2d6bc09e8d"
      },
      "source": [
        "df['homepage_text'][20]"
      ],
      "execution_count": 59,
      "outputs": [
        {
          "output_type": "execute_result",
          "data": {
            "application/vnd.google.colaboratory.intrinsic+json": {
              "type": "string"
            },
            "text/plain": [
              "'javascript seem disabled browser best experience site sure turn javascript browser feedback contact u help center tour event calendar skip content toggle nav search cart branch branch middle street middletown ct change branch login register top result deliver pick call price discontinue product find match criterion  search account shop category quick order shop list service location u u line card contact u career chat customer support branch login account account shop category list help center customer service branch number feedback view location click choose technology increase roi hit easy button automate inventory management upload logo order account change order list catalog contact upload logo  please upload jpg jpeg png gif format image resolution pixel max mb size browse close save change top category wire device see combination device plug connector receptacle switch wall switch plate power strip multioutlet converter conduit fitting see cable tray accessory conduit fitting hanger clamp support metallic conduit nonmetallic conduit electrical enclosure box see box hardware accessory device box enclosure cabinet explosionproof box accessory mudent box accessory tool see battery charger hand tool tool attachment accessory adhesive sealant tape electrical measure test light see ballast starter capacitor lamps bulbs driver bulb recycle maintenance exit emergency light hazardous location vapor tight fixture power distribution see breaker fuse disconnect safety switch load center panelboards accessory transformer wire see aluminum build wire bare wire copper building wire direct burial service wire hookup high temperature wire wiring supply see bundle secure crimp wire connector ground bond lugs split bolt mechanical tap connector hardware see anchor miscellaneous fastener nut washer screw bolt cable rope chain safety protection signal see access control system accessory fire safety protection personal safety protection safety lockout tagout device safety tape sign label datacom see audio video copper connectivity fiber optic connectivity coax connectivity network component hvac see air circulators ducting vent electric heating exhaust ventilation central vacuum system industrial control automation see motor control relay timer control station control panel drive accessory industrial switch sensor solar see solar component inverter accessory solar panel accessory newsletter sign newsletter subscribe  login invalid login password email password forget password login company already account number register business account benefit flexible payment term discount available qualified customer free expedite truck delivery late order ship first thing morning project management expert engineering support apply  register first name last name email password character type upper low numeric special password strength password link business account account number invoice number sign newsletter retrieve account number please call u register log exist account account create successfully   please enter email address receive password reset link email reset password go back  product image tag product long name sku product price subtotal item count checkout view cart continue shop test   sku search city state zip code sort availability hand distance matching branch find please try different zipcode branch distance hand qty pickup please select quantity add cart view branch cancel reset add cart pickup inventory display accurate est regularly update inventory online may discrepancies actual stock reset add cart pickup test  test distance mile ship delivery return policy privacy policy contact u  franklingriffith  feedback indicate require field type please select issue type search issue content issue functionality issue name email issue summary description page data wwwfranklinelectricnet submit feedback cancel submit leave close registration click login register account business account customer access account price payment option help center click answer common question order ship payment return well contact information customer service team branch locator update home branch make schedule pick order faster easier improve search result bring local product top list search search use keywords manufacturer part number skus trade slang more shop category browse catalog thousand products newsletter sign receive late deal notify continue improve site login '"
            ]
          },
          "metadata": {
            "tags": []
          },
          "execution_count": 59
        }
      ]
    },
    {
      "cell_type": "markdown",
      "metadata": {
        "id": "smeZewV-ceJ7"
      },
      "source": [
        "## Vectorizing our data"
      ]
    },
    {
      "cell_type": "markdown",
      "metadata": {
        "id": "y3yOksIgwa_P"
      },
      "source": [
        ""
      ]
    },
    {
      "cell_type": "code",
      "metadata": {
        "id": "W4EdMS1h2tw6"
      },
      "source": [
        "# create the object of tfid vectorizer\n",
        "tfid_vectorizer = TfidfVectorizer(max_df=0.9, min_df=0.05)\n",
        "\n",
        "# fit the vectorizer using the text data\n",
        "X = tfid_vectorizer.fit_transform(df['homepage_text'][0:30000])\n"
      ],
      "execution_count": 60,
      "outputs": []
    },
    {
      "cell_type": "code",
      "metadata": {
        "id": "U2JtP2fkGA05"
      },
      "source": [
        "# data.shape"
      ],
      "execution_count": 61,
      "outputs": []
    },
    {
      "cell_type": "code",
      "metadata": {
        "colab": {
          "base_uri": "https://localhost:8080/"
        },
        "id": "rsMYdf2rw_1R",
        "outputId": "4fb8d31f-6f77-439c-fc78-282b85abb9a6"
      },
      "source": [
        "X.shape"
      ],
      "execution_count": 62,
      "outputs": [
        {
          "output_type": "execute_result",
          "data": {
            "text/plain": [
              "(30000, 819)"
            ]
          },
          "metadata": {
            "tags": []
          },
          "execution_count": 62
        }
      ]
    },
    {
      "cell_type": "code",
      "metadata": {
        "id": "5AMc-q-JrOU-"
      },
      "source": [
        "array = X.toarray()"
      ],
      "execution_count": 63,
      "outputs": []
    },
    {
      "cell_type": "code",
      "metadata": {
        "id": "dY7fDcmyGI8P"
      },
      "source": [
        "from sklearn.manifold import TSNE\n",
        "\n",
        "\n",
        "data_new = TSNE(perplexity=30).fit_transform(array) \n"
      ],
      "execution_count": 64,
      "outputs": []
    },
    {
      "cell_type": "code",
      "metadata": {
        "colab": {
          "base_uri": "https://localhost:8080/"
        },
        "id": "TVZdlJREGuZ0",
        "outputId": "bd7d30cb-b0c8-4bf1-9cd1-0f61ca6fee10"
      },
      "source": [
        "type(data_new)"
      ],
      "execution_count": 65,
      "outputs": [
        {
          "output_type": "execute_result",
          "data": {
            "text/plain": [
              "numpy.ndarray"
            ]
          },
          "metadata": {
            "tags": []
          },
          "execution_count": 65
        }
      ]
    },
    {
      "cell_type": "code",
      "metadata": {
        "colab": {
          "base_uri": "https://localhost:8080/"
        },
        "id": "dJxZ49HsM-pA",
        "outputId": "72747e93-270b-4b93-bc5c-5c58d3bf2598"
      },
      "source": [
        "data_new.shape"
      ],
      "execution_count": 66,
      "outputs": [
        {
          "output_type": "execute_result",
          "data": {
            "text/plain": [
              "(30000, 2)"
            ]
          },
          "metadata": {
            "tags": []
          },
          "execution_count": 66
        }
      ]
    },
    {
      "cell_type": "code",
      "metadata": {
        "colab": {
          "base_uri": "https://localhost:8080/"
        },
        "id": "OaFD3vPqrYbM",
        "outputId": "158bf8c5-a778-47bf-b5d0-5e4065884306"
      },
      "source": [
        "df = pd.DataFrame(array)\n",
        "df.shape"
      ],
      "execution_count": 67,
      "outputs": [
        {
          "output_type": "execute_result",
          "data": {
            "text/plain": [
              "(30000, 819)"
            ]
          },
          "metadata": {
            "tags": []
          },
          "execution_count": 67
        }
      ]
    },
    {
      "cell_type": "code",
      "metadata": {
        "id": "BlREBKsitxMi"
      },
      "source": [
        "# pip install tensorflow-gpu\n"
      ],
      "execution_count": 68,
      "outputs": []
    },
    {
      "cell_type": "code",
      "metadata": {
        "id": "pSCCJKkdt4Pj"
      },
      "source": [
        "# pip install kmeanstf\n"
      ],
      "execution_count": 69,
      "outputs": []
    },
    {
      "cell_type": "code",
      "metadata": {
        "colab": {
          "base_uri": "https://localhost:8080/",
          "height": 294
        },
        "id": "Y7nmo9kw_JHr",
        "outputId": "3632da98-b50f-4565-d9b2-ccee2f713c4e"
      },
      "source": [
        "\n",
        "wcss=[]\n",
        "for i in range(2,12):\n",
        "    kmeans=KMeans(n_clusters=i, init='k-means++',random_state=0)\n",
        "    kmeans.fit(data_new)\n",
        "    wcss.append(kmeans.inertia_)\n",
        "\n",
        "plt.plot(range(2,12),wcss)\n",
        "plt.title('The Elbow Method')\n",
        "plt.xlabel('Number of Clusters')\n",
        "plt.ylabel('WCSS')\n",
        "plt.show()"
      ],
      "execution_count": 70,
      "outputs": [
        {
          "output_type": "display_data",
          "data": {
            "image/png": "[encoded data removed]",
            "text/plain": [
              "<Figure size 432x288 with 1 Axes>"
            ]
          },
          "metadata": {
            "tags": [],
            "needs_background": "light"
          }
        }
      ]
    },
    {
      "cell_type": "code",
      "metadata": {
        "colab": {
          "base_uri": "https://localhost:8080/"
        },
        "id": "xklLsENwOnM1",
        "outputId": "fe16f638-78d7-45b6-c03f-009acde2e044"
      },
      "source": [
        "\n",
        "range_n_clusters = [2,3,4,5,6,7,8,10]\n",
        "# data_new = data_new.to_numpy()\n",
        "X = np.array(data_new)\n",
        "# data_new = data_new.iloc[:,:-1].values\n",
        "type(data_new)"
      ],
      "execution_count": 73,
      "outputs": [
        {
          "output_type": "execute_result",
          "data": {
            "text/plain": [
              "numpy.ndarray"
            ]
          },
          "metadata": {
            "tags": []
          },
          "execution_count": 73
        }
      ]
    },
    {
      "cell_type": "code",
      "metadata": {
        "id": "xciL2EOK8ZOV"
      },
      "source": [
        "from sklearn.metrics import silhouette_score, silhouette_samples"
      ],
      "execution_count": 77,
      "outputs": []
    },
    {
      "cell_type": "code",
      "metadata": {
        "colab": {
          "base_uri": "https://localhost:8080/",
          "height": 1000
        },
        "id": "kjt3ZmwMPkqx",
        "outputId": "9e669de2-572f-40a1-c5e0-a8b8b1624789"
      },
      "source": [
        "range_n_clusters = np.arange(2,12)\n",
        "\n",
        "for n_clusters in range_n_clusters:\n",
        "    # Create a subplot with 1 row and 2 columns\n",
        "    fig, (ax) = plt.subplots(1)\n",
        "    fig.set_size_inches(6, 6)\n",
        "\n",
        "    # The 1st subplot is the silhouette plot\n",
        "    # The silhouette coefficient can range from -1, 1 but in this example all\n",
        "    # lie within [-0.1, 1]\n",
        "    ax.set_xlim([-1, 1])\n",
        "    # The (n_clusters+1)*10 is for inserting blank space between silhouette\n",
        "    # plots of individual clusters, to demarcate them clearly.\n",
        "    ax.set_ylim([0, len(X) + (n_clusters + 1) * 10])\n",
        "\n",
        "    # Initialize the clusterer with n_clusters value and\n",
        "    # seed of 10 for reproducibility.\n",
        "    clusterer = KMeans(init = \"k-means++\" , n_clusters=n_clusters, random_state=10)\n",
        "    cluster_labels = clusterer.fit_predict(X)\n",
        "\n",
        "    # The silhouette_score gives the average value for all the samples.\n",
        "    # This gives a perspective into the density and separation of the formed\n",
        "    # clusters\n",
        "    silhouette_avg = silhouette_score(X, cluster_labels)\n",
        "    print(\"For n_clusters =\", n_clusters,\n",
        "          \"The average silhouette_score is :\", silhouette_avg)\n",
        "\n",
        "    # Compute the silhouette scores for each sample\n",
        "    sample_silhouette_values = silhouette_samples(X, cluster_labels)\n",
        "\n",
        "    y_lower = 10\n",
        "    for i in range(n_clusters):\n",
        "        # Aggregate the silhouette scores for samples belonging to\n",
        "        # cluster i, and sort them\n",
        "        ith_cluster_silhouette_values = \\\n",
        "            sample_silhouette_values[cluster_labels == i]\n",
        "\n",
        "        ith_cluster_silhouette_values.sort()\n",
        "\n",
        "        size_cluster_i = ith_cluster_silhouette_values.shape[0]\n",
        "        y_upper = y_lower + size_cluster_i\n",
        "\n",
        "        color = cm.nipy_spectral(float(i) / n_clusters)\n",
        "        ax.fill_betweenx(np.arange(y_lower, y_upper),\n",
        "                          0, ith_cluster_silhouette_values,\n",
        "                          facecolor=color, edgecolor=color, alpha=0.7)\n",
        "\n",
        "        # Label the silhouette plots with their cluster numbers at the middle\n",
        "        ax.text(-0.05, y_lower + 0.5 * size_cluster_i, str(i))\n",
        "\n",
        "        # Compute the new y_lower for next plot\n",
        "        y_lower = y_upper + 10  # 10 for the 0 samples\n",
        "\n",
        "    ax.set_title(\"The silhouette plot for the various clusters.\")\n",
        "    ax.set_xlabel(\"The silhouette coefficient values\")\n",
        "    ax.set_ylabel(\"Cluster label\")\n",
        "\n",
        "    # The vertical line for average silhouette score of all the values\n",
        "    ax.axvline(x=silhouette_avg, color=\"red\", linestyle=\"--\")\n",
        "\n",
        "    ax.set_yticks([])  # Clear the yaxis labels / ticks\n",
        "    ax.set_xticks([-0.6,-0.4,-0.2, 0, 0.2, 0.4, 0.6, 0.8, 1])"
      ],
      "execution_count": 78,
      "outputs": [
        {
          "output_type": "stream",
          "text": [
            "For n_clusters = 2 The average silhouette_score is : 0.32708502\n",
            "For n_clusters = 3 The average silhouette_score is : 0.35209087\n",
            "For n_clusters = 4 The average silhouette_score is : 0.3575621\n",
            "For n_clusters = 5 The average silhouette_score is : 0.38357067\n",
            "For n_clusters = 6 The average silhouette_score is : 0.40779147\n",
            "For n_clusters = 7 The average silhouette_score is : 0.42162058\n",
            "For n_clusters = 8 The average silhouette_score is : 0.40957916\n",
            "For n_clusters = 9 The average silhouette_score is : 0.40585026\n",
            "For n_clusters = 10 The average silhouette_score is : 0.40079337\n",
            "For n_clusters = 11 The average silhouette_score is : 0.4052646\n"
          ],
          "name": "stdout"
        },
        {
          "output_type": "display_data",
          "data": {
            "image/png": "[encoded data removed]",
            "text/plain": [
              "<Figure size 432x432 with 1 Axes>"
            ]
          },
          "metadata": {
            "tags": [],
            "needs_background": "light"
          }
        },
        {
          "output_type": "display_data",
          "data": {
            "image/png": "[encoded data removed]",
            "text/plain": [
              "<Figure size 432x432 with 1 Axes>"
            ]
          },
          "metadata": {
            "tags": [],
            "needs_background": "light"
          }
        },
        {
          "output_type": "display_data",
          "data": {
            "image/png": "[encoded data removed]",
            "text/plain": [
              "<Figure size 432x432 with 1 Axes>"
            ]
          },
          "metadata": {
            "tags": [],
            "needs_background": "light"
          }
        },
        {
          "output_type": "display_data",
          "data": {
            "image/png": "[encoded data removed]",
            "text/plain": [
              "<Figure size 432x432 with 1 Axes>"
            ]
          },
          "metadata": {
            "tags": [],
            "needs_background": "light"
          }
        },
        {
          "output_type": "display_data",
          "data": {
            "image/png": "[encoded data removed]",
            "text/plain": [
              "<Figure size 432x432 with 1 Axes>"
            ]
          },
          "metadata": {
            "tags": [],
            "needs_background": "light"
          }
        },
        {
          "output_type": "display_data",
          "data": {
            "image/png": "[encoded data removed]",
            "text/plain": [
              "<Figure size 432x432 with 1 Axes>"
            ]
          },
          "metadata": {
            "tags": [],
            "needs_background": "light"
          }
        },
        {
          "output_type": "display_data",
          "data": {
            "image/png": "[encoded data removed]",
            "text/plain": [
              "<Figure size 432x432 with 1 Axes>"
            ]
          },
          "metadata": {
            "tags": [],
            "needs_background": "light"
          }
        },
        {
          "output_type": "display_data",
          "data": {
            "image/png": "[encoded data removed]",
            "text/plain": [
              "<Figure size 432x432 with 1 Axes>"
            ]
          },
          "metadata": {
            "tags": [],
            "needs_background": "light"
          }
        },
        {
          "output_type": "display_data",
          "data": {
            "image/png": "[encoded data removed]",
            "text/plain": [
              "<Figure size 432x432 with 1 Axes>"
            ]
          },
          "metadata": {
            "tags": [],
            "needs_background": "light"
          }
        },
        {
          "output_type": "display_data",
          "data": {
            "image/png": "[encoded data removed]",
            "text/plain": [
              "<Figure size 432x432 with 1 Axes>"
            ]
          },
          "metadata": {
            "tags": [],
            "needs_background": "light"
          }
        }
      ]
    },
    {
      "cell_type": "code",
      "metadata": {
        "colab": {
          "base_uri": "https://localhost:8080/"
        },
        "id": "7o3lxVkOSqPC",
        "outputId": "af8872f5-53b8-48e9-da3e-e78bffc14a8e"
      },
      "source": [
        "!apt install wordcloud"
      ],
      "execution_count": 79,
      "outputs": [
        {
          "output_type": "stream",
          "text": [
            "Reading package lists... Done\n",
            "Building dependency tree       \n",
            "Reading state information... Done\n",
            "E: Unable to locate package wordcloud\n"
          ],
          "name": "stdout"
        }
      ]
    },
    {
      "cell_type": "code",
      "metadata": {
        "id": "E6hG-7us9vrg"
      },
      "source": [
        "from wordcloud import WordCloud"
      ],
      "execution_count": 80,
      "outputs": []
    },
    {
      "cell_type": "code",
      "metadata": {
        "colab": {
          "base_uri": "https://localhost:8080/"
        },
        "id": "ORbTLTRh9zA-",
        "outputId": "9107da60-32d0-415f-b3db-3f2c2e6eef67"
      },
      "source": [
        "tfid_vectorizer.get_feature_names()"
      ],
      "execution_count": 82,
      "outputs": [
        {
          "output_type": "execute_result",
          "data": {
            "text/plain": [
              "['ability',\n",
              " 'able',\n",
              " 'accept',\n",
              " 'access',\n",
              " 'accessibility',\n",
              " 'account',\n",
              " 'achieve',\n",
              " 'across',\n",
              " 'act',\n",
              " 'action',\n",
              " 'activity',\n",
              " 'add',\n",
              " 'addition',\n",
              " 'additional',\n",
              " 'address',\n",
              " 'advance',\n",
              " 'advantage',\n",
              " 'advice',\n",
              " 'advisor',\n",
              " 'affordable',\n",
              " 'age',\n",
              " 'agency',\n",
              " 'agent',\n",
              " 'air',\n",
              " 'allow',\n",
              " 'along',\n",
              " 'also',\n",
              " 'always',\n",
              " 'american',\n",
              " 'amount',\n",
              " 'analysis',\n",
              " 'animal',\n",
              " 'annual',\n",
              " 'another',\n",
              " 'answer',\n",
              " 'anyone',\n",
              " 'application',\n",
              " 'apply',\n",
              " 'appointment',\n",
              " 'approach',\n",
              " 'area',\n",
              " 'around',\n",
              " 'article',\n",
              " 'ask',\n",
              " 'aspect',\n",
              " 'assessment',\n",
              " 'asset',\n",
              " 'assist',\n",
              " 'assistance',\n",
              " 'associate',\n",
              " 'association',\n",
              " 'attention',\n",
              " 'attorney',\n",
              " 'auto',\n",
              " 'available',\n",
              " 'ave',\n",
              " 'avenue',\n",
              " 'award',\n",
              " 'away',\n",
              " 'back',\n",
              " 'bank',\n",
              " 'base',\n",
              " 'become',\n",
              " 'begin',\n",
              " 'believe',\n",
              " 'benefit',\n",
              " 'best',\n",
              " 'beyond',\n",
              " 'big',\n",
              " 'bill',\n",
              " 'blog',\n",
              " 'board',\n",
              " 'book',\n",
              " 'box',\n",
              " 'brand',\n",
              " 'bring',\n",
              " 'broker',\n",
              " 'budget',\n",
              " 'build',\n",
              " 'building',\n",
              " 'business',\n",
              " 'buy',\n",
              " 'ca',\n",
              " 'calculator',\n",
              " 'california',\n",
              " 'call',\n",
              " 'can',\n",
              " 'capability',\n",
              " 'capital',\n",
              " 'car',\n",
              " 'card',\n",
              " 'care',\n",
              " 'career',\n",
              " 'carry',\n",
              " 'case',\n",
              " 'cash',\n",
              " 'cause',\n",
              " 'center',\n",
              " 'central',\n",
              " 'centre',\n",
              " 'certification',\n",
              " 'certify',\n",
              " 'challenge',\n",
              " 'change',\n",
              " 'charge',\n",
              " 'check',\n",
              " 'child',\n",
              " 'choice',\n",
              " 'choose',\n",
              " 'city',\n",
              " 'claim',\n",
              " 'class',\n",
              " 'clean',\n",
              " 'clear',\n",
              " 'click',\n",
              " 'client',\n",
              " 'clinic',\n",
              " 'clinical',\n",
              " 'close',\n",
              " 'co',\n",
              " 'code',\n",
              " 'combine',\n",
              " 'come',\n",
              " 'comfortable',\n",
              " 'comment',\n",
              " 'commercial',\n",
              " 'commit',\n",
              " 'commitment',\n",
              " 'common',\n",
              " 'communication',\n",
              " 'community',\n",
              " 'company',\n",
              " 'competitive',\n",
              " 'complete',\n",
              " 'complex',\n",
              " 'compliance',\n",
              " 'comprehensive',\n",
              " 'concern',\n",
              " 'condition',\n",
              " 'conduct',\n",
              " 'connect',\n",
              " 'consider',\n",
              " 'construction',\n",
              " 'consult',\n",
              " 'consultant',\n",
              " 'consultation',\n",
              " 'consumer',\n",
              " 'contain',\n",
              " 'content',\n",
              " 'continue',\n",
              " 'contract',\n",
              " 'contractor',\n",
              " 'control',\n",
              " 'cookie',\n",
              " 'cooky',\n",
              " 'copyright',\n",
              " 'core',\n",
              " 'corporate',\n",
              " 'corporation',\n",
              " 'cost',\n",
              " 'could',\n",
              " 'country',\n",
              " 'county',\n",
              " 'course',\n",
              " 'cover',\n",
              " 'coverage',\n",
              " 'create',\n",
              " 'credit',\n",
              " 'critical',\n",
              " 'current',\n",
              " 'currently',\n",
              " 'custom',\n",
              " 'customer',\n",
              " 'cut',\n",
              " 'data',\n",
              " 'date',\n",
              " 'day',\n",
              " 'deal',\n",
              " 'decade',\n",
              " 'decision',\n",
              " 'dedicate',\n",
              " 'deliver',\n",
              " 'delivery',\n",
              " 'dental',\n",
              " 'department',\n",
              " 'deserve',\n",
              " 'design',\n",
              " 'detail',\n",
              " 'develop',\n",
              " 'development',\n",
              " 'difference',\n",
              " 'different',\n",
              " 'digital',\n",
              " 'direct',\n",
              " 'direction',\n",
              " 'directly',\n",
              " 'director',\n",
              " 'disclaimer',\n",
              " 'discover',\n",
              " 'disease',\n",
              " 'do',\n",
              " 'doctor',\n",
              " 'document',\n",
              " 'don',\n",
              " 'dont',\n",
              " 'door',\n",
              " 'download',\n",
              " 'dr',\n",
              " 'drive',\n",
              " 'due',\n",
              " 'earn',\n",
              " 'east',\n",
              " 'easy',\n",
              " 'education',\n",
              " 'effective',\n",
              " 'efficiency',\n",
              " 'efficient',\n",
              " 'effort',\n",
              " 'electric',\n",
              " 'electrical',\n",
              " 'email',\n",
              " 'emergency',\n",
              " 'employee',\n",
              " 'employment',\n",
              " 'enable',\n",
              " 'end',\n",
              " 'energy',\n",
              " 'engineer',\n",
              " 'engineering',\n",
              " 'enhance',\n",
              " 'enjoy',\n",
              " 'enough',\n",
              " 'ensure',\n",
              " 'enter',\n",
              " 'entire',\n",
              " 'environment',\n",
              " 'environmental',\n",
              " 'equipment',\n",
              " 'establish',\n",
              " 'estate',\n",
              " 'estimate',\n",
              " 'even',\n",
              " 'event',\n",
              " 'ever',\n",
              " 'every',\n",
              " 'everyone',\n",
              " 'everything',\n",
              " 'excellence',\n",
              " 'excellent',\n",
              " 'exceptional',\n",
              " 'executive',\n",
              " 'exist',\n",
              " 'expand',\n",
              " 'expect',\n",
              " 'expectation',\n",
              " 'experience',\n",
              " 'experienced',\n",
              " 'expert',\n",
              " 'expertise',\n",
              " 'explain',\n",
              " 'explore',\n",
              " 'extensive',\n",
              " 'extremely',\n",
              " 'face',\n",
              " 'facebook',\n",
              " 'facility',\n",
              " 'fact',\n",
              " 'family',\n",
              " 'faq',\n",
              " 'faqs',\n",
              " 'fast',\n",
              " 'fax',\n",
              " 'feature',\n",
              " 'february',\n",
              " 'fee',\n",
              " 'feel',\n",
              " 'field',\n",
              " 'file',\n",
              " 'fill',\n",
              " 'finance',\n",
              " 'financial',\n",
              " 'find',\n",
              " 'finish',\n",
              " 'fire',\n",
              " 'firm',\n",
              " 'first',\n",
              " 'fit',\n",
              " 'fix',\n",
              " 'flexible',\n",
              " 'floor',\n",
              " 'focus',\n",
              " 'follow',\n",
              " 'food',\n",
              " 'form',\n",
              " 'forward',\n",
              " 'found',\n",
              " 'foundation',\n",
              " 'free',\n",
              " 'friday',\n",
              " 'friend',\n",
              " 'friendly',\n",
              " 'full',\n",
              " 'fully',\n",
              " 'fund',\n",
              " 'future',\n",
              " 'gallery',\n",
              " 'gas',\n",
              " 'general',\n",
              " 'generation',\n",
              " 'get',\n",
              " 'give',\n",
              " 'global',\n",
              " 'go',\n",
              " 'goal',\n",
              " 'good',\n",
              " 'google',\n",
              " 'government',\n",
              " 'great',\n",
              " 'green',\n",
              " 'group',\n",
              " 'grow',\n",
              " 'growth',\n",
              " 'guarantee',\n",
              " 'guide',\n",
              " 'hand',\n",
              " 'handle',\n",
              " 'happen',\n",
              " 'happy',\n",
              " 'hard',\n",
              " 'head',\n",
              " 'health',\n",
              " 'healthcare',\n",
              " 'healthy',\n",
              " 'hear',\n",
              " 'heart',\n",
              " 'heat',\n",
              " 'help',\n",
              " 'helpful',\n",
              " 'high',\n",
              " 'highly',\n",
              " 'hire',\n",
              " 'history',\n",
              " 'hold',\n",
              " 'home',\n",
              " 'homeowner',\n",
              " 'hospital',\n",
              " 'hour',\n",
              " 'house',\n",
              " 'human',\n",
              " 'image',\n",
              " 'impact',\n",
              " 'important',\n",
              " 'improve',\n",
              " 'inc',\n",
              " 'include',\n",
              " 'income',\n",
              " 'increase',\n",
              " 'independent',\n",
              " 'individual',\n",
              " 'industrial',\n",
              " 'industry',\n",
              " 'info',\n",
              " 'information',\n",
              " 'injury',\n",
              " 'innovation',\n",
              " 'innovative',\n",
              " 'insight',\n",
              " 'instagram',\n",
              " 'installation',\n",
              " 'insurance',\n",
              " 'integrity',\n",
              " 'interest',\n",
              " 'international',\n",
              " 'invest',\n",
              " 'investment',\n",
              " 'investor',\n",
              " 'involve',\n",
              " 'issue',\n",
              " 'it',\n",
              " 'item',\n",
              " 'january',\n",
              " 'job',\n",
              " 'join',\n",
              " 'keep',\n",
              " 'key',\n",
              " 'kind',\n",
              " 'know',\n",
              " 'knowledge',\n",
              " 'knowledgeable',\n",
              " 'large',\n",
              " 'last',\n",
              " 'late',\n",
              " 'law',\n",
              " 'lead',\n",
              " 'leader',\n",
              " 'leadership',\n",
              " 'learn',\n",
              " 'leave',\n",
              " 'legal',\n",
              " 'less',\n",
              " 'let',\n",
              " 'level',\n",
              " 'liability',\n",
              " 'license',\n",
              " 'life',\n",
              " 'light',\n",
              " 'like',\n",
              " 'limit',\n",
              " 'line',\n",
              " 'link',\n",
              " 'linkedin',\n",
              " 'list',\n",
              " 'little',\n",
              " 'live',\n",
              " 'll',\n",
              " 'llc',\n",
              " 'loan',\n",
              " 'local',\n",
              " 'locate',\n",
              " 'location',\n",
              " 'log',\n",
              " 'login',\n",
              " 'long',\n",
              " 'longterm',\n",
              " 'look',\n",
              " 'loss',\n",
              " 'lot',\n",
              " 'love',\n",
              " 'low',\n",
              " 'ltd',\n",
              " 'main',\n",
              " 'maintain',\n",
              " 'maintenance',\n",
              " 'major',\n",
              " 'make',\n",
              " 'manage',\n",
              " 'management',\n",
              " 'manager',\n",
              " 'manufacture',\n",
              " 'manufacturer',\n",
              " 'many',\n",
              " 'map',\n",
              " 'market',\n",
              " 'marketing',\n",
              " 'material',\n",
              " 'matter',\n",
              " 'may',\n",
              " 'mean',\n",
              " 'medical',\n",
              " 'medicine',\n",
              " 'medium',\n",
              " 'meet',\n",
              " 'meeting',\n",
              " 'member',\n",
              " 'menu',\n",
              " 'message',\n",
              " 'metal',\n",
              " 'million',\n",
              " 'mind',\n",
              " 'minute',\n",
              " 'mission',\n",
              " 'mobile',\n",
              " 'modern',\n",
              " 'monday',\n",
              " 'money',\n",
              " 'monitor',\n",
              " 'month',\n",
              " 'monthly',\n",
              " 'mortgage',\n",
              " 'move',\n",
              " 'much',\n",
              " 'multiple',\n",
              " 'must',\n",
              " 'name',\n",
              " 'national',\n",
              " 'natural',\n",
              " 'navigation',\n",
              " 'necessary',\n",
              " 'need',\n",
              " 'network',\n",
              " 'never',\n",
              " 'new',\n",
              " 'news',\n",
              " 'newsletter',\n",
              " 'next',\n",
              " 'north',\n",
              " 'notice',\n",
              " 'number',\n",
              " 'offer',\n",
              " 'offering',\n",
              " 'office',\n",
              " 'often',\n",
              " 'oil',\n",
              " 'old',\n",
              " 'one',\n",
              " 'online',\n",
              " 'open',\n",
              " 'operate',\n",
              " 'operation',\n",
              " 'opportunity',\n",
              " 'option',\n",
              " 'order',\n",
              " 'organization',\n",
              " 'others',\n",
              " 'outstanding',\n",
              " 'overview',\n",
              " 'own',\n",
              " 'owner',\n",
              " 'package',\n",
              " 'page',\n",
              " 'panel',\n",
              " 'park',\n",
              " 'part',\n",
              " 'partner',\n",
              " 'partnership',\n",
              " 'party',\n",
              " 'past',\n",
              " 'patient',\n",
              " 'pay',\n",
              " 'payment',\n",
              " 'peace',\n",
              " 'people',\n",
              " 'per',\n",
              " 'perfect',\n",
              " 'perform',\n",
              " 'performance',\n",
              " 'person',\n",
              " 'personal',\n",
              " 'pet',\n",
              " 'phone',\n",
              " 'physical',\n",
              " 'physician',\n",
              " 'place',\n",
              " 'plan',\n",
              " 'planning',\n",
              " 'please',\n",
              " 'pm',\n",
              " 'point',\n",
              " 'policy',\n",
              " 'portal',\n",
              " 'portfolio',\n",
              " 'possible',\n",
              " 'post',\n",
              " 'potential',\n",
              " 'power',\n",
              " 'practice',\n",
              " 'prepare',\n",
              " 'present',\n",
              " 'press',\n",
              " 'previous',\n",
              " 'price',\n",
              " 'pricing',\n",
              " 'pride',\n",
              " 'primary',\n",
              " 'priority',\n",
              " 'privacy',\n",
              " 'private',\n",
              " 'problem',\n",
              " 'procedure',\n",
              " 'process',\n",
              " 'produce',\n",
              " 'product',\n",
              " 'production',\n",
              " 'professional',\n",
              " 'profile',\n",
              " 'program',\n",
              " 'project',\n",
              " 'property',\n",
              " 'protect',\n",
              " 'protection',\n",
              " 'proud',\n",
              " 'proudly',\n",
              " 'provide',\n",
              " 'provider',\n",
              " 'public',\n",
              " 'purchase',\n",
              " 'purpose',\n",
              " 'put',\n",
              " 'qualify',\n",
              " 'quality',\n",
              " 'question',\n",
              " 'quick',\n",
              " 'quickly',\n",
              " 'quote',\n",
              " 'range',\n",
              " 'rate',\n",
              " 'rd',\n",
              " 're',\n",
              " 'reach',\n",
              " 'read',\n",
              " 'ready',\n",
              " 'real',\n",
              " 'really',\n",
              " 'reason',\n",
              " 'receive',\n",
              " 'recent',\n",
              " 'recently',\n",
              " 'recognize',\n",
              " 'recommend',\n",
              " 'record',\n",
              " 'reduce',\n",
              " 'refer',\n",
              " 'regard',\n",
              " 'register',\n",
              " 'registration',\n",
              " 'relationship',\n",
              " 'release',\n",
              " 'reliable',\n",
              " 'repair',\n",
              " 'report',\n",
              " 'represent',\n",
              " 'reputation',\n",
              " 'request',\n",
              " 'require',\n",
              " 'requirement',\n",
              " 'research',\n",
              " 'reserve',\n",
              " 'residential',\n",
              " 'resource',\n",
              " 'respect',\n",
              " 'response',\n",
              " 'responsibility',\n",
              " 'result',\n",
              " 'retail',\n",
              " 'retirement',\n",
              " 'return',\n",
              " 'review',\n",
              " 'right',\n",
              " 'risk',\n",
              " 'road',\n",
              " 'room',\n",
              " 'run',\n",
              " 'safe',\n",
              " 'safety',\n",
              " 'sale',\n",
              " 'satisfaction',\n",
              " 'saturday',\n",
              " 'save',\n",
              " 'saving',\n",
              " 'say',\n",
              " 'schedule',\n",
              " 'school',\n",
              " 'search',\n",
              " 'second',\n",
              " 'sector',\n",
              " 'secure',\n",
              " 'security',\n",
              " 'see',\n",
              " 'seek',\n",
              " 'select',\n",
              " 'sell',\n",
              " 'send',\n",
              " 'senior',\n",
              " 'serve',\n",
              " 'service',\n",
              " 'set',\n",
              " 'several',\n",
              " 'share',\n",
              " 'shop',\n",
              " 'short',\n",
              " 'show',\n",
              " 'sign',\n",
              " 'simple',\n",
              " 'simply',\n",
              " 'since',\n",
              " 'single',\n",
              " 'sit',\n",
              " 'site',\n",
              " 'sitemap',\n",
              " 'situation',\n",
              " 'size',\n",
              " 'skill',\n",
              " 'skilled',\n",
              " 'skip',\n",
              " 'small',\n",
              " 'smart',\n",
              " 'social',\n",
              " 'solar',\n",
              " 'solution',\n",
              " 'something',\n",
              " 'soon',\n",
              " 'source',\n",
              " 'south',\n",
              " 'space',\n",
              " 'speak',\n",
              " 'special',\n",
              " 'specialist',\n",
              " 'specialize',\n",
              " 'specialty',\n",
              " 'specific',\n",
              " 'st',\n",
              " 'staff',\n",
              " 'stand',\n",
              " 'standard',\n",
              " 'start',\n",
              " 'state',\n",
              " 'statement',\n",
              " 'stay',\n",
              " 'step',\n",
              " 'still',\n",
              " 'stock',\n",
              " 'stop',\n",
              " 'storage',\n",
              " 'store',\n",
              " 'story',\n",
              " 'strategy',\n",
              " 'street',\n",
              " 'strive',\n",
              " 'strong',\n",
              " 'structure',\n",
              " 'study',\n",
              " 'subject',\n",
              " 'submit',\n",
              " 'subscribe',\n",
              " 'success',\n",
              " 'successful',\n",
              " 'suit',\n",
              " 'suite',\n",
              " 'sunday',\n",
              " 'superior',\n",
              " 'supplier',\n",
              " 'supply',\n",
              " 'support',\n",
              " 'sure',\n",
              " 'surgery',\n",
              " 'surgical',\n",
              " 'surround',\n",
              " 'system',\n",
              " 'tailor',\n",
              " 'take',\n",
              " 'talk',\n",
              " 'tax',\n",
              " 'team',\n",
              " 'technical',\n",
              " 'technology',\n",
              " 'tel',\n",
              " 'tell',\n",
              " 'term',\n",
              " 'test',\n",
              " 'testimonial',\n",
              " 'texas',\n",
              " 'th',\n",
              " 'thank',\n",
              " 'thanks',\n",
              " 'therapy',\n",
              " 'thing',\n",
              " 'think',\n",
              " 'three',\n",
              " 'throughout',\n",
              " 'time',\n",
              " 'tip',\n",
              " 'today',\n",
              " 'together',\n",
              " 'toggle',\n",
              " 'tool',\n",
              " 'top',\n",
              " 'total',\n",
              " 'touch',\n",
              " 'track',\n",
              " 'trade',\n",
              " 'train',\n",
              " 'training',\n",
              " 'travel',\n",
              " 'treat',\n",
              " 'treatment',\n",
              " 'trust',\n",
              " 'try',\n",
              " 'turn',\n",
              " 'twitter',\n",
              " 'two',\n",
              " 'type',\n",
              " 'uk',\n",
              " 'understand',\n",
              " 'unique',\n",
              " 'unit',\n",
              " 'united',\n",
              " 'university',\n",
              " 'update',\n",
              " 'use',\n",
              " 'user',\n",
              " 'value',\n",
              " 'variety',\n",
              " 'various',\n",
              " 've',\n",
              " 'vehicle',\n",
              " 'veterinary',\n",
              " 'via',\n",
              " 'video',\n",
              " 'view',\n",
              " 'vision',\n",
              " 'visit',\n",
              " 'wait',\n",
              " 'want',\n",
              " 'watch',\n",
              " 'water',\n",
              " 'way',\n",
              " 'we',\n",
              " 'wealth',\n",
              " 'web',\n",
              " 'website',\n",
              " 'week',\n",
              " 'welcome',\n",
              " 'well',\n",
              " 'west',\n",
              " 'whether',\n",
              " 'whole',\n",
              " 'wide',\n",
              " 'win',\n",
              " 'within',\n",
              " 'without',\n",
              " 'work',\n",
              " 'worker',\n",
              " 'world',\n",
              " 'would',\n",
              " 'write',\n",
              " 'year',\n",
              " 'york',\n",
              " 'you',\n",
              " 'youre']"
            ]
          },
          "metadata": {
            "tags": []
          },
          "execution_count": 82
        }
      ]
    },
    {
      "cell_type": "code",
      "metadata": {
        "colab": {
          "base_uri": "https://localhost:8080/"
        },
        "id": "wOTI470K95wE",
        "outputId": "60cd9ec7-869d-4680-e824-db47d40d6fb7"
      },
      "source": [
        "tfid_vectorizer.vocabulary_"
      ],
      "execution_count": 83,
      "outputs": [
        {
          "output_type": "execute_result",
          "data": {
            "text/plain": [
              "{'ability': 0,\n",
              " 'able': 1,\n",
              " 'accept': 2,\n",
              " 'access': 3,\n",
              " 'accessibility': 4,\n",
              " 'account': 5,\n",
              " 'achieve': 6,\n",
              " 'across': 7,\n",
              " 'act': 8,\n",
              " 'action': 9,\n",
              " 'activity': 10,\n",
              " 'add': 11,\n",
              " 'addition': 12,\n",
              " 'additional': 13,\n",
              " 'address': 14,\n",
              " 'advance': 15,\n",
              " 'advantage': 16,\n",
              " 'advice': 17,\n",
              " 'advisor': 18,\n",
              " 'affordable': 19,\n",
              " 'age': 20,\n",
              " 'agency': 21,\n",
              " 'agent': 22,\n",
              " 'air': 23,\n",
              " 'allow': 24,\n",
              " 'along': 25,\n",
              " 'also': 26,\n",
              " 'always': 27,\n",
              " 'american': 28,\n",
              " 'amount': 29,\n",
              " 'analysis': 30,\n",
              " 'animal': 31,\n",
              " 'annual': 32,\n",
              " 'another': 33,\n",
              " 'answer': 34,\n",
              " 'anyone': 35,\n",
              " 'application': 36,\n",
              " 'apply': 37,\n",
              " 'appointment': 38,\n",
              " 'approach': 39,\n",
              " 'area': 40,\n",
              " 'around': 41,\n",
              " 'article': 42,\n",
              " 'ask': 43,\n",
              " 'aspect': 44,\n",
              " 'assessment': 45,\n",
              " 'asset': 46,\n",
              " 'assist': 47,\n",
              " 'assistance': 48,\n",
              " 'associate': 49,\n",
              " 'association': 50,\n",
              " 'attention': 51,\n",
              " 'attorney': 52,\n",
              " 'auto': 53,\n",
              " 'available': 54,\n",
              " 'ave': 55,\n",
              " 'avenue': 56,\n",
              " 'award': 57,\n",
              " 'away': 58,\n",
              " 'back': 59,\n",
              " 'bank': 60,\n",
              " 'base': 61,\n",
              " 'become': 62,\n",
              " 'begin': 63,\n",
              " 'believe': 64,\n",
              " 'benefit': 65,\n",
              " 'best': 66,\n",
              " 'beyond': 67,\n",
              " 'big': 68,\n",
              " 'bill': 69,\n",
              " 'blog': 70,\n",
              " 'board': 71,\n",
              " 'book': 72,\n",
              " 'box': 73,\n",
              " 'brand': 74,\n",
              " 'bring': 75,\n",
              " 'broker': 76,\n",
              " 'budget': 77,\n",
              " 'build': 78,\n",
              " 'building': 79,\n",
              " 'business': 80,\n",
              " 'buy': 81,\n",
              " 'ca': 82,\n",
              " 'calculator': 83,\n",
              " 'california': 84,\n",
              " 'call': 85,\n",
              " 'can': 86,\n",
              " 'capability': 87,\n",
              " 'capital': 88,\n",
              " 'car': 89,\n",
              " 'card': 90,\n",
              " 'care': 91,\n",
              " 'career': 92,\n",
              " 'carry': 93,\n",
              " 'case': 94,\n",
              " 'cash': 95,\n",
              " 'cause': 96,\n",
              " 'center': 97,\n",
              " 'central': 98,\n",
              " 'centre': 99,\n",
              " 'certification': 100,\n",
              " 'certify': 101,\n",
              " 'challenge': 102,\n",
              " 'change': 103,\n",
              " 'charge': 104,\n",
              " 'check': 105,\n",
              " 'child': 106,\n",
              " 'choice': 107,\n",
              " 'choose': 108,\n",
              " 'city': 109,\n",
              " 'claim': 110,\n",
              " 'class': 111,\n",
              " 'clean': 112,\n",
              " 'clear': 113,\n",
              " 'click': 114,\n",
              " 'client': 115,\n",
              " 'clinic': 116,\n",
              " 'clinical': 117,\n",
              " 'close': 118,\n",
              " 'co': 119,\n",
              " 'code': 120,\n",
              " 'combine': 121,\n",
              " 'come': 122,\n",
              " 'comfortable': 123,\n",
              " 'comment': 124,\n",
              " 'commercial': 125,\n",
              " 'commit': 126,\n",
              " 'commitment': 127,\n",
              " 'common': 128,\n",
              " 'communication': 129,\n",
              " 'community': 130,\n",
              " 'company': 131,\n",
              " 'competitive': 132,\n",
              " 'complete': 133,\n",
              " 'complex': 134,\n",
              " 'compliance': 135,\n",
              " 'comprehensive': 136,\n",
              " 'concern': 137,\n",
              " 'condition': 138,\n",
              " 'conduct': 139,\n",
              " 'connect': 140,\n",
              " 'consider': 141,\n",
              " 'construction': 142,\n",
              " 'consult': 143,\n",
              " 'consultant': 144,\n",
              " 'consultation': 145,\n",
              " 'consumer': 146,\n",
              " 'contain': 147,\n",
              " 'content': 148,\n",
              " 'continue': 149,\n",
              " 'contract': 150,\n",
              " 'contractor': 151,\n",
              " 'control': 152,\n",
              " 'cookie': 153,\n",
              " 'cooky': 154,\n",
              " 'copyright': 155,\n",
              " 'core': 156,\n",
              " 'corporate': 157,\n",
              " 'corporation': 158,\n",
              " 'cost': 159,\n",
              " 'could': 160,\n",
              " 'country': 161,\n",
              " 'county': 162,\n",
              " 'course': 163,\n",
              " 'cover': 164,\n",
              " 'coverage': 165,\n",
              " 'create': 166,\n",
              " 'credit': 167,\n",
              " 'critical': 168,\n",
              " 'current': 169,\n",
              " 'currently': 170,\n",
              " 'custom': 171,\n",
              " 'customer': 172,\n",
              " 'cut': 173,\n",
              " 'data': 174,\n",
              " 'date': 175,\n",
              " 'day': 176,\n",
              " 'deal': 177,\n",
              " 'decade': 178,\n",
              " 'decision': 179,\n",
              " 'dedicate': 180,\n",
              " 'deliver': 181,\n",
              " 'delivery': 182,\n",
              " 'dental': 183,\n",
              " 'department': 184,\n",
              " 'deserve': 185,\n",
              " 'design': 186,\n",
              " 'detail': 187,\n",
              " 'develop': 188,\n",
              " 'development': 189,\n",
              " 'difference': 190,\n",
              " 'different': 191,\n",
              " 'digital': 192,\n",
              " 'direct': 193,\n",
              " 'direction': 194,\n",
              " 'directly': 195,\n",
              " 'director': 196,\n",
              " 'disclaimer': 197,\n",
              " 'discover': 198,\n",
              " 'disease': 199,\n",
              " 'do': 200,\n",
              " 'doctor': 201,\n",
              " 'document': 202,\n",
              " 'don': 203,\n",
              " 'dont': 204,\n",
              " 'door': 205,\n",
              " 'download': 206,\n",
              " 'dr': 207,\n",
              " 'drive': 208,\n",
              " 'due': 209,\n",
              " 'earn': 210,\n",
              " 'east': 211,\n",
              " 'easy': 212,\n",
              " 'education': 213,\n",
              " 'effective': 214,\n",
              " 'efficiency': 215,\n",
              " 'efficient': 216,\n",
              " 'effort': 217,\n",
              " 'electric': 218,\n",
              " 'electrical': 219,\n",
              " 'email': 220,\n",
              " 'emergency': 221,\n",
              " 'employee': 222,\n",
              " 'employment': 223,\n",
              " 'enable': 224,\n",
              " 'end': 225,\n",
              " 'energy': 226,\n",
              " 'engineer': 227,\n",
              " 'engineering': 228,\n",
              " 'enhance': 229,\n",
              " 'enjoy': 230,\n",
              " 'enough': 231,\n",
              " 'ensure': 232,\n",
              " 'enter': 233,\n",
              " 'entire': 234,\n",
              " 'environment': 235,\n",
              " 'environmental': 236,\n",
              " 'equipment': 237,\n",
              " 'establish': 238,\n",
              " 'estate': 239,\n",
              " 'estimate': 240,\n",
              " 'even': 241,\n",
              " 'event': 242,\n",
              " 'ever': 243,\n",
              " 'every': 244,\n",
              " 'everyone': 245,\n",
              " 'everything': 246,\n",
              " 'excellence': 247,\n",
              " 'excellent': 248,\n",
              " 'exceptional': 249,\n",
              " 'executive': 250,\n",
              " 'exist': 251,\n",
              " 'expand': 252,\n",
              " 'expect': 253,\n",
              " 'expectation': 254,\n",
              " 'experience': 255,\n",
              " 'experienced': 256,\n",
              " 'expert': 257,\n",
              " 'expertise': 258,\n",
              " 'explain': 259,\n",
              " 'explore': 260,\n",
              " 'extensive': 261,\n",
              " 'extremely': 262,\n",
              " 'face': 263,\n",
              " 'facebook': 264,\n",
              " 'facility': 265,\n",
              " 'fact': 266,\n",
              " 'family': 267,\n",
              " 'faq': 268,\n",
              " 'faqs': 269,\n",
              " 'fast': 270,\n",
              " 'fax': 271,\n",
              " 'feature': 272,\n",
              " 'february': 273,\n",
              " 'fee': 274,\n",
              " 'feel': 275,\n",
              " 'field': 276,\n",
              " 'file': 277,\n",
              " 'fill': 278,\n",
              " 'finance': 279,\n",
              " 'financial': 280,\n",
              " 'find': 281,\n",
              " 'finish': 282,\n",
              " 'fire': 283,\n",
              " 'firm': 284,\n",
              " 'first': 285,\n",
              " 'fit': 286,\n",
              " 'fix': 287,\n",
              " 'flexible': 288,\n",
              " 'floor': 289,\n",
              " 'focus': 290,\n",
              " 'follow': 291,\n",
              " 'food': 292,\n",
              " 'form': 293,\n",
              " 'forward': 294,\n",
              " 'found': 295,\n",
              " 'foundation': 296,\n",
              " 'free': 297,\n",
              " 'friday': 298,\n",
              " 'friend': 299,\n",
              " 'friendly': 300,\n",
              " 'full': 301,\n",
              " 'fully': 302,\n",
              " 'fund': 303,\n",
              " 'future': 304,\n",
              " 'gallery': 305,\n",
              " 'gas': 306,\n",
              " 'general': 307,\n",
              " 'generation': 308,\n",
              " 'get': 309,\n",
              " 'give': 310,\n",
              " 'global': 311,\n",
              " 'go': 312,\n",
              " 'goal': 313,\n",
              " 'good': 314,\n",
              " 'google': 315,\n",
              " 'government': 316,\n",
              " 'great': 317,\n",
              " 'green': 318,\n",
              " 'group': 319,\n",
              " 'grow': 320,\n",
              " 'growth': 321,\n",
              " 'guarantee': 322,\n",
              " 'guide': 323,\n",
              " 'hand': 324,\n",
              " 'handle': 325,\n",
              " 'happen': 326,\n",
              " 'happy': 327,\n",
              " 'hard': 328,\n",
              " 'head': 329,\n",
              " 'health': 330,\n",
              " 'healthcare': 331,\n",
              " 'healthy': 332,\n",
              " 'hear': 333,\n",
              " 'heart': 334,\n",
              " 'heat': 335,\n",
              " 'help': 336,\n",
              " 'helpful': 337,\n",
              " 'high': 338,\n",
              " 'highly': 339,\n",
              " 'hire': 340,\n",
              " 'history': 341,\n",
              " 'hold': 342,\n",
              " 'home': 343,\n",
              " 'homeowner': 344,\n",
              " 'hospital': 345,\n",
              " 'hour': 346,\n",
              " 'house': 347,\n",
              " 'human': 348,\n",
              " 'image': 349,\n",
              " 'impact': 350,\n",
              " 'important': 351,\n",
              " 'improve': 352,\n",
              " 'inc': 353,\n",
              " 'include': 354,\n",
              " 'income': 355,\n",
              " 'increase': 356,\n",
              " 'independent': 357,\n",
              " 'individual': 358,\n",
              " 'industrial': 359,\n",
              " 'industry': 360,\n",
              " 'info': 361,\n",
              " 'information': 362,\n",
              " 'injury': 363,\n",
              " 'innovation': 364,\n",
              " 'innovative': 365,\n",
              " 'insight': 366,\n",
              " 'instagram': 367,\n",
              " 'installation': 368,\n",
              " 'insurance': 369,\n",
              " 'integrity': 370,\n",
              " 'interest': 371,\n",
              " 'international': 372,\n",
              " 'invest': 373,\n",
              " 'investment': 374,\n",
              " 'investor': 375,\n",
              " 'involve': 376,\n",
              " 'issue': 377,\n",
              " 'it': 378,\n",
              " 'item': 379,\n",
              " 'january': 380,\n",
              " 'job': 381,\n",
              " 'join': 382,\n",
              " 'keep': 383,\n",
              " 'key': 384,\n",
              " 'kind': 385,\n",
              " 'know': 386,\n",
              " 'knowledge': 387,\n",
              " 'knowledgeable': 388,\n",
              " 'large': 389,\n",
              " 'last': 390,\n",
              " 'late': 391,\n",
              " 'law': 392,\n",
              " 'lead': 393,\n",
              " 'leader': 394,\n",
              " 'leadership': 395,\n",
              " 'learn': 396,\n",
              " 'leave': 397,\n",
              " 'legal': 398,\n",
              " 'less': 399,\n",
              " 'let': 400,\n",
              " 'level': 401,\n",
              " 'liability': 402,\n",
              " 'license': 403,\n",
              " 'life': 404,\n",
              " 'light': 405,\n",
              " 'like': 406,\n",
              " 'limit': 407,\n",
              " 'line': 408,\n",
              " 'link': 409,\n",
              " 'linkedin': 410,\n",
              " 'list': 411,\n",
              " 'little': 412,\n",
              " 'live': 413,\n",
              " 'll': 414,\n",
              " 'llc': 415,\n",
              " 'loan': 416,\n",
              " 'local': 417,\n",
              " 'locate': 418,\n",
              " 'location': 419,\n",
              " 'log': 420,\n",
              " 'login': 421,\n",
              " 'long': 422,\n",
              " 'longterm': 423,\n",
              " 'look': 424,\n",
              " 'loss': 425,\n",
              " 'lot': 426,\n",
              " 'love': 427,\n",
              " 'low': 428,\n",
              " 'ltd': 429,\n",
              " 'main': 430,\n",
              " 'maintain': 431,\n",
              " 'maintenance': 432,\n",
              " 'major': 433,\n",
              " 'make': 434,\n",
              " 'manage': 435,\n",
              " 'management': 436,\n",
              " 'manager': 437,\n",
              " 'manufacture': 438,\n",
              " 'manufacturer': 439,\n",
              " 'many': 440,\n",
              " 'map': 441,\n",
              " 'market': 442,\n",
              " 'marketing': 443,\n",
              " 'material': 444,\n",
              " 'matter': 445,\n",
              " 'may': 446,\n",
              " 'mean': 447,\n",
              " 'medical': 448,\n",
              " 'medicine': 449,\n",
              " 'medium': 450,\n",
              " 'meet': 451,\n",
              " 'meeting': 452,\n",
              " 'member': 453,\n",
              " 'menu': 454,\n",
              " 'message': 455,\n",
              " 'metal': 456,\n",
              " 'million': 457,\n",
              " 'mind': 458,\n",
              " 'minute': 459,\n",
              " 'mission': 460,\n",
              " 'mobile': 461,\n",
              " 'modern': 462,\n",
              " 'monday': 463,\n",
              " 'money': 464,\n",
              " 'monitor': 465,\n",
              " 'month': 466,\n",
              " 'monthly': 467,\n",
              " 'mortgage': 468,\n",
              " 'move': 469,\n",
              " 'much': 470,\n",
              " 'multiple': 471,\n",
              " 'must': 472,\n",
              " 'name': 473,\n",
              " 'national': 474,\n",
              " 'natural': 475,\n",
              " 'navigation': 476,\n",
              " 'necessary': 477,\n",
              " 'need': 478,\n",
              " 'network': 479,\n",
              " 'never': 480,\n",
              " 'new': 481,\n",
              " 'news': 482,\n",
              " 'newsletter': 483,\n",
              " 'next': 484,\n",
              " 'north': 485,\n",
              " 'notice': 486,\n",
              " 'number': 487,\n",
              " 'offer': 488,\n",
              " 'offering': 489,\n",
              " 'office': 490,\n",
              " 'often': 491,\n",
              " 'oil': 492,\n",
              " 'old': 493,\n",
              " 'one': 494,\n",
              " 'online': 495,\n",
              " 'open': 496,\n",
              " 'operate': 497,\n",
              " 'operation': 498,\n",
              " 'opportunity': 499,\n",
              " 'option': 500,\n",
              " 'order': 501,\n",
              " 'organization': 502,\n",
              " 'others': 503,\n",
              " 'outstanding': 504,\n",
              " 'overview': 505,\n",
              " 'own': 506,\n",
              " 'owner': 507,\n",
              " 'package': 508,\n",
              " 'page': 509,\n",
              " 'panel': 510,\n",
              " 'park': 511,\n",
              " 'part': 512,\n",
              " 'partner': 513,\n",
              " 'partnership': 514,\n",
              " 'party': 515,\n",
              " 'past': 516,\n",
              " 'patient': 517,\n",
              " 'pay': 518,\n",
              " 'payment': 519,\n",
              " 'peace': 520,\n",
              " 'people': 521,\n",
              " 'per': 522,\n",
              " 'perfect': 523,\n",
              " 'perform': 524,\n",
              " 'performance': 525,\n",
              " 'person': 526,\n",
              " 'personal': 527,\n",
              " 'pet': 528,\n",
              " 'phone': 529,\n",
              " 'physical': 530,\n",
              " 'physician': 531,\n",
              " 'place': 532,\n",
              " 'plan': 533,\n",
              " 'planning': 534,\n",
              " 'please': 535,\n",
              " 'pm': 536,\n",
              " 'point': 537,\n",
              " 'policy': 538,\n",
              " 'portal': 539,\n",
              " 'portfolio': 540,\n",
              " 'possible': 541,\n",
              " 'post': 542,\n",
              " 'potential': 543,\n",
              " 'power': 544,\n",
              " 'practice': 545,\n",
              " 'prepare': 546,\n",
              " 'present': 547,\n",
              " 'press': 548,\n",
              " 'previous': 549,\n",
              " 'price': 550,\n",
              " 'pricing': 551,\n",
              " 'pride': 552,\n",
              " 'primary': 553,\n",
              " 'priority': 554,\n",
              " 'privacy': 555,\n",
              " 'private': 556,\n",
              " 'problem': 557,\n",
              " 'procedure': 558,\n",
              " 'process': 559,\n",
              " 'produce': 560,\n",
              " 'product': 561,\n",
              " 'production': 562,\n",
              " 'professional': 563,\n",
              " 'profile': 564,\n",
              " 'program': 565,\n",
              " 'project': 566,\n",
              " 'property': 567,\n",
              " 'protect': 568,\n",
              " 'protection': 569,\n",
              " 'proud': 570,\n",
              " 'proudly': 571,\n",
              " 'provide': 572,\n",
              " 'provider': 573,\n",
              " 'public': 574,\n",
              " 'purchase': 575,\n",
              " 'purpose': 576,\n",
              " 'put': 577,\n",
              " 'qualify': 578,\n",
              " 'quality': 579,\n",
              " 'question': 580,\n",
              " 'quick': 581,\n",
              " 'quickly': 582,\n",
              " 'quote': 583,\n",
              " 'range': 584,\n",
              " 'rate': 585,\n",
              " 'rd': 586,\n",
              " 're': 587,\n",
              " 'reach': 588,\n",
              " 'read': 589,\n",
              " 'ready': 590,\n",
              " 'real': 591,\n",
              " 'really': 592,\n",
              " 'reason': 593,\n",
              " 'receive': 594,\n",
              " 'recent': 595,\n",
              " 'recently': 596,\n",
              " 'recognize': 597,\n",
              " 'recommend': 598,\n",
              " 'record': 599,\n",
              " 'reduce': 600,\n",
              " 'refer': 601,\n",
              " 'regard': 602,\n",
              " 'register': 603,\n",
              " 'registration': 604,\n",
              " 'relationship': 605,\n",
              " 'release': 606,\n",
              " 'reliable': 607,\n",
              " 'repair': 608,\n",
              " 'report': 609,\n",
              " 'represent': 610,\n",
              " 'reputation': 611,\n",
              " 'request': 612,\n",
              " 'require': 613,\n",
              " 'requirement': 614,\n",
              " 'research': 615,\n",
              " 'reserve': 616,\n",
              " 'residential': 617,\n",
              " 'resource': 618,\n",
              " 'respect': 619,\n",
              " 'response': 620,\n",
              " 'responsibility': 621,\n",
              " 'result': 622,\n",
              " 'retail': 623,\n",
              " 'retirement': 624,\n",
              " 'return': 625,\n",
              " 'review': 626,\n",
              " 'right': 627,\n",
              " 'risk': 628,\n",
              " 'road': 629,\n",
              " 'room': 630,\n",
              " 'run': 631,\n",
              " 'safe': 632,\n",
              " 'safety': 633,\n",
              " 'sale': 634,\n",
              " 'satisfaction': 635,\n",
              " 'saturday': 636,\n",
              " 'save': 637,\n",
              " 'saving': 638,\n",
              " 'say': 639,\n",
              " 'schedule': 640,\n",
              " 'school': 641,\n",
              " 'search': 642,\n",
              " 'second': 643,\n",
              " 'sector': 644,\n",
              " 'secure': 645,\n",
              " 'security': 646,\n",
              " 'see': 647,\n",
              " 'seek': 648,\n",
              " 'select': 649,\n",
              " 'sell': 650,\n",
              " 'send': 651,\n",
              " 'senior': 652,\n",
              " 'serve': 653,\n",
              " 'service': 654,\n",
              " 'set': 655,\n",
              " 'several': 656,\n",
              " 'share': 657,\n",
              " 'shop': 658,\n",
              " 'short': 659,\n",
              " 'show': 660,\n",
              " 'sign': 661,\n",
              " 'simple': 662,\n",
              " 'simply': 663,\n",
              " 'since': 664,\n",
              " 'single': 665,\n",
              " 'sit': 666,\n",
              " 'site': 667,\n",
              " 'sitemap': 668,\n",
              " 'situation': 669,\n",
              " 'size': 670,\n",
              " 'skill': 671,\n",
              " 'skilled': 672,\n",
              " 'skip': 673,\n",
              " 'small': 674,\n",
              " 'smart': 675,\n",
              " 'social': 676,\n",
              " 'solar': 677,\n",
              " 'solution': 678,\n",
              " 'something': 679,\n",
              " 'soon': 680,\n",
              " 'source': 681,\n",
              " 'south': 682,\n",
              " 'space': 683,\n",
              " 'speak': 684,\n",
              " 'special': 685,\n",
              " 'specialist': 686,\n",
              " 'specialize': 687,\n",
              " 'specialty': 688,\n",
              " 'specific': 689,\n",
              " 'st': 690,\n",
              " 'staff': 691,\n",
              " 'stand': 692,\n",
              " 'standard': 693,\n",
              " 'start': 694,\n",
              " 'state': 695,\n",
              " 'statement': 696,\n",
              " 'stay': 697,\n",
              " 'step': 698,\n",
              " 'still': 699,\n",
              " 'stock': 700,\n",
              " 'stop': 701,\n",
              " 'storage': 702,\n",
              " 'store': 703,\n",
              " 'story': 704,\n",
              " 'strategy': 705,\n",
              " 'street': 706,\n",
              " 'strive': 707,\n",
              " 'strong': 708,\n",
              " 'structure': 709,\n",
              " 'study': 710,\n",
              " 'subject': 711,\n",
              " 'submit': 712,\n",
              " 'subscribe': 713,\n",
              " 'success': 714,\n",
              " 'successful': 715,\n",
              " 'suit': 716,\n",
              " 'suite': 717,\n",
              " 'sunday': 718,\n",
              " 'superior': 719,\n",
              " 'supplier': 720,\n",
              " 'supply': 721,\n",
              " 'support': 722,\n",
              " 'sure': 723,\n",
              " 'surgery': 724,\n",
              " 'surgical': 725,\n",
              " 'surround': 726,\n",
              " 'system': 727,\n",
              " 'tailor': 728,\n",
              " 'take': 729,\n",
              " 'talk': 730,\n",
              " 'tax': 731,\n",
              " 'team': 732,\n",
              " 'technical': 733,\n",
              " 'technology': 734,\n",
              " 'tel': 735,\n",
              " 'tell': 736,\n",
              " 'term': 737,\n",
              " 'test': 738,\n",
              " 'testimonial': 739,\n",
              " 'texas': 740,\n",
              " 'th': 741,\n",
              " 'thank': 742,\n",
              " 'thanks': 743,\n",
              " 'therapy': 744,\n",
              " 'thing': 745,\n",
              " 'think': 746,\n",
              " 'three': 747,\n",
              " 'throughout': 748,\n",
              " 'time': 749,\n",
              " 'tip': 750,\n",
              " 'today': 751,\n",
              " 'together': 752,\n",
              " 'toggle': 753,\n",
              " 'tool': 754,\n",
              " 'top': 755,\n",
              " 'total': 756,\n",
              " 'touch': 757,\n",
              " 'track': 758,\n",
              " 'trade': 759,\n",
              " 'train': 760,\n",
              " 'training': 761,\n",
              " 'travel': 762,\n",
              " 'treat': 763,\n",
              " 'treatment': 764,\n",
              " 'trust': 765,\n",
              " 'try': 766,\n",
              " 'turn': 767,\n",
              " 'twitter': 768,\n",
              " 'two': 769,\n",
              " 'type': 770,\n",
              " 'uk': 771,\n",
              " 'understand': 772,\n",
              " 'unique': 773,\n",
              " 'unit': 774,\n",
              " 'united': 775,\n",
              " 'university': 776,\n",
              " 'update': 777,\n",
              " 'use': 778,\n",
              " 'user': 779,\n",
              " 'value': 780,\n",
              " 'variety': 781,\n",
              " 'various': 782,\n",
              " 've': 783,\n",
              " 'vehicle': 784,\n",
              " 'veterinary': 785,\n",
              " 'via': 786,\n",
              " 'video': 787,\n",
              " 'view': 788,\n",
              " 'vision': 789,\n",
              " 'visit': 790,\n",
              " 'wait': 791,\n",
              " 'want': 792,\n",
              " 'watch': 793,\n",
              " 'water': 794,\n",
              " 'way': 795,\n",
              " 'we': 796,\n",
              " 'wealth': 797,\n",
              " 'web': 798,\n",
              " 'website': 799,\n",
              " 'week': 800,\n",
              " 'welcome': 801,\n",
              " 'well': 802,\n",
              " 'west': 803,\n",
              " 'whether': 804,\n",
              " 'whole': 805,\n",
              " 'wide': 806,\n",
              " 'win': 807,\n",
              " 'within': 808,\n",
              " 'without': 809,\n",
              " 'work': 810,\n",
              " 'worker': 811,\n",
              " 'world': 812,\n",
              " 'would': 813,\n",
              " 'write': 814,\n",
              " 'year': 815,\n",
              " 'york': 816,\n",
              " 'you': 817,\n",
              " 'youre': 818}"
            ]
          },
          "metadata": {
            "tags": []
          },
          "execution_count": 83
        }
      ]
    },
    {
      "cell_type": "code",
      "metadata": {
        "id": "SP7YTFwp_GvU"
      },
      "source": [
        "df_ = pd.DataFrame(array, columns=tfid_vectorizer.get_feature_names())"
      ],
      "execution_count": 88,
      "outputs": []
    },
    {
      "cell_type": "code",
      "metadata": {
        "colab": {
          "base_uri": "https://localhost:8080/",
          "height": 246
        },
        "id": "TMYncBrFAGWX",
        "outputId": "77acc302-77f0-45d7-8794-88816decafb5"
      },
      "source": [
        "df_.head()"
      ],
      "execution_count": 90,
      "outputs": [
        {
          "output_type": "execute_result",
          "data": {
            "text/html": [
              "<div>\n",
              "<style scoped>\n",
              "    .dataframe tbody tr th:only-of-type {\n",
              "        vertical-align: middle;\n",
              "    }\n",
              "\n",
              "    .dataframe tbody tr th {\n",
              "        vertical-align: top;\n",
              "    }\n",
              "\n",
              "    .dataframe thead th {\n",
              "        text-align: right;\n",
              "    }\n",
              "</style>\n",
              "<table border=\"1\" class=\"dataframe\">\n",
              "  <thead>\n",
              "    <tr style=\"text-align: right;\">\n",
              "      <th></th>\n",
              "      <th>ability</th>\n",
              "      <th>able</th>\n",
              "      <th>accept</th>\n",
              "      <th>access</th>\n",
              "      <th>accessibility</th>\n",
              "      <th>account</th>\n",
              "      <th>achieve</th>\n",
              "      <th>across</th>\n",
              "      <th>act</th>\n",
              "      <th>action</th>\n",
              "      <th>activity</th>\n",
              "      <th>add</th>\n",
              "      <th>addition</th>\n",
              "      <th>additional</th>\n",
              "      <th>address</th>\n",
              "      <th>advance</th>\n",
              "      <th>advantage</th>\n",
              "      <th>advice</th>\n",
              "      <th>advisor</th>\n",
              "      <th>affordable</th>\n",
              "      <th>age</th>\n",
              "      <th>agency</th>\n",
              "      <th>agent</th>\n",
              "      <th>air</th>\n",
              "      <th>allow</th>\n",
              "      <th>along</th>\n",
              "      <th>also</th>\n",
              "      <th>always</th>\n",
              "      <th>american</th>\n",
              "      <th>amount</th>\n",
              "      <th>analysis</th>\n",
              "      <th>animal</th>\n",
              "      <th>annual</th>\n",
              "      <th>another</th>\n",
              "      <th>answer</th>\n",
              "      <th>anyone</th>\n",
              "      <th>application</th>\n",
              "      <th>apply</th>\n",
              "      <th>appointment</th>\n",
              "      <th>approach</th>\n",
              "      <th>...</th>\n",
              "      <th>user</th>\n",
              "      <th>value</th>\n",
              "      <th>variety</th>\n",
              "      <th>various</th>\n",
              "      <th>ve</th>\n",
              "      <th>vehicle</th>\n",
              "      <th>veterinary</th>\n",
              "      <th>via</th>\n",
              "      <th>video</th>\n",
              "      <th>view</th>\n",
              "      <th>vision</th>\n",
              "      <th>visit</th>\n",
              "      <th>wait</th>\n",
              "      <th>want</th>\n",
              "      <th>watch</th>\n",
              "      <th>water</th>\n",
              "      <th>way</th>\n",
              "      <th>we</th>\n",
              "      <th>wealth</th>\n",
              "      <th>web</th>\n",
              "      <th>website</th>\n",
              "      <th>week</th>\n",
              "      <th>welcome</th>\n",
              "      <th>well</th>\n",
              "      <th>west</th>\n",
              "      <th>whether</th>\n",
              "      <th>whole</th>\n",
              "      <th>wide</th>\n",
              "      <th>win</th>\n",
              "      <th>within</th>\n",
              "      <th>without</th>\n",
              "      <th>work</th>\n",
              "      <th>worker</th>\n",
              "      <th>world</th>\n",
              "      <th>would</th>\n",
              "      <th>write</th>\n",
              "      <th>year</th>\n",
              "      <th>york</th>\n",
              "      <th>you</th>\n",
              "      <th>youre</th>\n",
              "    </tr>\n",
              "  </thead>\n",
              "  <tbody>\n",
              "    <tr>\n",
              "      <th>0</th>\n",
              "      <td>0.0</td>\n",
              "      <td>0.00000</td>\n",
              "      <td>0.0</td>\n",
              "      <td>0.000000</td>\n",
              "      <td>0.0</td>\n",
              "      <td>0.0</td>\n",
              "      <td>0.0</td>\n",
              "      <td>0.0</td>\n",
              "      <td>0.0</td>\n",
              "      <td>0.0</td>\n",
              "      <td>0.0</td>\n",
              "      <td>0.0</td>\n",
              "      <td>0.0</td>\n",
              "      <td>0.0</td>\n",
              "      <td>0.0</td>\n",
              "      <td>0.0</td>\n",
              "      <td>0.000000</td>\n",
              "      <td>0.0</td>\n",
              "      <td>0.0</td>\n",
              "      <td>0.0</td>\n",
              "      <td>0.0</td>\n",
              "      <td>0.0</td>\n",
              "      <td>0.0</td>\n",
              "      <td>0.0</td>\n",
              "      <td>0.0</td>\n",
              "      <td>0.0</td>\n",
              "      <td>0.056172</td>\n",
              "      <td>0.0</td>\n",
              "      <td>0.000000</td>\n",
              "      <td>0.0</td>\n",
              "      <td>0.0</td>\n",
              "      <td>0.0</td>\n",
              "      <td>0.0</td>\n",
              "      <td>0.0</td>\n",
              "      <td>0.0</td>\n",
              "      <td>0.0</td>\n",
              "      <td>0.0</td>\n",
              "      <td>0.0</td>\n",
              "      <td>0.000000</td>\n",
              "      <td>0.0</td>\n",
              "      <td>...</td>\n",
              "      <td>0.0</td>\n",
              "      <td>0.0</td>\n",
              "      <td>0.00000</td>\n",
              "      <td>0.0</td>\n",
              "      <td>0.0</td>\n",
              "      <td>0.0</td>\n",
              "      <td>0.0</td>\n",
              "      <td>0.0</td>\n",
              "      <td>0.0</td>\n",
              "      <td>0.0</td>\n",
              "      <td>0.00000</td>\n",
              "      <td>0.066916</td>\n",
              "      <td>0.0</td>\n",
              "      <td>0.000000</td>\n",
              "      <td>0.0</td>\n",
              "      <td>0.0</td>\n",
              "      <td>0.120987</td>\n",
              "      <td>0.000000</td>\n",
              "      <td>0.0</td>\n",
              "      <td>0.16005</td>\n",
              "      <td>0.000000</td>\n",
              "      <td>0.088375</td>\n",
              "      <td>0.000000</td>\n",
              "      <td>0.000000</td>\n",
              "      <td>0.0</td>\n",
              "      <td>0.000000</td>\n",
              "      <td>0.0</td>\n",
              "      <td>0.0</td>\n",
              "      <td>0.0</td>\n",
              "      <td>0.0</td>\n",
              "      <td>0.0</td>\n",
              "      <td>0.00000</td>\n",
              "      <td>0.0</td>\n",
              "      <td>0.0</td>\n",
              "      <td>0.066614</td>\n",
              "      <td>0.0</td>\n",
              "      <td>0.044752</td>\n",
              "      <td>0.000000</td>\n",
              "      <td>0.000000</td>\n",
              "      <td>0.0</td>\n",
              "    </tr>\n",
              "    <tr>\n",
              "      <th>1</th>\n",
              "      <td>0.0</td>\n",
              "      <td>0.04673</td>\n",
              "      <td>0.0</td>\n",
              "      <td>0.000000</td>\n",
              "      <td>0.0</td>\n",
              "      <td>0.0</td>\n",
              "      <td>0.0</td>\n",
              "      <td>0.0</td>\n",
              "      <td>0.0</td>\n",
              "      <td>0.0</td>\n",
              "      <td>0.0</td>\n",
              "      <td>0.0</td>\n",
              "      <td>0.0</td>\n",
              "      <td>0.0</td>\n",
              "      <td>0.0</td>\n",
              "      <td>0.0</td>\n",
              "      <td>0.000000</td>\n",
              "      <td>0.0</td>\n",
              "      <td>0.0</td>\n",
              "      <td>0.0</td>\n",
              "      <td>0.0</td>\n",
              "      <td>0.0</td>\n",
              "      <td>0.0</td>\n",
              "      <td>0.0</td>\n",
              "      <td>0.0</td>\n",
              "      <td>0.0</td>\n",
              "      <td>0.034507</td>\n",
              "      <td>0.0</td>\n",
              "      <td>0.113462</td>\n",
              "      <td>0.0</td>\n",
              "      <td>0.0</td>\n",
              "      <td>0.0</td>\n",
              "      <td>0.0</td>\n",
              "      <td>0.0</td>\n",
              "      <td>0.0</td>\n",
              "      <td>0.0</td>\n",
              "      <td>0.0</td>\n",
              "      <td>0.0</td>\n",
              "      <td>0.090018</td>\n",
              "      <td>0.0</td>\n",
              "      <td>...</td>\n",
              "      <td>0.0</td>\n",
              "      <td>0.0</td>\n",
              "      <td>0.04918</td>\n",
              "      <td>0.0</td>\n",
              "      <td>0.0</td>\n",
              "      <td>0.0</td>\n",
              "      <td>0.0</td>\n",
              "      <td>0.0</td>\n",
              "      <td>0.0</td>\n",
              "      <td>0.0</td>\n",
              "      <td>0.00000</td>\n",
              "      <td>0.000000</td>\n",
              "      <td>0.0</td>\n",
              "      <td>0.000000</td>\n",
              "      <td>0.0</td>\n",
              "      <td>0.0</td>\n",
              "      <td>0.000000</td>\n",
              "      <td>0.000000</td>\n",
              "      <td>0.0</td>\n",
              "      <td>0.00000</td>\n",
              "      <td>0.000000</td>\n",
              "      <td>0.000000</td>\n",
              "      <td>0.037381</td>\n",
              "      <td>0.000000</td>\n",
              "      <td>0.0</td>\n",
              "      <td>0.043430</td>\n",
              "      <td>0.0</td>\n",
              "      <td>0.0</td>\n",
              "      <td>0.0</td>\n",
              "      <td>0.0</td>\n",
              "      <td>0.0</td>\n",
              "      <td>0.00000</td>\n",
              "      <td>0.0</td>\n",
              "      <td>0.0</td>\n",
              "      <td>0.000000</td>\n",
              "      <td>0.0</td>\n",
              "      <td>0.000000</td>\n",
              "      <td>0.000000</td>\n",
              "      <td>0.000000</td>\n",
              "      <td>0.0</td>\n",
              "    </tr>\n",
              "    <tr>\n",
              "      <th>2</th>\n",
              "      <td>0.0</td>\n",
              "      <td>0.00000</td>\n",
              "      <td>0.0</td>\n",
              "      <td>0.000000</td>\n",
              "      <td>0.0</td>\n",
              "      <td>0.0</td>\n",
              "      <td>0.0</td>\n",
              "      <td>0.0</td>\n",
              "      <td>0.0</td>\n",
              "      <td>0.0</td>\n",
              "      <td>0.0</td>\n",
              "      <td>0.0</td>\n",
              "      <td>0.0</td>\n",
              "      <td>0.0</td>\n",
              "      <td>0.0</td>\n",
              "      <td>0.0</td>\n",
              "      <td>0.018341</td>\n",
              "      <td>0.0</td>\n",
              "      <td>0.0</td>\n",
              "      <td>0.0</td>\n",
              "      <td>0.0</td>\n",
              "      <td>0.0</td>\n",
              "      <td>0.0</td>\n",
              "      <td>0.0</td>\n",
              "      <td>0.0</td>\n",
              "      <td>0.0</td>\n",
              "      <td>0.011370</td>\n",
              "      <td>0.0</td>\n",
              "      <td>0.000000</td>\n",
              "      <td>0.0</td>\n",
              "      <td>0.0</td>\n",
              "      <td>0.0</td>\n",
              "      <td>0.0</td>\n",
              "      <td>0.0</td>\n",
              "      <td>0.0</td>\n",
              "      <td>0.0</td>\n",
              "      <td>0.0</td>\n",
              "      <td>0.0</td>\n",
              "      <td>0.000000</td>\n",
              "      <td>0.0</td>\n",
              "      <td>...</td>\n",
              "      <td>0.0</td>\n",
              "      <td>0.0</td>\n",
              "      <td>0.00000</td>\n",
              "      <td>0.0</td>\n",
              "      <td>0.0</td>\n",
              "      <td>0.0</td>\n",
              "      <td>0.0</td>\n",
              "      <td>0.0</td>\n",
              "      <td>0.0</td>\n",
              "      <td>0.0</td>\n",
              "      <td>0.00000</td>\n",
              "      <td>0.000000</td>\n",
              "      <td>0.0</td>\n",
              "      <td>0.052332</td>\n",
              "      <td>0.0</td>\n",
              "      <td>0.0</td>\n",
              "      <td>0.000000</td>\n",
              "      <td>0.056032</td>\n",
              "      <td>0.0</td>\n",
              "      <td>0.00000</td>\n",
              "      <td>0.000000</td>\n",
              "      <td>0.000000</td>\n",
              "      <td>0.049267</td>\n",
              "      <td>0.084709</td>\n",
              "      <td>0.0</td>\n",
              "      <td>0.014310</td>\n",
              "      <td>0.0</td>\n",
              "      <td>0.0</td>\n",
              "      <td>0.0</td>\n",
              "      <td>0.0</td>\n",
              "      <td>0.0</td>\n",
              "      <td>0.06762</td>\n",
              "      <td>0.0</td>\n",
              "      <td>0.0</td>\n",
              "      <td>0.000000</td>\n",
              "      <td>0.0</td>\n",
              "      <td>0.045293</td>\n",
              "      <td>0.019667</td>\n",
              "      <td>0.015652</td>\n",
              "      <td>0.0</td>\n",
              "    </tr>\n",
              "    <tr>\n",
              "      <th>3</th>\n",
              "      <td>0.0</td>\n",
              "      <td>0.00000</td>\n",
              "      <td>0.0</td>\n",
              "      <td>0.081646</td>\n",
              "      <td>0.0</td>\n",
              "      <td>0.0</td>\n",
              "      <td>0.0</td>\n",
              "      <td>0.0</td>\n",
              "      <td>0.0</td>\n",
              "      <td>0.0</td>\n",
              "      <td>0.0</td>\n",
              "      <td>0.0</td>\n",
              "      <td>0.0</td>\n",
              "      <td>0.0</td>\n",
              "      <td>0.0</td>\n",
              "      <td>0.0</td>\n",
              "      <td>0.000000</td>\n",
              "      <td>0.0</td>\n",
              "      <td>0.0</td>\n",
              "      <td>0.0</td>\n",
              "      <td>0.0</td>\n",
              "      <td>0.0</td>\n",
              "      <td>0.0</td>\n",
              "      <td>0.0</td>\n",
              "      <td>0.0</td>\n",
              "      <td>0.0</td>\n",
              "      <td>0.000000</td>\n",
              "      <td>0.0</td>\n",
              "      <td>0.000000</td>\n",
              "      <td>0.0</td>\n",
              "      <td>0.0</td>\n",
              "      <td>0.0</td>\n",
              "      <td>0.0</td>\n",
              "      <td>0.0</td>\n",
              "      <td>0.0</td>\n",
              "      <td>0.0</td>\n",
              "      <td>0.0</td>\n",
              "      <td>0.0</td>\n",
              "      <td>0.174090</td>\n",
              "      <td>0.0</td>\n",
              "      <td>...</td>\n",
              "      <td>0.0</td>\n",
              "      <td>0.0</td>\n",
              "      <td>0.00000</td>\n",
              "      <td>0.0</td>\n",
              "      <td>0.0</td>\n",
              "      <td>0.0</td>\n",
              "      <td>0.0</td>\n",
              "      <td>0.0</td>\n",
              "      <td>0.0</td>\n",
              "      <td>0.0</td>\n",
              "      <td>0.29921</td>\n",
              "      <td>0.079501</td>\n",
              "      <td>0.0</td>\n",
              "      <td>0.000000</td>\n",
              "      <td>0.0</td>\n",
              "      <td>0.0</td>\n",
              "      <td>0.000000</td>\n",
              "      <td>0.000000</td>\n",
              "      <td>0.0</td>\n",
              "      <td>0.00000</td>\n",
              "      <td>0.130771</td>\n",
              "      <td>0.000000</td>\n",
              "      <td>0.144587</td>\n",
              "      <td>0.000000</td>\n",
              "      <td>0.0</td>\n",
              "      <td>0.000000</td>\n",
              "      <td>0.0</td>\n",
              "      <td>0.0</td>\n",
              "      <td>0.0</td>\n",
              "      <td>0.0</td>\n",
              "      <td>0.0</td>\n",
              "      <td>0.00000</td>\n",
              "      <td>0.0</td>\n",
              "      <td>0.0</td>\n",
              "      <td>0.079142</td>\n",
              "      <td>0.0</td>\n",
              "      <td>0.000000</td>\n",
              "      <td>0.000000</td>\n",
              "      <td>0.000000</td>\n",
              "      <td>0.0</td>\n",
              "    </tr>\n",
              "    <tr>\n",
              "      <th>4</th>\n",
              "      <td>0.0</td>\n",
              "      <td>0.00000</td>\n",
              "      <td>0.0</td>\n",
              "      <td>0.245030</td>\n",
              "      <td>0.0</td>\n",
              "      <td>0.0</td>\n",
              "      <td>0.0</td>\n",
              "      <td>0.0</td>\n",
              "      <td>0.0</td>\n",
              "      <td>0.0</td>\n",
              "      <td>0.0</td>\n",
              "      <td>0.0</td>\n",
              "      <td>0.0</td>\n",
              "      <td>0.0</td>\n",
              "      <td>0.0</td>\n",
              "      <td>0.0</td>\n",
              "      <td>0.000000</td>\n",
              "      <td>0.0</td>\n",
              "      <td>0.0</td>\n",
              "      <td>0.0</td>\n",
              "      <td>0.0</td>\n",
              "      <td>0.0</td>\n",
              "      <td>0.0</td>\n",
              "      <td>0.0</td>\n",
              "      <td>0.0</td>\n",
              "      <td>0.0</td>\n",
              "      <td>0.040056</td>\n",
              "      <td>0.0</td>\n",
              "      <td>0.000000</td>\n",
              "      <td>0.0</td>\n",
              "      <td>0.0</td>\n",
              "      <td>0.0</td>\n",
              "      <td>0.0</td>\n",
              "      <td>0.0</td>\n",
              "      <td>0.0</td>\n",
              "      <td>0.0</td>\n",
              "      <td>0.0</td>\n",
              "      <td>0.0</td>\n",
              "      <td>0.000000</td>\n",
              "      <td>0.0</td>\n",
              "      <td>...</td>\n",
              "      <td>0.0</td>\n",
              "      <td>0.0</td>\n",
              "      <td>0.00000</td>\n",
              "      <td>0.0</td>\n",
              "      <td>0.0</td>\n",
              "      <td>0.0</td>\n",
              "      <td>0.0</td>\n",
              "      <td>0.0</td>\n",
              "      <td>0.0</td>\n",
              "      <td>0.0</td>\n",
              "      <td>0.00000</td>\n",
              "      <td>0.000000</td>\n",
              "      <td>0.0</td>\n",
              "      <td>0.000000</td>\n",
              "      <td>0.0</td>\n",
              "      <td>0.0</td>\n",
              "      <td>0.000000</td>\n",
              "      <td>0.000000</td>\n",
              "      <td>0.0</td>\n",
              "      <td>0.00000</td>\n",
              "      <td>0.039246</td>\n",
              "      <td>0.000000</td>\n",
              "      <td>0.086784</td>\n",
              "      <td>0.037304</td>\n",
              "      <td>0.0</td>\n",
              "      <td>0.050414</td>\n",
              "      <td>0.0</td>\n",
              "      <td>0.0</td>\n",
              "      <td>0.0</td>\n",
              "      <td>0.0</td>\n",
              "      <td>0.0</td>\n",
              "      <td>0.00000</td>\n",
              "      <td>0.0</td>\n",
              "      <td>0.0</td>\n",
              "      <td>0.000000</td>\n",
              "      <td>0.0</td>\n",
              "      <td>0.000000</td>\n",
              "      <td>0.000000</td>\n",
              "      <td>0.000000</td>\n",
              "      <td>0.0</td>\n",
              "    </tr>\n",
              "  </tbody>\n",
              "</table>\n",
              "<p>5 rows × 819 columns</p>\n",
              "</div>"
            ],
            "text/plain": [
              "   ability     able  accept    access  ...      year      york       you  youre\n",
              "0      0.0  0.00000     0.0  0.000000  ...  0.044752  0.000000  0.000000    0.0\n",
              "1      0.0  0.04673     0.0  0.000000  ...  0.000000  0.000000  0.000000    0.0\n",
              "2      0.0  0.00000     0.0  0.000000  ...  0.045293  0.019667  0.015652    0.0\n",
              "3      0.0  0.00000     0.0  0.081646  ...  0.000000  0.000000  0.000000    0.0\n",
              "4      0.0  0.00000     0.0  0.245030  ...  0.000000  0.000000  0.000000    0.0\n",
              "\n",
              "[5 rows x 819 columns]"
            ]
          },
          "metadata": {
            "tags": []
          },
          "execution_count": 90
        }
      ]
    },
    {
      "cell_type": "code",
      "metadata": {
        "id": "pVR1zpkwBBFy"
      },
      "source": [
        "data = df_.T #transposing"
      ],
      "execution_count": 91,
      "outputs": []
    },
    {
      "cell_type": "code",
      "metadata": {
        "colab": {
          "base_uri": "https://localhost:8080/"
        },
        "id": "UW11DRdxBOJ8",
        "outputId": "86401e82-8a38-48bc-d9fb-8d846a97c43d"
      },
      "source": [
        "df_.T.sum(axis=1)"
      ],
      "execution_count": 92,
      "outputs": [
        {
          "output_type": "execute_result",
          "data": {
            "text/plain": [
              "ability          100.799376\n",
              "able             158.856938\n",
              "accept           125.114877\n",
              "access           296.375967\n",
              "accessibility     94.801751\n",
              "                    ...    \n",
              "write            103.496516\n",
              "year             586.291678\n",
              "york             153.133924\n",
              "you              177.296699\n",
              "youre            101.275066\n",
              "Length: 819, dtype: float64"
            ]
          },
          "metadata": {
            "tags": []
          },
          "execution_count": 92
        }
      ]
    },
    {
      "cell_type": "code",
      "metadata": {
        "colab": {
          "base_uri": "https://localhost:8080/",
          "height": 236
        },
        "id": "lRbzBI2kBR_t",
        "outputId": "3e93be88-16fb-4f61-f03c-0bd2ad9663e1"
      },
      "source": [
        "wordcloud = WordCloud(background_color=\"white\", max_words=50).generate_from_frequencies(df_.T.sum(axis=1))\n",
        "plt.imshow(wordcloud)"
      ],
      "execution_count": 93,
      "outputs": [
        {
          "output_type": "execute_result",
          "data": {
            "text/plain": [
              "<matplotlib.image.AxesImage at 0x7fe1a2034d90>"
            ]
          },
          "metadata": {
            "tags": []
          },
          "execution_count": 93
        },
        {
          "output_type": "display_data",
          "data": {
            "image/png": "[encoded data removed]",
            "text/plain": [
              "<Figure size 432x288 with 1 Axes>"
            ]
          },
          "metadata": {
            "tags": [],
            "needs_background": "light"
          }
        }
      ]
    },
    {
      "cell_type": "code",
      "metadata": {
        "id": "zbFw0vkEBeok"
      },
      "source": [
        ""
      ],
      "execution_count": null,
      "outputs": []
    }
  ]
}